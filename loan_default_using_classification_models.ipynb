{
 "cells": [
  {
   "cell_type": "markdown",
   "id": "3e2c5866-b6e1-4895-86f8-af6a9111f0b2",
   "metadata": {
    "tags": []
   },
   "source": [
    "# Classification algorithms on loan dataset"
   ]
  },
  {
   "cell_type": "markdown",
   "id": "161e17e4-4df2-43db-b570-a05b1c154981",
   "metadata": {
    "tags": []
   },
   "source": [
    "## Loan Data set"
   ]
  },
  {
   "cell_type": "markdown",
   "id": "6f5857a3-0e42-40c1-b8c9-868e2f8b1a0d",
   "metadata": {
    "tags": []
   },
   "source": [
    "### Data preprocessing"
   ]
  },
  {
   "cell_type": "code",
   "execution_count": 30,
   "id": "8d571f0c-a613-41c5-b86e-0f0bdcbe9592",
   "metadata": {},
   "outputs": [],
   "source": [
    "#importing rquired libraries\n",
    "import pandas as pd\n",
    "import numpy as np\n",
    "import matplotlib.pyplot as plt\n",
    "import seaborn as sns\n",
    "%matplotlib inline"
   ]
  },
  {
   "cell_type": "code",
   "execution_count": 31,
   "id": "99bf901c-44ee-4d84-a63d-94e94e00a8f8",
   "metadata": {},
   "outputs": [
    {
     "data": {
      "text/html": [
       "<div>\n",
       "<style scoped>\n",
       "    .dataframe tbody tr th:only-of-type {\n",
       "        vertical-align: middle;\n",
       "    }\n",
       "\n",
       "    .dataframe tbody tr th {\n",
       "        vertical-align: top;\n",
       "    }\n",
       "\n",
       "    .dataframe thead th {\n",
       "        text-align: right;\n",
       "    }\n",
       "</style>\n",
       "<table border=\"1\" class=\"dataframe\">\n",
       "  <thead>\n",
       "    <tr style=\"text-align: right;\">\n",
       "      <th></th>\n",
       "      <th>Loan_ID</th>\n",
       "      <th>Gender</th>\n",
       "      <th>Married</th>\n",
       "      <th>Dependents</th>\n",
       "      <th>Education</th>\n",
       "      <th>Self_Employed</th>\n",
       "      <th>ApplicantIncome</th>\n",
       "      <th>CoapplicantIncome</th>\n",
       "      <th>LoanAmount</th>\n",
       "      <th>Loan_Amount_Term</th>\n",
       "      <th>Credit_History</th>\n",
       "      <th>Property_Area</th>\n",
       "      <th>Loan_Status</th>\n",
       "    </tr>\n",
       "  </thead>\n",
       "  <tbody>\n",
       "    <tr>\n",
       "      <th>0</th>\n",
       "      <td>LP001002</td>\n",
       "      <td>Male</td>\n",
       "      <td>No</td>\n",
       "      <td>0</td>\n",
       "      <td>Graduate</td>\n",
       "      <td>No</td>\n",
       "      <td>5849</td>\n",
       "      <td>0.0</td>\n",
       "      <td>NaN</td>\n",
       "      <td>360.0</td>\n",
       "      <td>1.0</td>\n",
       "      <td>Urban</td>\n",
       "      <td>Y</td>\n",
       "    </tr>\n",
       "    <tr>\n",
       "      <th>1</th>\n",
       "      <td>LP001003</td>\n",
       "      <td>Male</td>\n",
       "      <td>Yes</td>\n",
       "      <td>1</td>\n",
       "      <td>Graduate</td>\n",
       "      <td>No</td>\n",
       "      <td>4583</td>\n",
       "      <td>1508.0</td>\n",
       "      <td>128.0</td>\n",
       "      <td>360.0</td>\n",
       "      <td>1.0</td>\n",
       "      <td>Rural</td>\n",
       "      <td>N</td>\n",
       "    </tr>\n",
       "    <tr>\n",
       "      <th>2</th>\n",
       "      <td>LP001005</td>\n",
       "      <td>Male</td>\n",
       "      <td>Yes</td>\n",
       "      <td>0</td>\n",
       "      <td>Graduate</td>\n",
       "      <td>Yes</td>\n",
       "      <td>3000</td>\n",
       "      <td>0.0</td>\n",
       "      <td>66.0</td>\n",
       "      <td>360.0</td>\n",
       "      <td>1.0</td>\n",
       "      <td>Urban</td>\n",
       "      <td>Y</td>\n",
       "    </tr>\n",
       "    <tr>\n",
       "      <th>3</th>\n",
       "      <td>LP001006</td>\n",
       "      <td>Male</td>\n",
       "      <td>Yes</td>\n",
       "      <td>0</td>\n",
       "      <td>Not Graduate</td>\n",
       "      <td>No</td>\n",
       "      <td>2583</td>\n",
       "      <td>2358.0</td>\n",
       "      <td>120.0</td>\n",
       "      <td>360.0</td>\n",
       "      <td>1.0</td>\n",
       "      <td>Urban</td>\n",
       "      <td>Y</td>\n",
       "    </tr>\n",
       "    <tr>\n",
       "      <th>4</th>\n",
       "      <td>LP001008</td>\n",
       "      <td>Male</td>\n",
       "      <td>No</td>\n",
       "      <td>0</td>\n",
       "      <td>Graduate</td>\n",
       "      <td>No</td>\n",
       "      <td>6000</td>\n",
       "      <td>0.0</td>\n",
       "      <td>141.0</td>\n",
       "      <td>360.0</td>\n",
       "      <td>1.0</td>\n",
       "      <td>Urban</td>\n",
       "      <td>Y</td>\n",
       "    </tr>\n",
       "    <tr>\n",
       "      <th>...</th>\n",
       "      <td>...</td>\n",
       "      <td>...</td>\n",
       "      <td>...</td>\n",
       "      <td>...</td>\n",
       "      <td>...</td>\n",
       "      <td>...</td>\n",
       "      <td>...</td>\n",
       "      <td>...</td>\n",
       "      <td>...</td>\n",
       "      <td>...</td>\n",
       "      <td>...</td>\n",
       "      <td>...</td>\n",
       "      <td>...</td>\n",
       "    </tr>\n",
       "    <tr>\n",
       "      <th>609</th>\n",
       "      <td>LP002978</td>\n",
       "      <td>Female</td>\n",
       "      <td>No</td>\n",
       "      <td>0</td>\n",
       "      <td>Graduate</td>\n",
       "      <td>No</td>\n",
       "      <td>2900</td>\n",
       "      <td>0.0</td>\n",
       "      <td>71.0</td>\n",
       "      <td>360.0</td>\n",
       "      <td>1.0</td>\n",
       "      <td>Rural</td>\n",
       "      <td>Y</td>\n",
       "    </tr>\n",
       "    <tr>\n",
       "      <th>610</th>\n",
       "      <td>LP002979</td>\n",
       "      <td>Male</td>\n",
       "      <td>Yes</td>\n",
       "      <td>3+</td>\n",
       "      <td>Graduate</td>\n",
       "      <td>No</td>\n",
       "      <td>4106</td>\n",
       "      <td>0.0</td>\n",
       "      <td>40.0</td>\n",
       "      <td>180.0</td>\n",
       "      <td>1.0</td>\n",
       "      <td>Rural</td>\n",
       "      <td>Y</td>\n",
       "    </tr>\n",
       "    <tr>\n",
       "      <th>611</th>\n",
       "      <td>LP002983</td>\n",
       "      <td>Male</td>\n",
       "      <td>Yes</td>\n",
       "      <td>1</td>\n",
       "      <td>Graduate</td>\n",
       "      <td>No</td>\n",
       "      <td>8072</td>\n",
       "      <td>240.0</td>\n",
       "      <td>253.0</td>\n",
       "      <td>360.0</td>\n",
       "      <td>1.0</td>\n",
       "      <td>Urban</td>\n",
       "      <td>Y</td>\n",
       "    </tr>\n",
       "    <tr>\n",
       "      <th>612</th>\n",
       "      <td>LP002984</td>\n",
       "      <td>Male</td>\n",
       "      <td>Yes</td>\n",
       "      <td>2</td>\n",
       "      <td>Graduate</td>\n",
       "      <td>No</td>\n",
       "      <td>7583</td>\n",
       "      <td>0.0</td>\n",
       "      <td>187.0</td>\n",
       "      <td>360.0</td>\n",
       "      <td>1.0</td>\n",
       "      <td>Urban</td>\n",
       "      <td>Y</td>\n",
       "    </tr>\n",
       "    <tr>\n",
       "      <th>613</th>\n",
       "      <td>LP002990</td>\n",
       "      <td>Female</td>\n",
       "      <td>No</td>\n",
       "      <td>0</td>\n",
       "      <td>Graduate</td>\n",
       "      <td>Yes</td>\n",
       "      <td>4583</td>\n",
       "      <td>0.0</td>\n",
       "      <td>133.0</td>\n",
       "      <td>360.0</td>\n",
       "      <td>0.0</td>\n",
       "      <td>Semiurban</td>\n",
       "      <td>N</td>\n",
       "    </tr>\n",
       "  </tbody>\n",
       "</table>\n",
       "<p>614 rows × 13 columns</p>\n",
       "</div>"
      ],
      "text/plain": [
       "      Loan_ID  Gender Married Dependents     Education Self_Employed  \\\n",
       "0    LP001002    Male      No          0      Graduate            No   \n",
       "1    LP001003    Male     Yes          1      Graduate            No   \n",
       "2    LP001005    Male     Yes          0      Graduate           Yes   \n",
       "3    LP001006    Male     Yes          0  Not Graduate            No   \n",
       "4    LP001008    Male      No          0      Graduate            No   \n",
       "..        ...     ...     ...        ...           ...           ...   \n",
       "609  LP002978  Female      No          0      Graduate            No   \n",
       "610  LP002979    Male     Yes         3+      Graduate            No   \n",
       "611  LP002983    Male     Yes          1      Graduate            No   \n",
       "612  LP002984    Male     Yes          2      Graduate            No   \n",
       "613  LP002990  Female      No          0      Graduate           Yes   \n",
       "\n",
       "     ApplicantIncome  CoapplicantIncome  LoanAmount  Loan_Amount_Term  \\\n",
       "0               5849                0.0         NaN             360.0   \n",
       "1               4583             1508.0       128.0             360.0   \n",
       "2               3000                0.0        66.0             360.0   \n",
       "3               2583             2358.0       120.0             360.0   \n",
       "4               6000                0.0       141.0             360.0   \n",
       "..               ...                ...         ...               ...   \n",
       "609             2900                0.0        71.0             360.0   \n",
       "610             4106                0.0        40.0             180.0   \n",
       "611             8072              240.0       253.0             360.0   \n",
       "612             7583                0.0       187.0             360.0   \n",
       "613             4583                0.0       133.0             360.0   \n",
       "\n",
       "     Credit_History Property_Area Loan_Status  \n",
       "0               1.0         Urban           Y  \n",
       "1               1.0         Rural           N  \n",
       "2               1.0         Urban           Y  \n",
       "3               1.0         Urban           Y  \n",
       "4               1.0         Urban           Y  \n",
       "..              ...           ...         ...  \n",
       "609             1.0         Rural           Y  \n",
       "610             1.0         Rural           Y  \n",
       "611             1.0         Urban           Y  \n",
       "612             1.0         Urban           Y  \n",
       "613             0.0     Semiurban           N  \n",
       "\n",
       "[614 rows x 13 columns]"
      ]
     },
     "execution_count": 31,
     "metadata": {},
     "output_type": "execute_result"
    }
   ],
   "source": [
    "#importing data set\n",
    "d= pd.read_csv('D:\\\\MBA RAJESH(D)\\\\MBA SEM 3\\\\GE 372 PREDICTIVE ANALYTICS\\\\python\\\\knn\\\\loan_data_set.csv')\n",
    "d"
   ]
  },
  {
   "cell_type": "code",
   "execution_count": 32,
   "id": "ce090bd5-5659-41a1-9327-3a0a4e1a4c53",
   "metadata": {},
   "outputs": [
    {
     "data": {
      "text/plain": [
       "Loan_ID               0\n",
       "Gender               13\n",
       "Married               3\n",
       "Dependents           15\n",
       "Education             0\n",
       "Self_Employed        32\n",
       "ApplicantIncome       0\n",
       "CoapplicantIncome     0\n",
       "LoanAmount           22\n",
       "Loan_Amount_Term     14\n",
       "Credit_History       50\n",
       "Property_Area         0\n",
       "Loan_Status           0\n",
       "dtype: int64"
      ]
     },
     "execution_count": 32,
     "metadata": {},
     "output_type": "execute_result"
    }
   ],
   "source": [
    "#checking for missing values\n",
    "d.isnull().sum()"
   ]
  },
  {
   "cell_type": "code",
   "execution_count": 33,
   "id": "6b6de7f8-59ea-414d-8624-268de9adf573",
   "metadata": {},
   "outputs": [],
   "source": [
    "#filling missing values with mode\n",
    "d['Gender'] = d['Gender'].fillna(d['Gender'].mode().values[0])\n",
    "d['Married'] = d['Married'].fillna(d['Married'].mode().values[0])\n",
    "d['Dependents'] = d['Dependents'].fillna(d['Dependents'].mode().values[0])\n",
    "d['Loan_Amount_Term'] = d['Loan_Amount_Term'].fillna(d['Loan_Amount_Term'].mode().values[0])\n",
    "d['LoanAmount'] = d['LoanAmount'].fillna(d['LoanAmount'].mode().values[0])\n",
    "d['Self_Employed'] = d['Self_Employed'].fillna(d['Self_Employed'].mode().values[0])\n",
    "d['Credit_History'] = d['Credit_History'].fillna(d['Credit_History'].mode().values[0])"
   ]
  },
  {
   "cell_type": "code",
   "execution_count": 34,
   "id": "73e89926-02a6-4c51-87a2-d9b8753beb01",
   "metadata": {},
   "outputs": [
    {
     "data": {
      "text/plain": [
       "Loan_ID              0\n",
       "Gender               0\n",
       "Married              0\n",
       "Dependents           0\n",
       "Education            0\n",
       "Self_Employed        0\n",
       "ApplicantIncome      0\n",
       "CoapplicantIncome    0\n",
       "LoanAmount           0\n",
       "Loan_Amount_Term     0\n",
       "Credit_History       0\n",
       "Property_Area        0\n",
       "Loan_Status          0\n",
       "dtype: int64"
      ]
     },
     "execution_count": 34,
     "metadata": {},
     "output_type": "execute_result"
    }
   ],
   "source": [
    "#checking for null values\n",
    "d.isnull().sum()"
   ]
  },
  {
   "cell_type": "code",
   "execution_count": 35,
   "id": "f784b128-a42b-4fab-90e8-c0ec2a033eb8",
   "metadata": {},
   "outputs": [
    {
     "data": {
      "text/html": [
       "<div>\n",
       "<style scoped>\n",
       "    .dataframe tbody tr th:only-of-type {\n",
       "        vertical-align: middle;\n",
       "    }\n",
       "\n",
       "    .dataframe tbody tr th {\n",
       "        vertical-align: top;\n",
       "    }\n",
       "\n",
       "    .dataframe thead th {\n",
       "        text-align: right;\n",
       "    }\n",
       "</style>\n",
       "<table border=\"1\" class=\"dataframe\">\n",
       "  <thead>\n",
       "    <tr style=\"text-align: right;\">\n",
       "      <th></th>\n",
       "      <th>Gender</th>\n",
       "      <th>Married</th>\n",
       "      <th>Dependents</th>\n",
       "      <th>Education</th>\n",
       "      <th>Self_Employed</th>\n",
       "      <th>ApplicantIncome</th>\n",
       "      <th>CoapplicantIncome</th>\n",
       "      <th>LoanAmount</th>\n",
       "      <th>Loan_Amount_Term</th>\n",
       "      <th>Credit_History</th>\n",
       "      <th>Property_Area</th>\n",
       "      <th>Loan_Status</th>\n",
       "    </tr>\n",
       "  </thead>\n",
       "  <tbody>\n",
       "    <tr>\n",
       "      <th>0</th>\n",
       "      <td>Male</td>\n",
       "      <td>No</td>\n",
       "      <td>0</td>\n",
       "      <td>Graduate</td>\n",
       "      <td>No</td>\n",
       "      <td>5849</td>\n",
       "      <td>0.0</td>\n",
       "      <td>120.0</td>\n",
       "      <td>360.0</td>\n",
       "      <td>1.0</td>\n",
       "      <td>Urban</td>\n",
       "      <td>Y</td>\n",
       "    </tr>\n",
       "    <tr>\n",
       "      <th>1</th>\n",
       "      <td>Male</td>\n",
       "      <td>Yes</td>\n",
       "      <td>1</td>\n",
       "      <td>Graduate</td>\n",
       "      <td>No</td>\n",
       "      <td>4583</td>\n",
       "      <td>1508.0</td>\n",
       "      <td>128.0</td>\n",
       "      <td>360.0</td>\n",
       "      <td>1.0</td>\n",
       "      <td>Rural</td>\n",
       "      <td>N</td>\n",
       "    </tr>\n",
       "    <tr>\n",
       "      <th>2</th>\n",
       "      <td>Male</td>\n",
       "      <td>Yes</td>\n",
       "      <td>0</td>\n",
       "      <td>Graduate</td>\n",
       "      <td>Yes</td>\n",
       "      <td>3000</td>\n",
       "      <td>0.0</td>\n",
       "      <td>66.0</td>\n",
       "      <td>360.0</td>\n",
       "      <td>1.0</td>\n",
       "      <td>Urban</td>\n",
       "      <td>Y</td>\n",
       "    </tr>\n",
       "    <tr>\n",
       "      <th>3</th>\n",
       "      <td>Male</td>\n",
       "      <td>Yes</td>\n",
       "      <td>0</td>\n",
       "      <td>Not Graduate</td>\n",
       "      <td>No</td>\n",
       "      <td>2583</td>\n",
       "      <td>2358.0</td>\n",
       "      <td>120.0</td>\n",
       "      <td>360.0</td>\n",
       "      <td>1.0</td>\n",
       "      <td>Urban</td>\n",
       "      <td>Y</td>\n",
       "    </tr>\n",
       "    <tr>\n",
       "      <th>4</th>\n",
       "      <td>Male</td>\n",
       "      <td>No</td>\n",
       "      <td>0</td>\n",
       "      <td>Graduate</td>\n",
       "      <td>No</td>\n",
       "      <td>6000</td>\n",
       "      <td>0.0</td>\n",
       "      <td>141.0</td>\n",
       "      <td>360.0</td>\n",
       "      <td>1.0</td>\n",
       "      <td>Urban</td>\n",
       "      <td>Y</td>\n",
       "    </tr>\n",
       "    <tr>\n",
       "      <th>...</th>\n",
       "      <td>...</td>\n",
       "      <td>...</td>\n",
       "      <td>...</td>\n",
       "      <td>...</td>\n",
       "      <td>...</td>\n",
       "      <td>...</td>\n",
       "      <td>...</td>\n",
       "      <td>...</td>\n",
       "      <td>...</td>\n",
       "      <td>...</td>\n",
       "      <td>...</td>\n",
       "      <td>...</td>\n",
       "    </tr>\n",
       "    <tr>\n",
       "      <th>609</th>\n",
       "      <td>Female</td>\n",
       "      <td>No</td>\n",
       "      <td>0</td>\n",
       "      <td>Graduate</td>\n",
       "      <td>No</td>\n",
       "      <td>2900</td>\n",
       "      <td>0.0</td>\n",
       "      <td>71.0</td>\n",
       "      <td>360.0</td>\n",
       "      <td>1.0</td>\n",
       "      <td>Rural</td>\n",
       "      <td>Y</td>\n",
       "    </tr>\n",
       "    <tr>\n",
       "      <th>610</th>\n",
       "      <td>Male</td>\n",
       "      <td>Yes</td>\n",
       "      <td>3+</td>\n",
       "      <td>Graduate</td>\n",
       "      <td>No</td>\n",
       "      <td>4106</td>\n",
       "      <td>0.0</td>\n",
       "      <td>40.0</td>\n",
       "      <td>180.0</td>\n",
       "      <td>1.0</td>\n",
       "      <td>Rural</td>\n",
       "      <td>Y</td>\n",
       "    </tr>\n",
       "    <tr>\n",
       "      <th>611</th>\n",
       "      <td>Male</td>\n",
       "      <td>Yes</td>\n",
       "      <td>1</td>\n",
       "      <td>Graduate</td>\n",
       "      <td>No</td>\n",
       "      <td>8072</td>\n",
       "      <td>240.0</td>\n",
       "      <td>253.0</td>\n",
       "      <td>360.0</td>\n",
       "      <td>1.0</td>\n",
       "      <td>Urban</td>\n",
       "      <td>Y</td>\n",
       "    </tr>\n",
       "    <tr>\n",
       "      <th>612</th>\n",
       "      <td>Male</td>\n",
       "      <td>Yes</td>\n",
       "      <td>2</td>\n",
       "      <td>Graduate</td>\n",
       "      <td>No</td>\n",
       "      <td>7583</td>\n",
       "      <td>0.0</td>\n",
       "      <td>187.0</td>\n",
       "      <td>360.0</td>\n",
       "      <td>1.0</td>\n",
       "      <td>Urban</td>\n",
       "      <td>Y</td>\n",
       "    </tr>\n",
       "    <tr>\n",
       "      <th>613</th>\n",
       "      <td>Female</td>\n",
       "      <td>No</td>\n",
       "      <td>0</td>\n",
       "      <td>Graduate</td>\n",
       "      <td>Yes</td>\n",
       "      <td>4583</td>\n",
       "      <td>0.0</td>\n",
       "      <td>133.0</td>\n",
       "      <td>360.0</td>\n",
       "      <td>0.0</td>\n",
       "      <td>Semiurban</td>\n",
       "      <td>N</td>\n",
       "    </tr>\n",
       "  </tbody>\n",
       "</table>\n",
       "<p>614 rows × 12 columns</p>\n",
       "</div>"
      ],
      "text/plain": [
       "     Gender Married Dependents     Education Self_Employed  ApplicantIncome  \\\n",
       "0      Male      No          0      Graduate            No             5849   \n",
       "1      Male     Yes          1      Graduate            No             4583   \n",
       "2      Male     Yes          0      Graduate           Yes             3000   \n",
       "3      Male     Yes          0  Not Graduate            No             2583   \n",
       "4      Male      No          0      Graduate            No             6000   \n",
       "..      ...     ...        ...           ...           ...              ...   \n",
       "609  Female      No          0      Graduate            No             2900   \n",
       "610    Male     Yes         3+      Graduate            No             4106   \n",
       "611    Male     Yes          1      Graduate            No             8072   \n",
       "612    Male     Yes          2      Graduate            No             7583   \n",
       "613  Female      No          0      Graduate           Yes             4583   \n",
       "\n",
       "     CoapplicantIncome  LoanAmount  Loan_Amount_Term  Credit_History  \\\n",
       "0                  0.0       120.0             360.0             1.0   \n",
       "1               1508.0       128.0             360.0             1.0   \n",
       "2                  0.0        66.0             360.0             1.0   \n",
       "3               2358.0       120.0             360.0             1.0   \n",
       "4                  0.0       141.0             360.0             1.0   \n",
       "..                 ...         ...               ...             ...   \n",
       "609                0.0        71.0             360.0             1.0   \n",
       "610                0.0        40.0             180.0             1.0   \n",
       "611              240.0       253.0             360.0             1.0   \n",
       "612                0.0       187.0             360.0             1.0   \n",
       "613                0.0       133.0             360.0             0.0   \n",
       "\n",
       "    Property_Area Loan_Status  \n",
       "0           Urban           Y  \n",
       "1           Rural           N  \n",
       "2           Urban           Y  \n",
       "3           Urban           Y  \n",
       "4           Urban           Y  \n",
       "..            ...         ...  \n",
       "609         Rural           Y  \n",
       "610         Rural           Y  \n",
       "611         Urban           Y  \n",
       "612         Urban           Y  \n",
       "613     Semiurban           N  \n",
       "\n",
       "[614 rows x 12 columns]"
      ]
     },
     "execution_count": 35,
     "metadata": {},
     "output_type": "execute_result"
    }
   ],
   "source": [
    "#removing Loan_ID column\n",
    "d.drop('Loan_ID',\n",
    "         axis=1,\n",
    "         inplace = True)\n",
    "d"
   ]
  },
  {
   "cell_type": "markdown",
   "id": "cc5d7d8f-1891-4b02-9c67-d8c57f0b2006",
   "metadata": {
    "tags": []
   },
   "source": [
    "### EDA"
   ]
  },
  {
   "cell_type": "code",
   "execution_count": 36,
   "id": "08f74910-d6e9-43e6-b6df-e3f8de348a30",
   "metadata": {},
   "outputs": [
    {
     "data": {
      "text/plain": [
       "(614, 12)"
      ]
     },
     "execution_count": 36,
     "metadata": {},
     "output_type": "execute_result"
    }
   ],
   "source": [
    "d.shape"
   ]
  },
  {
   "cell_type": "code",
   "execution_count": 37,
   "id": "b2de8678-279a-4661-88fc-4fbae0c81e48",
   "metadata": {},
   "outputs": [
    {
     "name": "stdout",
     "output_type": "stream",
     "text": [
      "<class 'pandas.core.frame.DataFrame'>\n",
      "RangeIndex: 614 entries, 0 to 613\n",
      "Data columns (total 12 columns):\n",
      " #   Column             Non-Null Count  Dtype  \n",
      "---  ------             --------------  -----  \n",
      " 0   Gender             614 non-null    object \n",
      " 1   Married            614 non-null    object \n",
      " 2   Dependents         614 non-null    object \n",
      " 3   Education          614 non-null    object \n",
      " 4   Self_Employed      614 non-null    object \n",
      " 5   ApplicantIncome    614 non-null    int64  \n",
      " 6   CoapplicantIncome  614 non-null    float64\n",
      " 7   LoanAmount         614 non-null    float64\n",
      " 8   Loan_Amount_Term   614 non-null    float64\n",
      " 9   Credit_History     614 non-null    float64\n",
      " 10  Property_Area      614 non-null    object \n",
      " 11  Loan_Status        614 non-null    object \n",
      "dtypes: float64(4), int64(1), object(7)\n",
      "memory usage: 57.7+ KB\n"
     ]
    }
   ],
   "source": [
    "d.info()"
   ]
  },
  {
   "cell_type": "code",
   "execution_count": 38,
   "id": "c637e188-0fc7-49ef-bf4c-83f144df2e27",
   "metadata": {},
   "outputs": [
    {
     "data": {
      "text/plain": [
       "False"
      ]
     },
     "execution_count": 38,
     "metadata": {},
     "output_type": "execute_result"
    }
   ],
   "source": [
    "#checking for duplicate values\n",
    "d.duplicated().any()\n",
    "#spent 2-3 hr on zomato data set to indentify duplicate values"
   ]
  },
  {
   "cell_type": "code",
   "execution_count": 39,
   "id": "04abd6f2-1f6f-4008-8860-a5a9d2e62064",
   "metadata": {},
   "outputs": [
    {
     "data": {
      "text/plain": [
       "<AxesSubplot:xlabel='Gender', ylabel='count'>"
      ]
     },
     "execution_count": 39,
     "metadata": {},
     "output_type": "execute_result"
    },
    {
     "data": {
      "image/png": "[encoded data removed]",
      "text/plain": [
       "<Figure size 432x288 with 1 Axes>"
      ]
     },
     "metadata": {
      "needs_background": "light"
     },
     "output_type": "display_data"
    }
   ],
   "source": [
    "# checking impact of gender on loan status\n",
    "sns.countplot(x='Gender',hue='Loan_Status',\n",
    "             data= d)\n"
   ]
  },
  {
   "cell_type": "code",
   "execution_count": 40,
   "id": "0f8d6acd-b78c-4061-902c-9e39ae0196c4",
   "metadata": {},
   "outputs": [
    {
     "data": {
      "text/plain": [
       "<AxesSubplot:xlabel='Married', ylabel='count'>"
      ]
     },
     "execution_count": 40,
     "metadata": {},
     "output_type": "execute_result"
    },
    {
     "data": {
      "image/png": "[encoded data removed]",
      "text/plain": [
       "<Figure size 432x288 with 1 Axes>"
      ]
     },
     "metadata": {
      "needs_background": "light"
     },
     "output_type": "display_data"
    }
   ],
   "source": [
    "#checking effect of marital status on loan status\n",
    "sns.countplot(x= 'Married',\n",
    "              hue = 'Loan_Status',\n",
    "              data = d)\n",
    "#married persons have higher chances of getting loan approved, it is more in males"
   ]
  },
  {
   "cell_type": "code",
   "execution_count": 41,
   "id": "24beb4b4-423b-4a2c-a742-e2b7b37970ce",
   "metadata": {},
   "outputs": [
    {
     "data": {
      "text/plain": [
       "<AxesSubplot:xlabel='Education', ylabel='count'>"
      ]
     },
     "execution_count": 41,
     "metadata": {},
     "output_type": "execute_result"
    },
    {
     "data": {
      "image/png": "[encoded data removed]",
      "text/plain": [
       "<Figure size 432x288 with 1 Axes>"
      ]
     },
     "metadata": {
      "needs_background": "light"
     },
     "output_type": "display_data"
    }
   ],
   "source": [
    "#effect of education on loan status\n",
    "sns.countplot(x='Education',\n",
    "              hue= 'Loan_Status',\n",
    "              data = d)\n",
    "#graduates have more chances of getting loan approved than ungraduates"
   ]
  },
  {
   "cell_type": "code",
   "execution_count": 42,
   "id": "32162a62-bbde-4c89-acf5-39ad53bd8aee",
   "metadata": {},
   "outputs": [
    {
     "name": "stderr",
     "output_type": "stream",
     "text": [
      "C:\\Users\\MBA-RAJESH\\anaconda3\\lib\\site-packages\\seaborn\\_decorators.py:36: FutureWarning: Pass the following variable as a keyword arg: x. From version 0.12, the only valid positional argument will be `data`, and passing other arguments without an explicit keyword will result in an error or misinterpretation.\n",
      "  warnings.warn(\n"
     ]
    },
    {
     "data": {
      "text/plain": [
       "<AxesSubplot:xlabel='Self_Employed', ylabel='count'>"
      ]
     },
     "execution_count": 42,
     "metadata": {},
     "output_type": "execute_result"
    },
    {
     "data": {
      "image/png": "[encoded data removed]",
      "text/plain": [
       "<Figure size 432x288 with 1 Axes>"
      ]
     },
     "metadata": {
      "needs_background": "light"
     },
     "output_type": "display_data"
    }
   ],
   "source": [
    "sns.countplot('Self_Employed',\n",
    "              hue= 'Loan_Status',\n",
    "              data = d)"
   ]
  },
  {
   "cell_type": "code",
   "execution_count": 43,
   "id": "197fa293-3125-4bd9-a2d8-69694b66d543",
   "metadata": {},
   "outputs": [
    {
     "data": {
      "text/plain": [
       "<AxesSubplot:xlabel='Credit_History', ylabel='count'>"
      ]
     },
     "execution_count": 43,
     "metadata": {},
     "output_type": "execute_result"
    },
    {
     "data": {
      "image/png": "[encoded data removed]",
      "text/plain": [
       "<Figure size 432x288 with 1 Axes>"
      ]
     },
     "metadata": {
      "needs_background": "light"
     },
     "output_type": "display_data"
    }
   ],
   "source": [
    "sns.countplot(x= 'Credit_History',\n",
    "              hue = 'Loan_Status',\n",
    "              data = d)\n",
    "#people who have credit history have move chance of getting loan approved"
   ]
  },
  {
   "cell_type": "code",
   "execution_count": 44,
   "id": "31022425-6a4b-4e6c-9a9d-b4e00e934b40",
   "metadata": {},
   "outputs": [
    {
     "data": {
      "text/plain": [
       "<AxesSubplot:xlabel='Property_Area', ylabel='count'>"
      ]
     },
     "execution_count": 44,
     "metadata": {},
     "output_type": "execute_result"
    },
    {
     "data": {
      "image/png": "[encoded data removed]",
      "text/plain": [
       "<Figure size 432x288 with 1 Axes>"
      ]
     },
     "metadata": {
      "needs_background": "light"
     },
     "output_type": "display_data"
    }
   ],
   "source": [
    "sns.countplot( x = 'Property_Area',\n",
    "              hue = 'Loan_Status',\n",
    "              data = d)\n",
    "#property in semiurban is influencing loan approval"
   ]
  },
  {
   "cell_type": "code",
   "execution_count": 45,
   "id": "960622c9-2e2a-4266-9751-965e7047f6c3",
   "metadata": {},
   "outputs": [
    {
     "name": "stderr",
     "output_type": "stream",
     "text": [
      "C:\\Users\\MBA-RAJESH\\anaconda3\\lib\\site-packages\\seaborn\\_decorators.py:36: FutureWarning: Pass the following variable as a keyword arg: x. From version 0.12, the only valid positional argument will be `data`, and passing other arguments without an explicit keyword will result in an error or misinterpretation.\n",
      "  warnings.warn(\n"
     ]
    },
    {
     "data": {
      "text/plain": [
       "<AxesSubplot:xlabel='Loan_Status', ylabel='count'>"
      ]
     },
     "execution_count": 45,
     "metadata": {},
     "output_type": "execute_result"
    },
    {
     "data": {
      "image/png": "[encoded data removed]",
      "text/plain": [
       "<Figure size 432x288 with 1 Axes>"
      ]
     },
     "metadata": {
      "needs_background": "light"
     },
     "output_type": "display_data"
    }
   ],
   "source": [
    "sns.countplot(d.Loan_Status)"
   ]
  },
  {
   "cell_type": "code",
   "execution_count": 46,
   "id": "0ab50742-d01c-4181-87d7-70afa2e28f01",
   "metadata": {},
   "outputs": [
    {
     "data": {
      "text/plain": [
       "<seaborn.axisgrid.FacetGrid at 0x20f30cfc730>"
      ]
     },
     "execution_count": 46,
     "metadata": {},
     "output_type": "execute_result"
    },
    {
     "data": {
      "image/png": "[encoded data removed]",
      "text/plain": [
       "<Figure size 360x360 with 1 Axes>"
      ]
     },
     "metadata": {
      "needs_background": "light"
     },
     "output_type": "display_data"
    }
   ],
   "source": [
    "#applying distplot to income \n",
    "sns.displot(d.ApplicantIncome)"
   ]
  },
  {
   "cell_type": "code",
   "execution_count": 49,
   "id": "5682660d-e265-442c-8d48-050d6f3efc49",
   "metadata": {},
   "outputs": [
    {
     "name": "stderr",
     "output_type": "stream",
     "text": [
      "C:\\Users\\MBA-RAJESH\\anaconda3\\lib\\site-packages\\seaborn\\distributions.py:2619: FutureWarning: `distplot` is a deprecated function and will be removed in a future version. Please adapt your code to use either `displot` (a figure-level function with similar flexibility) or `histplot` (an axes-level function for histograms).\n",
      "  warnings.warn(msg, FutureWarning)\n"
     ]
    },
    {
     "data": {
      "text/plain": [
       "<AxesSubplot:xlabel='LoanAmount', ylabel='Density'>"
      ]
     },
     "execution_count": 49,
     "metadata": {},
     "output_type": "execute_result"
    },
    {
     "data": {
      "image/png": "[encoded data removed]",
      "text/plain": [
       "<Figure size 432x288 with 1 Axes>"
      ]
     },
     "metadata": {
      "needs_background": "light"
     },
     "output_type": "display_data"
    }
   ],
   "source": [
    "# plotting dist plot for loanAmount\n",
    "sns.distplot(d['LoanAmount'])"
   ]
  },
  {
   "cell_type": "markdown",
   "id": "e2ac4f54-31e4-47b2-9577-a4fa9fac4728",
   "metadata": {},
   "source": [
    "you identified outliers but you didnt treat them! why?\n",
    "Treat ouliers"
   ]
  },
  {
   "cell_type": "code",
   "execution_count": 51,
   "id": "00b7cdff-c92f-4a3d-9f57-904960f5e18e",
   "metadata": {},
   "outputs": [
    {
     "data": {
      "text/html": [
       "<div>\n",
       "<style scoped>\n",
       "    .dataframe tbody tr th:only-of-type {\n",
       "        vertical-align: middle;\n",
       "    }\n",
       "\n",
       "    .dataframe tbody tr th {\n",
       "        vertical-align: top;\n",
       "    }\n",
       "\n",
       "    .dataframe thead th {\n",
       "        text-align: right;\n",
       "    }\n",
       "</style>\n",
       "<table border=\"1\" class=\"dataframe\">\n",
       "  <thead>\n",
       "    <tr style=\"text-align: right;\">\n",
       "      <th></th>\n",
       "      <th>ApplicantIncome</th>\n",
       "      <th>CoapplicantIncome</th>\n",
       "      <th>LoanAmount</th>\n",
       "      <th>Loan_Amount_Term</th>\n",
       "      <th>Credit_History</th>\n",
       "    </tr>\n",
       "  </thead>\n",
       "  <tbody>\n",
       "    <tr>\n",
       "      <th>ApplicantIncome</th>\n",
       "      <td>1.000000</td>\n",
       "      <td>-0.116605</td>\n",
       "      <td>0.564698</td>\n",
       "      <td>-0.046531</td>\n",
       "      <td>-0.018615</td>\n",
       "    </tr>\n",
       "    <tr>\n",
       "      <th>CoapplicantIncome</th>\n",
       "      <td>-0.116605</td>\n",
       "      <td>1.000000</td>\n",
       "      <td>0.189723</td>\n",
       "      <td>-0.059383</td>\n",
       "      <td>0.011134</td>\n",
       "    </tr>\n",
       "    <tr>\n",
       "      <th>LoanAmount</th>\n",
       "      <td>0.564698</td>\n",
       "      <td>0.189723</td>\n",
       "      <td>1.000000</td>\n",
       "      <td>0.037152</td>\n",
       "      <td>-0.000250</td>\n",
       "    </tr>\n",
       "    <tr>\n",
       "      <th>Loan_Amount_Term</th>\n",
       "      <td>-0.046531</td>\n",
       "      <td>-0.059383</td>\n",
       "      <td>0.037152</td>\n",
       "      <td>1.000000</td>\n",
       "      <td>-0.004705</td>\n",
       "    </tr>\n",
       "    <tr>\n",
       "      <th>Credit_History</th>\n",
       "      <td>-0.018615</td>\n",
       "      <td>0.011134</td>\n",
       "      <td>-0.000250</td>\n",
       "      <td>-0.004705</td>\n",
       "      <td>1.000000</td>\n",
       "    </tr>\n",
       "  </tbody>\n",
       "</table>\n",
       "</div>"
      ],
      "text/plain": [
       "                   ApplicantIncome  CoapplicantIncome  LoanAmount  \\\n",
       "ApplicantIncome           1.000000          -0.116605    0.564698   \n",
       "CoapplicantIncome        -0.116605           1.000000    0.189723   \n",
       "LoanAmount                0.564698           0.189723    1.000000   \n",
       "Loan_Amount_Term         -0.046531          -0.059383    0.037152   \n",
       "Credit_History           -0.018615           0.011134   -0.000250   \n",
       "\n",
       "                   Loan_Amount_Term  Credit_History  \n",
       "ApplicantIncome           -0.046531       -0.018615  \n",
       "CoapplicantIncome         -0.059383        0.011134  \n",
       "LoanAmount                 0.037152       -0.000250  \n",
       "Loan_Amount_Term           1.000000       -0.004705  \n",
       "Credit_History            -0.004705        1.000000  "
      ]
     },
     "execution_count": 51,
     "metadata": {},
     "output_type": "execute_result"
    }
   ],
   "source": [
    "#obtaining correlations\n",
    "d.corr()\n",
    "#loan Amount and ApplicantIncome have correlation of 0.57\n",
    "#Loan Amount and CoapplicantIncome has correlation of 0.19"
   ]
  },
  {
   "cell_type": "code",
   "execution_count": 52,
   "id": "3281d35e-a6f0-4809-8a08-f0c04f3c4262",
   "metadata": {},
   "outputs": [
    {
     "data": {
      "text/plain": [
       "<AxesSubplot:>"
      ]
     },
     "execution_count": 52,
     "metadata": {},
     "output_type": "execute_result"
    },
    {
     "data": {
      "image/png": "[encoded data removed]",
      "text/plain": [
       "<Figure size 648x720 with 2 Axes>"
      ]
     },
     "metadata": {
      "needs_background": "light"
     },
     "output_type": "display_data"
    }
   ],
   "source": [
    "matrix = d.corr()\n",
    "f, ax = plt.subplots(figsize=(9,10))\n",
    "sns.heatmap(matrix, vmax=1, square = True, annot = True)\n",
    "                     "
   ]
  },
  {
   "cell_type": "markdown",
   "id": "771c4d7e-c7d2-43ad-972a-2288d6761774",
   "metadata": {
    "tags": []
   },
   "source": [
    "#### Factor analysis\n"
   ]
  },
  {
   "cell_type": "markdown",
   "id": "8f81d33d-9f8f-4619-99ef-9d96fbf6e23c",
   "metadata": {},
   "source": [
    "factor analysis is used to reduce no. of variables "
   ]
  },
  {
   "cell_type": "code",
   "execution_count": 1,
   "id": "6e1d4ba3-1675-45e7-89af-24505ece38d3",
   "metadata": {},
   "outputs": [],
   "source": [
    "#importing required libraries\n",
    "import numpy as np\n",
    "import pandas as pd\n",
    "import matplotlib.pyplot as plt\n",
    "%matplotlib inline\n"
   ]
  },
  {
   "cell_type": "code",
   "execution_count": 2,
   "id": "101b8a9c-0ad4-480e-9011-945b0f71d2f3",
   "metadata": {},
   "outputs": [],
   "source": [
    "#importing factor analyzer from factor_analyzer\n",
    "from factor_analyzer import FactorAnalyzer"
   ]
  },
  {
   "cell_type": "code",
   "execution_count": 3,
   "id": "bf57726e-f886-410f-b87d-b7304236553a",
   "metadata": {},
   "outputs": [],
   "source": [
    "factor_data=pd.read_csv(\"D:\\\\MBA RAJESH(D)\\\\MBA SEM 3\\\\GE 331 HR ANALYTICS\\\\factor analysis\\\\wfb.csv\")"
   ]
  },
  {
   "cell_type": "code",
   "execution_count": 4,
   "id": "e0c8911e-90a0-4ac6-b8ef-fdcbc76a0591",
   "metadata": {},
   "outputs": [
    {
     "name": "stdout",
     "output_type": "stream",
     "text": [
      "<class 'pandas.core.frame.DataFrame'>\n",
      "RangeIndex: 294 entries, 0 to 293\n",
      "Data columns (total 24 columns):\n",
      " #   Column             Non-Null Count  Dtype  \n",
      "---  ------             --------------  -----  \n",
      " 0   Gender             294 non-null    int64  \n",
      " 1   Age                294 non-null    object \n",
      " 2   YourMaritalStatus  294 non-null    int64  \n",
      " 3   EducationLevel     294 non-null    int64  \n",
      " 4   JS1                294 non-null    float64\n",
      " 5   JS2                294 non-null    float64\n",
      " 6   JS3                294 non-null    float64\n",
      " 7   FS1                294 non-null    float64\n",
      " 8   FS2                294 non-null    float64\n",
      " 9   FS3                294 non-null    float64\n",
      " 10  LS1                294 non-null    float64\n",
      " 11  LS2                294 non-null    float64\n",
      " 12  LS3                294 non-null    float64\n",
      " 13  LS4                294 non-null    float64\n",
      " 14  LS5                294 non-null    float64\n",
      " 15  WFB1               294 non-null    int64  \n",
      " 16  WFB2               294 non-null    float64\n",
      " 17  WFB3               294 non-null    int64  \n",
      " 18  WFB4               294 non-null    int64  \n",
      " 19  WFB5               294 non-null    float64\n",
      " 20  WFB                294 non-null    float64\n",
      " 21  JS                 294 non-null    float64\n",
      " 22  FS                 294 non-null    float64\n",
      " 23  LS                 294 non-null    float64\n",
      "dtypes: float64(17), int64(6), object(1)\n",
      "memory usage: 55.2+ KB\n"
     ]
    }
   ],
   "source": [
    "#checking for null values\n",
    "factor_data.info()"
   ]
  },
  {
   "cell_type": "code",
   "execution_count": 5,
   "id": "e91155ec-bc39-4bcf-bd4b-3800f52adc11",
   "metadata": {},
   "outputs": [
    {
     "data": {
      "text/plain": [
       "Gender               0\n",
       "Age                  0\n",
       "YourMaritalStatus    0\n",
       "EducationLevel       0\n",
       "JS1                  0\n",
       "JS2                  0\n",
       "JS3                  0\n",
       "FS1                  0\n",
       "FS2                  0\n",
       "FS3                  0\n",
       "LS1                  0\n",
       "LS2                  0\n",
       "LS3                  0\n",
       "LS4                  0\n",
       "LS5                  0\n",
       "WFB1                 0\n",
       "WFB2                 0\n",
       "WFB3                 0\n",
       "WFB4                 0\n",
       "WFB5                 0\n",
       "WFB                  0\n",
       "JS                   0\n",
       "FS                   0\n",
       "LS                   0\n",
       "dtype: int64"
      ]
     },
     "execution_count": 5,
     "metadata": {},
     "output_type": "execute_result"
    }
   ],
   "source": [
    "#checking for null values\n",
    "factor_data.isnull().sum()"
   ]
  },
  {
   "cell_type": "code",
   "execution_count": 6,
   "id": "c8b5000f-1b1f-486c-ab75-514f3ec9e3a7",
   "metadata": {},
   "outputs": [
    {
     "data": {
      "text/plain": [
       "294"
      ]
     },
     "execution_count": 6,
     "metadata": {},
     "output_type": "execute_result"
    }
   ],
   "source": [
    "#checking for null values by value_counts\n",
    "factor_data.value_counts().sum()\n",
    "#found no null values"
   ]
  },
  {
   "cell_type": "code",
   "execution_count": 7,
   "id": "847375da-1e4e-4a92-b010-9a4b01e0b88b",
   "metadata": {},
   "outputs": [],
   "source": [
    "#removing unnecessary columns\n",
    "factor_data.drop(['Gender','Age','YourMaritalStatus','EducationLevel','WFB', 'JS', 'FS', 'LS'],axis=1,inplace=True)"
   ]
  },
  {
   "cell_type": "code",
   "execution_count": 8,
   "id": "ef62fc0f-0635-4fc4-bef8-48bce8de029d",
   "metadata": {},
   "outputs": [
    {
     "name": "stdout",
     "output_type": "stream",
     "text": [
      "<class 'pandas.core.frame.DataFrame'>\n",
      "RangeIndex: 294 entries, 0 to 293\n",
      "Data columns (total 16 columns):\n",
      " #   Column  Non-Null Count  Dtype  \n",
      "---  ------  --------------  -----  \n",
      " 0   JS1     294 non-null    float64\n",
      " 1   JS2     294 non-null    float64\n",
      " 2   JS3     294 non-null    float64\n",
      " 3   FS1     294 non-null    float64\n",
      " 4   FS2     294 non-null    float64\n",
      " 5   FS3     294 non-null    float64\n",
      " 6   LS1     294 non-null    float64\n",
      " 7   LS2     294 non-null    float64\n",
      " 8   LS3     294 non-null    float64\n",
      " 9   LS4     294 non-null    float64\n",
      " 10  LS5     294 non-null    float64\n",
      " 11  WFB1    294 non-null    int64  \n",
      " 12  WFB2    294 non-null    float64\n",
      " 13  WFB3    294 non-null    int64  \n",
      " 14  WFB4    294 non-null    int64  \n",
      " 15  WFB5    294 non-null    float64\n",
      "dtypes: float64(13), int64(3)\n",
      "memory usage: 36.9 KB\n"
     ]
    }
   ],
   "source": [
    "factor_data.info()"
   ]
  },
  {
   "cell_type": "code",
   "execution_count": 9,
   "id": "9c30b2d3-f733-41df-8905-0f6e1aa86310",
   "metadata": {},
   "outputs": [
    {
     "data": {
      "text/plain": [
       "(4792.341002580749, 0.0)"
      ]
     },
     "execution_count": 9,
     "metadata": {},
     "output_type": "execute_result"
    }
   ],
   "source": [
    "## adequecy test: bartlett sphericity\n",
    "from factor_analyzer.factor_analyzer import calculate_bartlett_sphericity\n",
    "chi_square_value,p_value=calculate_bartlett_sphericity(factor_data)\n",
    "chi_square_value, p_value\n",
    "## p_value is signigicant So, We will move further \n",
    "## what about chi_square_test???"
   ]
  },
  {
   "cell_type": "code",
   "execution_count": 10,
   "id": "818e28c9-6a54-473a-bc8b-adf029cf5a7c",
   "metadata": {},
   "outputs": [
    {
     "name": "stdout",
     "output_type": "stream",
     "text": [
      "[0.89453111 0.83820639 0.86891004 0.91531365 0.88491681 0.92464687\n",
      " 0.95253166 0.931654   0.93628656 0.94009532 0.96178153 0.94520497\n",
      " 0.94131258 0.93163278 0.90700618 0.93741025]\n"
     ]
    },
    {
     "data": {
      "text/plain": [
       "0.9229677636697246"
      ]
     },
     "execution_count": 10,
     "metadata": {},
     "output_type": "execute_result"
    }
   ],
   "source": [
    "## adequecy test: KMO test\n",
    "from factor_analyzer.factor_analyzer import calculate_kmo\n",
    "kmo_all,kmo_model=calculate_kmo(factor_data)\n",
    "print(kmo_all) ###what does kmo_all indicate????????\n",
    "kmo_model"
   ]
  },
  {
   "cell_type": "code",
   "execution_count": 11,
   "id": "0d118ef0-86a8-43f9-8898-48bbfa0ab192",
   "metadata": {},
   "outputs": [
    {
     "data": {
      "text/plain": [
       "FactorAnalyzer(rotation=None, rotation_kwargs={})"
      ]
     },
     "execution_count": 11,
     "metadata": {},
     "output_type": "execute_result"
    }
   ],
   "source": [
    "#choosing no. of factors\n",
    "fa=FactorAnalyzer(rotation=None)\n",
    "fa.fit(factor_data)\n",
    "\n"
   ]
  },
  {
   "cell_type": "code",
   "execution_count": 12,
   "id": "43fae0f6-d0ad-4888-8b73-106749df1b21",
   "metadata": {},
   "outputs": [],
   "source": [
    "ev,v=fa.get_eigenvalues()"
   ]
  },
  {
   "cell_type": "code",
   "execution_count": 13,
   "id": "c38afb45-5168-4609-b964-d653e7648d3a",
   "metadata": {},
   "outputs": [
    {
     "name": "stdout",
     "output_type": "stream",
     "text": [
      "[8.5979936  2.21274597 1.72956832 0.82402834 0.49738067 0.35585746\n",
      " 0.33592568 0.24966778 0.23113823 0.20962588 0.1852257  0.16741937\n",
      " 0.13067744 0.10573692 0.10187034 0.06513829]\n"
     ]
    }
   ],
   "source": [
    "print(ev)"
   ]
  },
  {
   "cell_type": "code",
   "execution_count": 14,
   "id": "959325c5-0c56-471b-a3f8-7bb3d52b6b74",
   "metadata": {},
   "outputs": [
    {
     "name": "stdout",
     "output_type": "stream",
     "text": [
      "[ 8.35460050e+00  1.99305200e+00  1.44833684e+00  4.81878995e-01\n",
      "  9.05347582e-02  5.41162788e-02  3.11885965e-02  3.07471147e-03\n",
      " -1.33333301e-02 -3.24823783e-02 -4.51126248e-02 -7.27512363e-02\n",
      " -9.27143455e-02 -9.53128695e-02 -1.42881728e-01 -1.66204697e-01]\n"
     ]
    }
   ],
   "source": [
    "print(v)"
   ]
  },
  {
   "cell_type": "code",
   "execution_count": 15,
   "id": "87e67d9a-5048-453e-bb99-266a8fd0c598",
   "metadata": {},
   "outputs": [
    {
     "data": {
      "image/png": "[encoded data removed]",
      "text/plain": [
       "<Figure size 432x288 with 1 Axes>"
      ]
     },
     "metadata": {
      "needs_background": "light"
     },
     "output_type": "display_data"
    }
   ],
   "source": [
    "# Create scree plot using matplotlib\n",
    "plt.scatter(range(1,factor_data.shape[1]+1),ev)\n",
    "plt.plot(range(1,factor_data.shape[1]+1),ev)\n",
    "plt.plot(range(1,factor_data.shape[1]+1),v)\n",
    "plt.plot(range(1,factor_data.shape[1]+1),v)\n",
    "plt.title('Scree Plot')\n",
    "plt.xlabel('Factors')\n",
    "plt.ylabel('Eigenvalue')\n",
    "plt.grid()\n",
    "plt.show()\n",
    "## ev and v values are similar"
   ]
  },
  {
   "cell_type": "code",
   "execution_count": 16,
   "id": "1a25ac07-aed6-47ae-a208-18c78d0f1a19",
   "metadata": {},
   "outputs": [
    {
     "data": {
      "image/png": "[encoded data removed]",
      "text/plain": [
       "<Figure size 432x288 with 1 Axes>"
      ]
     },
     "metadata": {
      "needs_background": "light"
     },
     "output_type": "display_data"
    }
   ],
   "source": [
    "# Create scree plot using matplotlib\n",
    "## chganing xticks and yticks\n",
    "plt.scatter(range(1,factor_data.shape[1]+1),ev)\n",
    "plt.plot(range(1,factor_data.shape[1]+1),ev)\n",
    "plt.xticks(range(1,20))\n",
    "plt.yticks(range(1,10))\n",
    "plt.title('Scree Plot')\n",
    "plt.xlabel('Factors')\n",
    "plt.ylabel('Eigenvalue')\n",
    "plt.grid()\n",
    "plt.show()\n",
    "## ev and v values are similar"
   ]
  },
  {
   "cell_type": "markdown",
   "id": "427589e7-1567-414d-a52f-0ae9d3115fe0",
   "metadata": {},
   "source": [
    "from this scree plot, we can see no. of points above scree are 3\n",
    "so no. of factors is equal to 3"
   ]
  },
  {
   "cell_type": "code",
   "execution_count": 17,
   "id": "95965df8-6b8f-4e14-afd3-51d08ce89a26",
   "metadata": {},
   "outputs": [],
   "source": [
    "#creating factor analyzer object with no. of factors and rotation method\n",
    "fa1=FactorAnalyzer(n_factors=3,rotation='varimax')\n",
    "##there are different rotation method choose appropriate one"
   ]
  },
  {
   "cell_type": "code",
   "execution_count": 18,
   "id": "8368b747-8e28-441d-8478-1aba499da620",
   "metadata": {},
   "outputs": [
    {
     "data": {
      "text/plain": [
       "FactorAnalyzer(rotation='varimax', rotation_kwargs={})"
      ]
     },
     "execution_count": 18,
     "metadata": {},
     "output_type": "execute_result"
    }
   ],
   "source": [
    "#fitting data to object\n",
    "fa1.fit(factor_data)"
   ]
  },
  {
   "cell_type": "code",
   "execution_count": 19,
   "id": "f26de2a5-ad08-4bc1-abce-f846b05d3a2c",
   "metadata": {},
   "outputs": [],
   "source": [
    "#getting loadings\n",
    "fa1.loadings_\n",
    "##loadings indicates correlation between factors and observed variables\n",
    "load=pd.DataFrame(fa1.loadings_,\n",
    "                  index=factor_data.columns)"
   ]
  },
  {
   "cell_type": "code",
   "execution_count": 20,
   "id": "174441a2-750f-44dc-bb32-ab48e44ca59a",
   "metadata": {},
   "outputs": [
    {
     "data": {
      "text/plain": [
       "array([[0.26660071, 0.19669825, 0.80190187],\n",
       "       [0.21539635, 0.10824289, 0.80658594],\n",
       "       [0.15225412, 0.0991065 , 0.76576976],\n",
       "       [0.8125895 , 0.2701564 , 0.07092251],\n",
       "       [0.86155217, 0.26730112, 0.07106182],\n",
       "       [0.8608649 , 0.30288259, 0.06162216],\n",
       "       [0.78319046, 0.25884909, 0.32668266],\n",
       "       [0.77877741, 0.22837782, 0.23820994],\n",
       "       [0.76515392, 0.22254563, 0.32459007],\n",
       "       [0.63951216, 0.19143755, 0.2820758 ],\n",
       "       [0.56072562, 0.2012076 , 0.21685727],\n",
       "       [0.31506662, 0.84265977, 0.17351772],\n",
       "       [0.28989333, 0.85039854, 0.15041573],\n",
       "       [0.26729219, 0.84525059, 0.10680712],\n",
       "       [0.26586164, 0.91028787, 0.12812115],\n",
       "       [0.23909193, 0.83559528, 0.11704183]])"
      ]
     },
     "execution_count": 20,
     "metadata": {},
     "output_type": "execute_result"
    }
   ],
   "source": [
    "fa1.loadings_"
   ]
  },
  {
   "cell_type": "code",
   "execution_count": 21,
   "id": "17c6050e-6f6c-4f4a-b1c9-fa7fb01e69c0",
   "metadata": {},
   "outputs": [],
   "source": [
    "##plotting heatmap to understand loadings\n",
    "import seaborn as sb"
   ]
  },
  {
   "cell_type": "code",
   "execution_count": 22,
   "id": "6760c081-bc97-4166-841a-0f314d8f694e",
   "metadata": {},
   "outputs": [
    {
     "data": {
      "text/plain": [
       "<AxesSubplot:>"
      ]
     },
     "execution_count": 22,
     "metadata": {},
     "output_type": "execute_result"
    },
    {
     "data": {
      "image/png": "[encoded data removed]",
      "text/plain": [
       "<Figure size 1080x504 with 2 Axes>"
      ]
     },
     "metadata": {
      "needs_background": "light"
     },
     "output_type": "display_data"
    }
   ],
   "source": [
    "plt.figure(figsize=(15,7))\n",
    "sb.heatmap(load)\n",
    "##from this heatmap, one can understand that each factor capturing essence\n",
    "## of observed variables"
   ]
  },
  {
   "cell_type": "code",
   "execution_count": 23,
   "id": "629a7f7a-4061-4ccc-9a66-07130028cb77",
   "metadata": {},
   "outputs": [
    {
     "name": "stdout",
     "output_type": "stream",
     "text": [
      "                       factor1   factor2   factor3\n",
      "Variance              5.195644  4.216765  2.383581\n",
      "Propotinal variance   0.324728  0.263548  0.148974\n",
      "Cummulative variance  0.324728  0.588276  0.737249\n"
     ]
    }
   ],
   "source": [
    "print(pd.DataFrame(fa1.get_factor_variance(),\n",
    "                   index=['Variance','Propotinal variance','Cummulative variance'],\n",
    "                  columns=['factor1','factor2','factor3']))\n",
    "                \n",
    "## what to infer from variance and propotinal variance"
   ]
  },
  {
   "cell_type": "code",
   "execution_count": 24,
   "id": "33268cee-506c-4929-a0c3-9128de8cdfad",
   "metadata": {},
   "outputs": [
    {
     "name": "stdout",
     "output_type": "stream",
     "text": [
      "      Communalities\n",
      "JS1        0.752813\n",
      "JS2        0.708693\n",
      "JS3        0.619407\n",
      "FS1        0.738316\n",
      "FS2        0.818772\n",
      "FS3        0.836624\n",
      "LS1        0.787112\n",
      "LS2        0.715395\n",
      "LS3        0.740346\n",
      "LS4        0.525191\n",
      "LS5        0.401925\n",
      "WFB1       0.839451\n",
      "WFB2       0.829841\n",
      "WFB3       0.797301\n",
      "WFB4       0.915721\n",
      "WFB5       0.769083\n"
     ]
    }
   ],
   "source": [
    "print(pd.DataFrame(fa1.get_communalities(),\n",
    "                index=[factor_data.columns],\n",
    "                 columns=['Communalities']))\n",
    "##INFERENCE\n",
    "## FOR eg 66% of 'JS1' variation is explained by all factors"
   ]
  },
  {
   "cell_type": "code",
   "execution_count": 25,
   "id": "4a1256d1-ff5a-4ff5-a6cc-5944788db1cb",
   "metadata": {},
   "outputs": [],
   "source": [
    "pd.options.display.max_rows =40 "
   ]
  },
  {
   "cell_type": "code",
   "execution_count": 26,
   "id": "cf5c4a6b-5d04-4e64-8f94-c1a2eaa81e60",
   "metadata": {
    "tags": []
   },
   "outputs": [
    {
     "data": {
      "text/plain": [
       "array([[-9.51705603e-02, -1.81616252e+00, -7.35808143e-01],\n",
       "       [ 6.78766674e-01, -1.53127507e+00,  7.09897821e-01],\n",
       "       [-4.89204763e-01,  4.32484525e-01,  5.32331480e-01],\n",
       "       [ 5.20492168e-02,  7.03012020e-01,  9.85733322e-01],\n",
       "       [-8.11928346e-01,  3.24398992e-01,  1.37642075e+00],\n",
       "       [ 3.11446652e-01,  8.47397627e-01, -9.18966205e-01],\n",
       "       [-1.29653241e+00, -1.44001796e+00,  1.28508403e+00],\n",
       "       [ 3.29718776e-01, -2.98769634e-01,  1.18502573e-01],\n",
       "       [-7.95398625e-02, -3.03817142e-01,  9.59199013e-01],\n",
       "       [-7.54731821e-02, -9.13420067e-01,  1.90306159e-01],\n",
       "       [ 1.12922517e-01,  7.30196867e-01, -4.92087501e-01],\n",
       "       [-1.85878324e+00, -8.64471007e-01,  1.57088475e+00],\n",
       "       [ 4.37237137e-01,  9.07497273e-02, -5.98322175e-01],\n",
       "       [ 5.03343215e-02,  8.02464103e-01,  2.62541361e-01],\n",
       "       [-1.18204030e-01,  7.91401789e-01,  2.23627290e-03],\n",
       "       [-7.81907695e-01,  8.38898860e-01,  4.44614419e-01],\n",
       "       [-2.03550862e-01,  2.07818381e-01,  5.85702069e-01],\n",
       "       [ 6.82301230e-01, -9.24171827e-01, -3.04277388e+00],\n",
       "       [ 7.90553071e-02, -1.45211195e+00,  5.12558531e-02],\n",
       "       [-4.23627285e-01,  3.30317998e-01,  2.91022201e-01],\n",
       "       [-9.10520970e-01, -2.24273235e-01,  4.33005438e-01],\n",
       "       [ 5.44752398e-02,  7.71943443e-01,  2.39344251e-03],\n",
       "       [ 8.08635156e-01, -3.33338487e-01,  8.14383878e-01],\n",
       "       [ 2.35019283e-01,  7.93246756e-01, -3.09208491e-01],\n",
       "       [ 1.42523500e+00, -1.08875229e+00, -7.59973590e-01],\n",
       "       [-2.95153552e+00,  6.70922599e-01,  7.73284621e-01],\n",
       "       [-1.56176504e+00,  1.19568670e+00,  1.99212354e-01],\n",
       "       [ 5.79917358e-01,  1.21622416e+00,  3.59222089e-01],\n",
       "       [-7.57225455e-01,  7.74975889e-01, -4.12540916e-01],\n",
       "       [-1.14760077e+00,  1.08004803e+00,  3.43733821e-01],\n",
       "       [-1.77461681e+00, -1.10472331e+00, -1.72019736e+00],\n",
       "       [ 7.45047993e-01,  1.12436484e+00,  7.60854182e-01],\n",
       "       [ 7.79618769e-01,  1.01431330e+00, -1.94687420e-01],\n",
       "       [-1.51230214e-02,  7.99954099e-01,  2.02771068e-02],\n",
       "       [-1.09929690e-01, -5.08516371e-01, -1.81344322e-01],\n",
       "       [-2.29619148e+00, -2.69071021e-01,  1.65243133e+00],\n",
       "       [ 7.45047993e-01,  1.12436484e+00,  7.60854182e-01],\n",
       "       [ 1.65598613e+00, -2.27839449e+00,  1.00044880e+00],\n",
       "       [ 3.85154432e-01,  1.24258174e+00,  6.83241322e-01],\n",
       "       [ 8.34778160e-01,  7.60082777e-01,  7.86327529e-01],\n",
       "       [-6.74850410e-01, -1.82787630e+00, -5.27658153e-01],\n",
       "       [ 1.47876025e+00, -1.30699757e+00,  2.05649007e-01],\n",
       "       [ 8.01721780e-01, -2.78718493e-01,  7.90865057e-01],\n",
       "       [-2.17986440e+00,  9.79264552e-01,  8.22478374e-01],\n",
       "       [ 1.61105613e-01,  3.69537458e-01, -6.24903468e-01],\n",
       "       [ 6.11703385e-01, -1.34011050e-01,  7.37734340e-01],\n",
       "       [ 5.60500583e-02, -8.84421366e-01, -1.78991282e-01],\n",
       "       [ 5.01497428e-01,  1.25629566e+00, -6.26610826e-02],\n",
       "       [ 9.42167539e-01,  2.82509495e-01,  8.09533020e-01],\n",
       "       [ 1.05452265e+00, -3.08420011e-01,  1.06936989e-01],\n",
       "       [-2.22956435e-01,  6.18708732e-01,  1.84806141e-01],\n",
       "       [ 7.08677383e-02,  8.30140121e-01, -3.35307087e-01],\n",
       "       [ 9.52222649e-01, -2.25732294e+00,  1.07216203e+00],\n",
       "       [ 5.03343215e-02,  8.02464103e-01,  2.62541361e-01],\n",
       "       [ 9.44137901e-01,  6.25609181e-01,  4.51270503e-01],\n",
       "       [ 1.53335478e-02,  1.09851431e+00,  2.10009815e-03],\n",
       "       [-2.47862615e+00, -1.38013319e+00,  1.86544614e+00],\n",
       "       [ 7.45047993e-01,  1.12436484e+00,  7.60854182e-01],\n",
       "       [-6.64065271e-03,  8.54748543e-02, -7.20503133e-03],\n",
       "       [ 8.85216494e-01,  7.53371886e-02, -8.57227512e-01],\n",
       "       [ 7.45047993e-01,  1.12436484e+00,  7.60854182e-01],\n",
       "       [ 1.15267789e+00, -1.34513640e+00, -6.75528128e-01],\n",
       "       [-8.45028759e-01,  1.74552850e-01,  9.89941288e-02],\n",
       "       [ 7.03407719e-01,  5.38800217e-01,  7.57579122e-01],\n",
       "       [ 1.56802659e+00, -2.21932198e-01, -2.89457068e+00],\n",
       "       [ 7.45047993e-01,  1.12436484e+00,  7.60854182e-01],\n",
       "       [ 3.46736035e-01,  1.26008745e+00,  7.03417877e-01],\n",
       "       [-3.40326712e-01,  7.72751915e-01, -4.45905071e-01],\n",
       "       [-6.99414867e-01, -7.40924236e-01, -6.98182431e-01],\n",
       "       [ 1.13090856e+00, -2.56798765e-01,  8.64820014e-01],\n",
       "       [-3.98184642e-01, -7.29974361e-01, -4.67757281e-01],\n",
       "       [ 4.35933269e-01,  4.79924295e-01,  1.09687228e-02],\n",
       "       [ 1.96204527e-01, -6.79172191e-01, -9.08789996e-01],\n",
       "       [-5.90479262e-01, -2.27023906e-02,  5.01117489e-01],\n",
       "       [ 3.43008596e-01, -4.81239647e-01, -2.56038127e+00],\n",
       "       [-4.96629388e-01, -1.25397087e+00,  1.85293324e-01],\n",
       "       [ 1.73638884e+00,  4.10726471e-01, -3.47222474e+00],\n",
       "       [ 3.86122260e-01, -2.43959548e-01,  3.14036740e-01],\n",
       "       [ 4.89016293e-01,  1.01305692e+00,  6.86976503e-01],\n",
       "       [ 1.19775769e+00, -7.78807223e-01, -5.66848322e-01],\n",
       "       [ 1.80761515e-01,  3.21569188e-01,  3.90619137e-01],\n",
       "       [ 7.66760740e-01,  6.22366908e-01,  8.00024365e-02],\n",
       "       [-5.37040357e-01, -5.24090847e-01,  8.77136622e-01],\n",
       "       [-3.94622555e-01,  1.06209916e+00, -1.00583445e-01],\n",
       "       [ 8.21862124e-01,  5.03436339e-01,  8.04616389e-01],\n",
       "       [-1.42863477e+00,  1.07964435e+00, -1.89029543e+00],\n",
       "       [ 1.37436963e+00, -1.70562132e+00,  7.57577034e-01],\n",
       "       [ 4.42597735e-01,  7.70541612e-01,  1.70107462e-02],\n",
       "       [ 5.56401914e-01,  3.08707144e-01, -1.59349432e-01],\n",
       "       [ 2.04452284e+00, -1.96894666e+00, -3.35808280e+00],\n",
       "       [ 1.03118451e-01, -7.35679281e-02,  1.20238172e+00],\n",
       "       [-9.20200059e-01, -1.71488673e-01, -2.21132789e-01],\n",
       "       [ 1.05806921e+00, -2.68741806e-02,  8.37460474e-01],\n",
       "       [-3.28670338e+00, -2.74932211e-01, -1.26170140e-01],\n",
       "       [ 6.17823406e-01, -1.41763773e+00,  4.41730093e-01],\n",
       "       [-1.04542411e-01,  7.01387643e-01, -4.57806905e-01],\n",
       "       [ 9.35177623e-01, -1.97651307e-01,  8.10601501e-01],\n",
       "       [ 4.79336341e-01,  1.27473520e+00,  3.58659432e-01],\n",
       "       [-1.32595471e+00, -8.92889813e-01,  6.79384857e-01],\n",
       "       [-2.45801656e+00, -1.83910192e-01, -8.82764995e-01],\n",
       "       [-6.88720927e-04,  4.64241491e-01, -2.13097900e+00],\n",
       "       [ 5.49661069e-01,  2.59451697e-01,  7.22722939e-01],\n",
       "       [-1.07860361e+00, -1.07128774e-01, -7.30227558e-01],\n",
       "       [ 7.77468076e-01, -3.70998347e-01,  9.81213450e-01],\n",
       "       [-2.78639724e-01, -1.79751348e+00,  6.67350562e-01],\n",
       "       [-1.04235922e-01,  4.63795373e-01,  3.34597333e-02],\n",
       "       [ 3.20063827e-01,  6.37083836e-01, -4.77173792e-02],\n",
       "       [ 1.02319031e+00,  1.57113405e+00, -2.69571906e+00],\n",
       "       [ 4.76165724e-01, -5.43835853e-01,  4.47355098e-01],\n",
       "       [ 1.12361279e+00,  8.73395755e-02,  1.72340253e-01],\n",
       "       [ 3.47227195e-01,  1.57455105e-01,  5.19591306e-01],\n",
       "       [ 7.45047993e-01,  1.12436484e+00,  7.60854182e-01],\n",
       "       [ 5.33369233e-01,  5.51346291e-01,  7.12354552e-01],\n",
       "       [-1.71199679e+00, -8.80912448e-01, -2.35643058e+00],\n",
       "       [-2.09456071e-01,  5.47326268e-01,  6.80692591e-01],\n",
       "       [ 1.23344638e-01,  7.50832696e-01,  2.63211521e-02],\n",
       "       [ 4.46598741e-01, -5.63340356e-01, -8.30188272e-02],\n",
       "       [-6.58476986e-02,  5.02429682e-01, -2.63336521e+00],\n",
       "       [-7.51163867e-01,  4.53316754e-01, -1.26373890e-01],\n",
       "       [-2.47590393e+00, -1.66297888e+00, -8.84476690e-01],\n",
       "       [ 2.58220615e-01,  2.61897055e-01,  2.89773222e-02],\n",
       "       [-2.30131699e+00,  8.05541538e-01, -1.63491602e+00],\n",
       "       [-1.37616139e+00,  1.50946376e-01, -4.73704057e-01],\n",
       "       [ 8.93501977e-01,  3.49789433e-01, -4.90270222e-01],\n",
       "       [ 6.82558818e-01,  6.48900390e-01,  5.53818682e-02],\n",
       "       [ 1.38173973e+00, -2.25625859e-01, -3.65639953e-01],\n",
       "       [ 6.64523177e-01,  3.76512853e-01,  1.37663377e-02],\n",
       "       [ 3.18629179e-01,  1.25566808e+00, -4.00837840e-01],\n",
       "       [ 8.77334415e-01,  4.55902432e-01,  8.49493440e-01],\n",
       "       [ 3.68753831e-01,  1.36613915e+00, -3.99320785e-02],\n",
       "       [-1.11129877e+00,  4.46691119e-01,  1.06592572e-01],\n",
       "       [ 4.90745321e-01, -5.62598380e-01,  1.03998419e-01],\n",
       "       [-1.01921160e+00, -3.96504499e-01, -4.56358789e-01],\n",
       "       [ 8.34107783e-01,  1.22975674e+00, -1.79357417e-01],\n",
       "       [-1.42170261e+00,  2.26000829e-01,  1.55998977e+00],\n",
       "       [-5.22067211e-02, -2.29895640e-01,  9.63271713e-01],\n",
       "       [-2.33669276e+00,  1.07064615e+00, -1.68157685e+00],\n",
       "       [ 8.09192479e-02,  2.42933651e-01,  9.88605653e-01],\n",
       "       [ 9.69432304e-01, -2.80733547e-01, -1.25391203e-01],\n",
       "       [ 5.34911472e-01,  1.93223709e-01, -8.07200879e-01],\n",
       "       [-1.85277032e-01, -1.09851134e+00,  1.45395041e+00],\n",
       "       [-2.45006267e-01, -1.37710123e+00, -3.47180822e-01],\n",
       "       [-8.42996139e-01, -1.83941026e+00,  1.09140583e+00],\n",
       "       [ 1.48037952e+00, -1.28530038e+00,  3.04609178e-01],\n",
       "       [ 9.06070521e-01,  5.51749474e-01,  1.70405743e-01],\n",
       "       [ 9.13873808e-01, -7.00922387e-01,  4.79956247e-01],\n",
       "       [ 1.26746152e-02,  7.85080850e-01,  3.47686915e-01],\n",
       "       [-1.29018898e+00, -4.86846957e-02,  1.38768521e+00],\n",
       "       [-4.00880291e-01, -1.50881115e+00, -3.17049140e-01],\n",
       "       [-8.95058672e-01, -1.10402806e+00,  1.17414719e+00],\n",
       "       [ 7.62511116e-01,  1.34493109e+00, -6.53945528e-01],\n",
       "       [ 5.44118429e-01,  8.53738974e-01,  7.11736692e-01],\n",
       "       [-4.10026327e-01, -1.64355959e+00,  9.14514131e-01],\n",
       "       [ 5.14574536e-01, -1.05486870e+00, -1.56170875e-01],\n",
       "       [-1.49440648e-01,  2.90201281e-02,  8.46935285e-01],\n",
       "       [ 7.44154024e-01,  1.18254923e-02,  7.76760375e-01],\n",
       "       [ 1.03308696e+00,  1.00683810e-03,  8.27503090e-01],\n",
       "       [-4.78104950e-01, -1.58636705e-01,  2.52447637e-01],\n",
       "       [-1.04488841e+00, -1.67282760e+00,  5.40365856e-01],\n",
       "       [ 1.10561476e+00, -1.57272149e-01,  5.35559825e-01],\n",
       "       [ 5.93582738e-01, -2.66064653e-02,  3.45917692e-01],\n",
       "       [ 1.66166817e-01, -2.25931456e-02, -7.18128147e-01],\n",
       "       [ 7.42702686e-01,  8.52855079e-01,  1.13189298e-01],\n",
       "       [ 4.29481475e-01,  4.73237498e-01, -3.15428998e+00],\n",
       "       [ 6.35560150e-01,  3.08749548e-01, -1.94184998e-01],\n",
       "       [ 1.47476412e-01, -1.61484301e+00, -5.51110136e-02],\n",
       "       [ 2.04087947e-02, -2.09098218e+00, -4.41113961e-01],\n",
       "       [-1.30416717e-01,  8.91412024e-01, -5.00638213e-02],\n",
       "       [ 1.17914570e+00,  2.06112222e-01, -9.31353234e-02],\n",
       "       [ 9.71847913e-01, -1.77927395e+00,  8.71009709e-02],\n",
       "       [-6.91273642e-01, -2.42001603e-01,  7.89002219e-02],\n",
       "       [ 1.92997542e-01, -3.76747989e-01,  3.76663752e-01],\n",
       "       [ 2.44766955e-01, -9.54179424e-01,  8.79892930e-02],\n",
       "       [-7.42655317e-01, -1.46366716e-01, -7.83144773e-01],\n",
       "       [-7.38490997e-02, -1.95608207e-02,  1.16610809e+00],\n",
       "       [ 2.18499339e-01, -6.34445903e-01, -9.01356467e-01],\n",
       "       [-2.49293122e-01, -2.04149084e-01,  3.20156513e-01],\n",
       "       [-3.71010426e+00, -1.51799921e+00,  6.06169931e-01],\n",
       "       [-3.83787031e-01,  1.18720553e+00, -8.52910147e-02],\n",
       "       [ 2.00809495e-01,  1.41375329e+00,  1.01128505e-01],\n",
       "       [ 8.76483908e-01,  2.49070932e-01,  4.35444784e-01],\n",
       "       [-2.41387297e-01, -1.36278061e+00,  5.53435752e-01],\n",
       "       [ 1.77192894e-01, -3.54799122e-02, -2.78415128e-01],\n",
       "       [-1.60073093e+00,  6.07016795e-01, -1.68656649e-01],\n",
       "       [ 2.65715926e-01,  1.13899765e+00,  4.41276683e-01],\n",
       "       [-1.17903675e+00, -6.60076132e-01,  9.68510770e-02],\n",
       "       [ 4.44174749e-01,  8.42366089e-01, -1.21242978e+00],\n",
       "       [ 5.42674052e-01,  1.20839475e+00,  7.10813453e-01],\n",
       "       [ 7.79446269e-01,  3.26537890e-01,  7.64579291e-01],\n",
       "       [-9.43373816e-01, -1.72123037e+00,  1.09621322e+00],\n",
       "       [ 8.86503662e-01,  5.41109875e-02, -2.05837314e+00],\n",
       "       [ 5.77282549e-01,  9.22855154e-02,  9.30429627e-01],\n",
       "       [-9.42282958e-01, -2.11052066e+00, -6.18330105e-02],\n",
       "       [ 9.02461949e-01,  4.85712453e-01,  1.95224830e-01],\n",
       "       [ 3.77457712e-01, -4.88313566e-01,  2.00629277e-01],\n",
       "       [-3.64227392e+00,  2.15146395e+00, -2.15175079e+00],\n",
       "       [-1.00056720e+00,  1.40629397e+00,  1.09915452e+00],\n",
       "       [ 8.19184939e-01,  4.79203983e-02,  1.05171319e-01],\n",
       "       [-6.47276780e-01, -1.53139206e+00, -1.67326577e+00],\n",
       "       [ 4.16399689e-01,  8.65373040e-01,  7.57486717e-01],\n",
       "       [ 2.43833868e-01,  1.24689946e+00, -5.55083347e-01],\n",
       "       [ 3.83277034e-01,  7.46183143e-01,  8.71115462e-01],\n",
       "       [-2.47070064e-01,  1.39614545e+00,  8.90400815e-01],\n",
       "       [ 1.25583972e-01,  2.66663210e-01, -1.24689522e-01],\n",
       "       [-3.17737157e-02,  9.16390070e-01,  6.10330123e-01],\n",
       "       [ 1.31889249e-01,  4.85524337e-01,  9.71045926e-01],\n",
       "       [-4.13326481e-01,  1.11789212e+00,  2.80868524e-01],\n",
       "       [-3.00165614e+00,  1.69972237e+00, -1.70962949e+00],\n",
       "       [ 1.05751003e+00, -6.65940091e-01, -8.39091594e-01],\n",
       "       [-1.95756506e+00, -1.07098855e+00, -5.66458540e-01],\n",
       "       [ 4.59205948e-01, -2.67755397e-03, -1.20676843e+00],\n",
       "       [-2.69473123e+00,  2.85573130e-01,  1.13776868e-01],\n",
       "       [ 6.00436223e-01,  5.72531834e-01,  7.33047574e-01],\n",
       "       [ 2.17100970e-02,  8.65790463e-01,  7.17650289e-01],\n",
       "       [ 5.85398675e-02, -1.43630209e+00,  8.54474382e-01],\n",
       "       [ 5.14293684e-01, -2.06914611e-01,  3.95340385e-01],\n",
       "       [ 2.54658737e-01, -4.12086002e-01,  1.01946157e+00],\n",
       "       [ 5.70500657e-01,  4.00002302e-01,  5.84741957e-01],\n",
       "       [ 1.12938614e+00, -2.17469889e+00, -4.15951376e-01],\n",
       "       [-4.19541370e-01,  1.08002597e+00,  9.17468635e-01],\n",
       "       [-2.57131173e+00, -1.25554185e+00, -1.74496034e+00],\n",
       "       [ 6.22429023e-01,  6.56738188e-01, -2.27857047e-01],\n",
       "       [ 2.28450205e-01, -3.66157875e-01,  2.67585581e-01],\n",
       "       [-9.08387993e-01, -4.77263738e-01,  4.83788919e-01],\n",
       "       [-6.66139940e-01,  2.02091972e+00, -3.58847995e+00],\n",
       "       [ 9.42200982e-01,  4.00193668e-01,  8.12365550e-01],\n",
       "       [-5.56354803e-01,  5.24730365e-01,  5.06659490e-01],\n",
       "       [ 8.18900527e-01, -2.85688033e+00,  7.70488366e-01],\n",
       "       [ 5.55936122e-01, -1.65433334e+00,  7.27253083e-01],\n",
       "       [-4.59694473e-02, -2.03297248e-01, -2.42315767e-01],\n",
       "       [-3.45629204e-01, -6.63928858e-01, -1.40901041e-01],\n",
       "       [ 7.45047993e-01,  1.12436484e+00,  7.60854182e-01],\n",
       "       [ 1.07422055e+00,  2.96110923e-01, -6.92539310e-01],\n",
       "       [-9.65431493e-01, -8.79742347e-01,  7.59411667e-01],\n",
       "       [-7.38083514e-02,  1.47500387e+00, -2.51902156e-02],\n",
       "       [ 1.48411958e-01, -1.15950612e+00, -7.17980020e-01],\n",
       "       [ 1.39155472e+00, -1.53632520e+00, -3.21400844e-01],\n",
       "       [ 4.18556820e-01, -9.21406853e-01, -1.96977178e+00],\n",
       "       [ 5.40495106e-01,  7.86833385e-01, -5.85578981e-01],\n",
       "       [ 2.12870396e-01,  9.05732803e-02,  3.12541718e-01],\n",
       "       [ 1.23344638e-01,  7.50832696e-01,  2.63211521e-02],\n",
       "       [-2.71700526e-02,  1.76631688e+00, -1.83513921e+00],\n",
       "       [-6.14574639e-01,  1.57203468e+00,  4.38727993e-01],\n",
       "       [-1.15106053e+00, -1.78586063e+00, -2.24380812e-01],\n",
       "       [ 2.75651725e-01, -5.71028052e-01,  3.60261392e-02],\n",
       "       [-5.92357773e-01, -1.06630910e+00,  1.13254310e+00],\n",
       "       [ 7.69996072e-01,  1.18107901e+00,  4.33250269e-01],\n",
       "       [ 2.19800521e-01,  1.09640970e+00,  2.47702703e-01],\n",
       "       [ 2.33060789e-01,  2.17075925e-01, -6.51597591e-01],\n",
       "       [-1.49741397e+00,  6.20057819e-01, -3.16119352e-01],\n",
       "       [ 1.78486164e-01,  3.56821405e-01,  2.78769476e-01],\n",
       "       [ 7.46268688e-01,  5.67120360e-01,  8.45992522e-01],\n",
       "       [-7.69323493e-01, -3.78828900e-01, -8.35158635e-01],\n",
       "       [ 1.10577930e+00,  3.57752077e-01, -1.02463462e-01],\n",
       "       [-1.67216763e+00,  9.03717691e-01, -3.04493711e-01],\n",
       "       [-3.83784812e-01, -7.35957651e-02,  4.78887199e-01],\n",
       "       [-3.26475878e-01, -6.93496884e-01,  5.86754747e-01],\n",
       "       [ 5.45868929e-01, -1.08283861e+00,  7.51586766e-01],\n",
       "       [ 6.59986660e-01,  4.26671125e-01,  7.36831616e-01],\n",
       "       [ 2.99890154e-01,  9.22102659e-01,  7.22700549e-01],\n",
       "       [ 7.72350072e-01,  3.84550739e-01,  3.91426502e-01],\n",
       "       [-8.34901671e-01, -4.82428914e-01, -5.58171518e-01],\n",
       "       [-6.00091274e-02,  1.50546680e+00, -1.41472648e-01],\n",
       "       [-4.67573821e-01, -9.60705274e-01, -8.76442258e-01],\n",
       "       [-7.80074447e-01,  1.64075499e+00, -5.30515301e-01],\n",
       "       [ 4.05376934e-01, -1.74111812e+00, -2.75865709e-01],\n",
       "       [ 7.10431078e-01,  1.13664519e+00,  7.59343171e-01],\n",
       "       [ 3.74609645e-01,  1.23616641e+00,  4.23111964e-01],\n",
       "       [ 9.42215540e-01,  5.90488192e-01,  4.82488606e-01],\n",
       "       [-1.35564864e+00,  2.75995159e-03,  6.50511870e-01],\n",
       "       [ 2.14230614e-01,  3.51645865e-01,  4.14586918e-02],\n",
       "       [ 6.26017194e-03, -1.40364401e+00, -1.01085163e+00],\n",
       "       [-5.99519087e-01,  7.37118984e-01,  9.96643396e-02],\n",
       "       [ 1.25538309e+00, -2.12697605e+00, -1.34884019e+00],\n",
       "       [ 5.21993437e-01,  1.21584902e+00,  5.48200306e-01],\n",
       "       [ 5.07598771e-02, -1.05352033e+00, -2.14359782e+00],\n",
       "       [-8.87601564e-01, -1.31133758e+00, -5.54313715e-01],\n",
       "       [-1.89939712e-01, -1.69881316e+00, -1.52538152e+00],\n",
       "       [-6.83384889e-02, -9.49789276e-01,  1.26594481e+00],\n",
       "       [ 4.35312388e-01,  6.76180656e-02, -2.38455514e-01],\n",
       "       [ 1.98976808e-01,  6.45237363e-01,  6.48138982e-02],\n",
       "       [-7.93071515e-01, -1.09601761e+00,  4.71686007e-02],\n",
       "       [-1.73138308e+00, -1.30984523e+00, -1.66881555e+00],\n",
       "       [ 7.09586224e-01,  6.02712518e-01,  4.30064229e-01],\n",
       "       [ 2.36519692e-01,  2.71259412e-01, -5.54643502e-01],\n",
       "       [ 7.45047993e-01,  1.12436484e+00,  7.60854182e-01],\n",
       "       [ 1.89513279e-01,  1.05965764e+00,  6.31401919e-01],\n",
       "       [ 9.80709039e-01,  7.14078708e-01, -6.79517791e-01],\n",
       "       [-8.54758295e-01, -1.51218418e+00, -5.92423886e-01],\n",
       "       [ 1.12480803e+00,  1.49447760e-01, -8.03356216e-02],\n",
       "       [ 6.09947922e-01,  1.79911753e-01, -2.45429155e-01],\n",
       "       [-1.00013649e+00, -8.62016145e-01, -1.88565068e-01],\n",
       "       [ 1.23656393e+00, -7.34817128e-01, -7.13104554e-01],\n",
       "       [ 5.32671119e-01, -6.32494223e-01,  1.32236531e-01]])"
      ]
     },
     "execution_count": 26,
     "metadata": {},
     "output_type": "execute_result"
    }
   ],
   "source": [
    "factor_score=fa1.transform(factor_data)\n",
    "factor_score\n",
    "## what is this factor_score??????????"
   ]
  },
  {
   "cell_type": "code",
   "execution_count": 27,
   "id": "e18d8c25-985a-4c06-bbe6-c407ea7c7e29",
   "metadata": {},
   "outputs": [],
   "source": [
    "#combining columns based on factor analysis\n",
    "new_JS=factor_data[['JS1','JS2','JS3']]\n",
    "new_FS_LS=factor_data[['FS1','FS2','FS3','LS1','LS2','LS3','LS4','LS5']]\n",
    "new_wfb=factor_data[['WFB1','WFB2','WFB3','WFB4','WFB5']]\n"
   ]
  },
  {
   "cell_type": "code",
   "execution_count": 80,
   "id": "52e7fba0-1119-4363-bbeb-ac1077a86465",
   "metadata": {
    "tags": []
   },
   "outputs": [
    {
     "data": {
      "text/plain": [
       "(     JS1  JS2  JS3\n",
       " 0    3.0  6.0  6.0\n",
       " 1    7.0  6.0  7.0\n",
       " 2    6.0  6.0  7.0\n",
       " 3    7.0  7.0  7.0\n",
       " 4    7.0  7.0  7.0\n",
       " ..   ...  ...  ...\n",
       " 289  6.0  6.0  6.0\n",
       " 290  6.0  6.0  6.0\n",
       " 291  5.0  5.0  6.0\n",
       " 292  5.0  6.0  5.0\n",
       " 293  6.0  6.0  6.0\n",
       " \n",
       " [294 rows x 3 columns],\n",
       "      FS1  FS2  FS3  LS1  LS2  LS3  LS4  LS5\n",
       " 0    5.0  5.0  5.0  5.0  5.0  5.0  3.0  2.0\n",
       " 1    7.0  6.0  6.0  6.0  6.0  6.0  6.0  6.0\n",
       " 2    5.0  5.0  5.0  5.0  6.0  6.0  7.0  4.0\n",
       " 3    6.0  6.0  6.0  7.0  6.0  6.0  6.0  5.0\n",
       " 4    4.0  4.0  5.0  6.0  6.0  6.0  7.0  1.0\n",
       " ..   ...  ...  ...  ...  ...  ...  ...  ...\n",
       " 289  7.0  7.0  7.0  7.0  7.0  7.0  7.0  4.0\n",
       " 290  7.0  7.0  7.0  6.0  7.0  5.0  5.0  5.0\n",
       " 291  4.0  4.0  4.0  4.0  5.0  4.0  6.0  3.0\n",
       " 292  7.0  7.0  7.0  6.0  7.0  6.0  6.0  7.0\n",
       " 293  6.0  6.0  6.0  6.0  6.0  6.0  6.0  6.0\n",
       " \n",
       " [294 rows x 8 columns],\n",
       "      WFB1  WFB2  WFB3  WFB4  WFB5\n",
       " 0       2   2.0     2     2   1.0\n",
       " 1       3   3.0     6     2   2.0\n",
       " 2       5   5.0     4     6   6.0\n",
       " 3       6   6.0     6     6   7.0\n",
       " 4       4   6.0     6     5   6.0\n",
       " ..    ...   ...   ...   ...   ...\n",
       " 289     6   5.0     6     5   7.0\n",
       " 290     5   6.0     4     5   7.0\n",
       " 291     3   3.0     3     3   3.0\n",
       " 292     4   4.0     4     4   5.0\n",
       " 293     6   4.0     5     3   4.0\n",
       " \n",
       " [294 rows x 5 columns])"
      ]
     },
     "execution_count": 80,
     "metadata": {},
     "output_type": "execute_result"
    }
   ],
   "source": [
    "new_JS,new_FS_LS,new_wfb"
   ]
  },
  {
   "cell_type": "code",
   "execution_count": null,
   "id": "34348aa4-05b9-46d0-b5b9-5c28ecbef9aa",
   "metadata": {},
   "outputs": [],
   "source": []
  },
  {
   "cell_type": "code",
   "execution_count": 81,
   "id": "8f73bb7b-083f-4b6b-a813-2646c8a3febb",
   "metadata": {
    "id": "6W6zK0joT6HS"
   },
   "outputs": [],
   "source": [
    "import pingouin as pn"
   ]
  },
  {
   "cell_type": "code",
   "execution_count": 82,
   "id": "1db30875-541b-492d-841d-8096c5b50142",
   "metadata": {
    "id": "9z9nvSc3T6HS"
   },
   "outputs": [],
   "source": [
    "#calculating cronbach alpha\n",
    "JS_alpha = pn.cronbach_alpha(new_JS)\n",
    "FS_alpha = pn.cronbach_alpha(new_FS_LS)\n",
    "#LS_alpha = pn.cronbach_alpha(LS)\n",
    "WFB_alpha = pn.cronbach_alpha(new_wfb)"
   ]
  },
  {
   "cell_type": "code",
   "execution_count": 83,
   "id": "d1413de8-634d-4289-a2a5-e1707ebad6f7",
   "metadata": {
    "colab": {
     "base_uri": "https://localhost:8080/"
    },
    "id": "YuXJhlQFT6HS",
    "outputId": "2d634225-72d3-4fb0-bae5-f8569982f594"
   },
   "outputs": [
    {
     "name": "stdout",
     "output_type": "stream",
     "text": [
      "(0.8758467432350358, array([0.849, 0.899])) (0.9382920238175744, array([0.927, 0.948])) (0.9575117942133162, array([0.949, 0.965]))\n"
     ]
    }
   ],
   "source": [
    "print(JS_alpha,FS_alpha,WFB_alpha)"
   ]
  },
  {
   "cell_type": "markdown",
   "id": "5c5e0927-3cbf-4b0a-b5bc-903f20ef7023",
   "metadata": {},
   "source": [
    "after calulating cronbach alpha what should we do.........???? ask....."
   ]
  },
  {
   "cell_type": "markdown",
   "id": "a6df50f7-3831-4df6-901e-b6b5d28decd2",
   "metadata": {},
   "source": [
    "                                                end"
   ]
  },
  {
   "cell_type": "markdown",
   "id": "203109b8-6ac0-4e41-a9a6-4036510ce774",
   "metadata": {
    "tags": []
   },
   "source": [
    "### model building"
   ]
  },
  {
   "cell_type": "code",
   "execution_count": null,
   "id": "6ab00c41-775a-4518-b09c-bb9ee8c042fa",
   "metadata": {},
   "outputs": [],
   "source": []
  },
  {
   "cell_type": "code",
   "execution_count": 84,
   "id": "acec46ef-161e-41bb-8f7e-caea7f059bfd",
   "metadata": {},
   "outputs": [],
   "source": [
    "from sklearn.model_selection import train_test_split\n",
    "from sklearn.neighbors import KNeighborsClassifier \n",
    "from sklearn import tree\n",
    "from sklearn.metrics import accuracy_score"
   ]
  },
  {
   "cell_type": "code",
   "execution_count": 85,
   "id": "325da5d6-82db-4337-a438-d3584305cc1e",
   "metadata": {},
   "outputs": [],
   "source": [
    "#converting some object data type to int\n",
    "gender = {\"Female\":0, \"Male\":1}\n",
    "yes_no = {\"No\" : 0, \"Yes\" :1}\n",
    "dependents = {\"0\":0,\"1\" :1 , \"2\":2, \"3+\":3}\n",
    "education = {\"Not Graduate\": 0, \"Graduate\":1}\n",
    "property = {\"Semiurban\":0, \"Urban\" :1, \"Rural\" :2}\n",
    "output={\"N\":0, \"Y\" : 1}"
   ]
  },
  {
   "cell_type": "code",
   "execution_count": 86,
   "id": "490d6d76-3e7d-4c99-92ff-acc25a95a2f8",
   "metadata": {},
   "outputs": [],
   "source": [
    "d['Gender'] = d['Gender'].replace(gender)\n",
    "d['Married'] = d['Married'].replace(yes_no)\n",
    "d['Dependents'] = d['Dependents'].replace(dependents)\n",
    "d['Education'] = d['Education'].replace(education)\n",
    "d['Property_Area'] = d['Property_Area'].replace(property)\n",
    "d['Loan_Status'] = d['Loan_Status'].replace(output)"
   ]
  },
  {
   "cell_type": "code",
   "execution_count": 87,
   "id": "1c646868-9f69-414c-868d-2460257ceb3b",
   "metadata": {},
   "outputs": [],
   "source": [
    "d['Self_Employed'] = d['Self_Employed'].replace(yes_no)\n"
   ]
  },
  {
   "cell_type": "code",
   "execution_count": 88,
   "id": "621451c3-63e9-4126-af10-ddcdddbd6e03",
   "metadata": {},
   "outputs": [
    {
     "data": {
      "text/html": [
       "<div>\n",
       "<style scoped>\n",
       "    .dataframe tbody tr th:only-of-type {\n",
       "        vertical-align: middle;\n",
       "    }\n",
       "\n",
       "    .dataframe tbody tr th {\n",
       "        vertical-align: top;\n",
       "    }\n",
       "\n",
       "    .dataframe thead th {\n",
       "        text-align: right;\n",
       "    }\n",
       "</style>\n",
       "<table border=\"1\" class=\"dataframe\">\n",
       "  <thead>\n",
       "    <tr style=\"text-align: right;\">\n",
       "      <th></th>\n",
       "      <th>Gender</th>\n",
       "      <th>Married</th>\n",
       "      <th>Dependents</th>\n",
       "      <th>Education</th>\n",
       "      <th>Self_Employed</th>\n",
       "      <th>ApplicantIncome</th>\n",
       "      <th>CoapplicantIncome</th>\n",
       "      <th>LoanAmount</th>\n",
       "      <th>Loan_Amount_Term</th>\n",
       "      <th>Credit_History</th>\n",
       "      <th>Property_Area</th>\n",
       "      <th>Loan_Status</th>\n",
       "    </tr>\n",
       "  </thead>\n",
       "  <tbody>\n",
       "    <tr>\n",
       "      <th>0</th>\n",
       "      <td>1</td>\n",
       "      <td>0</td>\n",
       "      <td>0</td>\n",
       "      <td>1</td>\n",
       "      <td>0</td>\n",
       "      <td>5849</td>\n",
       "      <td>0.0</td>\n",
       "      <td>120.0</td>\n",
       "      <td>360.0</td>\n",
       "      <td>1.0</td>\n",
       "      <td>1</td>\n",
       "      <td>1</td>\n",
       "    </tr>\n",
       "    <tr>\n",
       "      <th>1</th>\n",
       "      <td>1</td>\n",
       "      <td>1</td>\n",
       "      <td>1</td>\n",
       "      <td>1</td>\n",
       "      <td>0</td>\n",
       "      <td>4583</td>\n",
       "      <td>1508.0</td>\n",
       "      <td>128.0</td>\n",
       "      <td>360.0</td>\n",
       "      <td>1.0</td>\n",
       "      <td>2</td>\n",
       "      <td>0</td>\n",
       "    </tr>\n",
       "    <tr>\n",
       "      <th>2</th>\n",
       "      <td>1</td>\n",
       "      <td>1</td>\n",
       "      <td>0</td>\n",
       "      <td>1</td>\n",
       "      <td>1</td>\n",
       "      <td>3000</td>\n",
       "      <td>0.0</td>\n",
       "      <td>66.0</td>\n",
       "      <td>360.0</td>\n",
       "      <td>1.0</td>\n",
       "      <td>1</td>\n",
       "      <td>1</td>\n",
       "    </tr>\n",
       "    <tr>\n",
       "      <th>3</th>\n",
       "      <td>1</td>\n",
       "      <td>1</td>\n",
       "      <td>0</td>\n",
       "      <td>0</td>\n",
       "      <td>0</td>\n",
       "      <td>2583</td>\n",
       "      <td>2358.0</td>\n",
       "      <td>120.0</td>\n",
       "      <td>360.0</td>\n",
       "      <td>1.0</td>\n",
       "      <td>1</td>\n",
       "      <td>1</td>\n",
       "    </tr>\n",
       "    <tr>\n",
       "      <th>4</th>\n",
       "      <td>1</td>\n",
       "      <td>0</td>\n",
       "      <td>0</td>\n",
       "      <td>1</td>\n",
       "      <td>0</td>\n",
       "      <td>6000</td>\n",
       "      <td>0.0</td>\n",
       "      <td>141.0</td>\n",
       "      <td>360.0</td>\n",
       "      <td>1.0</td>\n",
       "      <td>1</td>\n",
       "      <td>1</td>\n",
       "    </tr>\n",
       "  </tbody>\n",
       "</table>\n",
       "</div>"
      ],
      "text/plain": [
       "   Gender  Married  Dependents  Education  Self_Employed  ApplicantIncome  \\\n",
       "0       1        0           0          1              0             5849   \n",
       "1       1        1           1          1              0             4583   \n",
       "2       1        1           0          1              1             3000   \n",
       "3       1        1           0          0              0             2583   \n",
       "4       1        0           0          1              0             6000   \n",
       "\n",
       "   CoapplicantIncome  LoanAmount  Loan_Amount_Term  Credit_History  \\\n",
       "0                0.0       120.0             360.0             1.0   \n",
       "1             1508.0       128.0             360.0             1.0   \n",
       "2                0.0        66.0             360.0             1.0   \n",
       "3             2358.0       120.0             360.0             1.0   \n",
       "4                0.0       141.0             360.0             1.0   \n",
       "\n",
       "   Property_Area  Loan_Status  \n",
       "0              1            1  \n",
       "1              2            0  \n",
       "2              1            1  \n",
       "3              1            1  \n",
       "4              1            1  "
      ]
     },
     "execution_count": 88,
     "metadata": {},
     "output_type": "execute_result"
    }
   ],
   "source": [
    "d.head()"
   ]
  },
  {
   "cell_type": "code",
   "execution_count": 89,
   "id": "f3247300-da32-40dd-8e6d-9c800fc60441",
   "metadata": {},
   "outputs": [],
   "source": [
    "x=d.drop('Loan_Status', axis=1)\n",
    "y=d.Loan_Status\n"
   ]
  },
  {
   "cell_type": "code",
   "execution_count": 90,
   "id": "f35ee222-00ed-4dbb-ab01-1b33e4f59354",
   "metadata": {},
   "outputs": [],
   "source": [
    "#splitting\n",
    "x_train, x_test, y_trian, y_test = train_test_split(x, y, test_size=0.25,random_state = 38, stratify = y)"
   ]
  },
  {
   "cell_type": "code",
   "execution_count": 91,
   "id": "d8bd678a-c0e0-46c0-a558-09394c67e8fd",
   "metadata": {
    "tags": []
   },
   "outputs": [
    {
     "data": {
      "text/plain": [
       "KNeighborsClassifier()"
      ]
     },
     "execution_count": 91,
     "metadata": {},
     "output_type": "execute_result"
    }
   ],
   "source": [
    "#implementing knn\n",
    "knn = KNeighborsClassifier(n_neighbors=5)\n",
    "knn.fit(x_train,y_trian)"
   ]
  },
  {
   "cell_type": "code",
   "execution_count": 92,
   "id": "5714ca82-c54b-4f7a-b3ca-92e31c611bbf",
   "metadata": {},
   "outputs": [],
   "source": [
    "prediction_knn = knn.predict(x_test)"
   ]
  },
  {
   "cell_type": "code",
   "execution_count": 93,
   "id": "669770ea-50dd-4036-a694-e4c54ca994f2",
   "metadata": {},
   "outputs": [
    {
     "data": {
      "text/plain": [
       "array([1, 1, 0, 1, 0, 1, 1, 1, 1, 1, 1, 0, 1, 1, 1, 0, 1, 1, 1, 1, 1, 1,\n",
       "       1, 1, 1, 1, 1, 1, 1, 0, 1, 1, 1, 1, 1, 1, 1, 1, 1, 1, 1, 1, 1, 1,\n",
       "       1, 1, 1, 1, 0, 1, 1, 1, 1, 1, 1, 1, 0, 1, 1, 1, 1, 1, 0, 1, 0, 1,\n",
       "       1, 1, 1, 0, 1, 1, 1, 1, 1, 1, 1, 1, 0, 1, 1, 0, 1, 1, 1, 1, 1, 0,\n",
       "       1, 1, 1, 1, 0, 1, 1, 1, 1, 1, 1, 1, 1, 1, 1, 1, 1, 0, 1, 1, 1, 1,\n",
       "       1, 1, 1, 1, 1, 1, 1, 1, 0, 1, 0, 1, 1, 0, 1, 1, 1, 1, 0, 1, 1, 1,\n",
       "       1, 1, 1, 1, 1, 1, 0, 1, 0, 1, 1, 1, 1, 1, 1, 1, 1, 1, 1, 0, 1, 1],\n",
       "      dtype=int64)"
      ]
     },
     "execution_count": 93,
     "metadata": {},
     "output_type": "execute_result"
    }
   ],
   "source": [
    "prediction_knn"
   ]
  },
  {
   "cell_type": "code",
   "execution_count": 94,
   "id": "cc12d047-0330-471b-b32d-5f9aa870e534",
   "metadata": {},
   "outputs": [
    {
     "name": "stdout",
     "output_type": "stream",
     "text": [
      "score for training set: 0.74\n"
     ]
    }
   ],
   "source": [
    "print('score for training set: {:.2f}'.format(knn.score(x_train,y_trian)))"
   ]
  },
  {
   "cell_type": "code",
   "execution_count": 95,
   "id": "fcdc1672-9f7e-4240-9be4-8f8a39863a0c",
   "metadata": {},
   "outputs": [
    {
     "name": "stdout",
     "output_type": "stream",
     "text": [
      "score for test data set: 0.66\n"
     ]
    }
   ],
   "source": [
    "print('score for test data set: {:.2f}'.format(knn.score(x_test,y_test)))"
   ]
  },
  {
   "cell_type": "code",
   "execution_count": 96,
   "id": "5ed7fb8a-a026-419d-9db9-cf927646fc8b",
   "metadata": {},
   "outputs": [
    {
     "name": "stdout",
     "output_type": "stream",
     "text": [
      "accuracy of model : 0.66\n"
     ]
    }
   ],
   "source": [
    "print('accuracy of model : {:.2f}'.format(accuracy_score(y_test,prediction_knn)))\n",
    "\n",
    "#interchanging of y_test and predictions_knn doesnt impact accuracy_score"
   ]
  },
  {
   "cell_type": "code",
   "execution_count": 97,
   "id": "39c559e6-89b2-4a22-9cf2-7b7face2e64c",
   "metadata": {},
   "outputs": [
    {
     "data": {
      "text/html": [
       "<div>\n",
       "<style scoped>\n",
       "    .dataframe tbody tr th:only-of-type {\n",
       "        vertical-align: middle;\n",
       "    }\n",
       "\n",
       "    .dataframe tbody tr th {\n",
       "        vertical-align: top;\n",
       "    }\n",
       "\n",
       "    .dataframe thead th {\n",
       "        text-align: right;\n",
       "    }\n",
       "</style>\n",
       "<table border=\"1\" class=\"dataframe\">\n",
       "  <thead>\n",
       "    <tr style=\"text-align: right;\">\n",
       "      <th></th>\n",
       "      <th>Actual Value</th>\n",
       "      <th>Predicted value</th>\n",
       "    </tr>\n",
       "  </thead>\n",
       "  <tbody>\n",
       "    <tr>\n",
       "      <th>263</th>\n",
       "      <td>1</td>\n",
       "      <td>1</td>\n",
       "    </tr>\n",
       "    <tr>\n",
       "      <th>395</th>\n",
       "      <td>1</td>\n",
       "      <td>1</td>\n",
       "    </tr>\n",
       "    <tr>\n",
       "      <th>226</th>\n",
       "      <td>0</td>\n",
       "      <td>0</td>\n",
       "    </tr>\n",
       "    <tr>\n",
       "      <th>413</th>\n",
       "      <td>1</td>\n",
       "      <td>1</td>\n",
       "    </tr>\n",
       "    <tr>\n",
       "      <th>403</th>\n",
       "      <td>1</td>\n",
       "      <td>0</td>\n",
       "    </tr>\n",
       "    <tr>\n",
       "      <th>...</th>\n",
       "      <td>...</td>\n",
       "      <td>...</td>\n",
       "    </tr>\n",
       "    <tr>\n",
       "      <th>352</th>\n",
       "      <td>1</td>\n",
       "      <td>1</td>\n",
       "    </tr>\n",
       "    <tr>\n",
       "      <th>238</th>\n",
       "      <td>1</td>\n",
       "      <td>1</td>\n",
       "    </tr>\n",
       "    <tr>\n",
       "      <th>248</th>\n",
       "      <td>1</td>\n",
       "      <td>0</td>\n",
       "    </tr>\n",
       "    <tr>\n",
       "      <th>104</th>\n",
       "      <td>1</td>\n",
       "      <td>1</td>\n",
       "    </tr>\n",
       "    <tr>\n",
       "      <th>8</th>\n",
       "      <td>1</td>\n",
       "      <td>1</td>\n",
       "    </tr>\n",
       "  </tbody>\n",
       "</table>\n",
       "<p>154 rows × 2 columns</p>\n",
       "</div>"
      ],
      "text/plain": [
       "     Actual Value  Predicted value\n",
       "263             1                1\n",
       "395             1                1\n",
       "226             0                0\n",
       "413             1                1\n",
       "403             1                0\n",
       "..            ...              ...\n",
       "352             1                1\n",
       "238             1                1\n",
       "248             1                0\n",
       "104             1                1\n",
       "8               1                1\n",
       "\n",
       "[154 rows x 2 columns]"
      ]
     },
     "execution_count": 97,
     "metadata": {},
     "output_type": "execute_result"
    }
   ],
   "source": [
    "#creating dataframe \n",
    "diff_knn = pd.DataFrame({'Actual Value':y_test,\n",
    "                        'Predicted value' :prediction_knn})\n",
    "diff_knn"
   ]
  },
  {
   "cell_type": "code",
   "execution_count": 98,
   "id": "0dd46914-e246-4e59-a89f-3211256a6328",
   "metadata": {},
   "outputs": [
    {
     "name": "stdout",
     "output_type": "stream",
     "text": [
      "[[ 9 39]\n",
      " [13 93]]\n"
     ]
    },
    {
     "data": {
      "text/plain": [
       "Text(33.0, 0.5, 'True')"
      ]
     },
     "execution_count": 98,
     "metadata": {},
     "output_type": "execute_result"
    },
    {
     "data": {
      "image/png": "[encoded data removed]",
      "text/plain": [
       "<Figure size 432x288 with 2 Axes>"
      ]
     },
     "metadata": {
      "needs_background": "light"
     },
     "output_type": "display_data"
    }
   ],
   "source": [
    "#confusion matrix and classification report\n",
    "#from sklearn.metrics import metrics\n",
    "from sklearn.metrics import classification_report, confusion_matrix\n",
    "con_mat = confusion_matrix(y_test,prediction_knn)\n",
    "print(con_mat)\n",
    "\n",
    "sns.heatmap(con_mat, annot=True, fmt='d')\n",
    "plt.title(\"Confusion matric\")\n",
    "plt.xlabel(\"Predicted\")\n",
    "plt.ylabel(\"True\")"
   ]
  },
  {
   "cell_type": "code",
   "execution_count": 99,
   "id": "dcb3d06c-5964-43bf-90c3-94e74404707d",
   "metadata": {},
   "outputs": [],
   "source": [
    "from sklearn.metrics import ConfusionMatrixDisplay\n",
    "%matplotlib inline\n"
   ]
  },
  {
   "cell_type": "code",
   "execution_count": 100,
   "id": "7055561c-2c7b-4378-a152-1f4c1a872f5e",
   "metadata": {},
   "outputs": [
    {
     "data": {
      "text/plain": [
       "<sklearn.metrics._plot.confusion_matrix.ConfusionMatrixDisplay at 0x20f34174340>"
      ]
     },
     "execution_count": 100,
     "metadata": {},
     "output_type": "execute_result"
    },
    {
     "data": {
      "image/png": "[encoded data removed]",
      "text/plain": [
       "<Figure size 432x288 with 2 Axes>"
      ]
     },
     "metadata": {
      "needs_background": "light"
     },
     "output_type": "display_data"
    }
   ],
   "source": [
    "ConfusionMatrixDisplay.from_predictions(y_test,prediction_knn,\n",
    "                                        normalize='all',\n",
    "                                       labels=(True,False))\n"
   ]
  },
  {
   "cell_type": "code",
   "execution_count": 101,
   "id": "03090e40-a524-40f8-b63b-0f79f137e566",
   "metadata": {},
   "outputs": [
    {
     "data": {
      "text/plain": [
       "<sklearn.metrics._plot.confusion_matrix.ConfusionMatrixDisplay at 0x20f34160850>"
      ]
     },
     "execution_count": 101,
     "metadata": {},
     "output_type": "execute_result"
    },
    {
     "data": {
      "image/png": "[encoded data removed]",
      "text/plain": [
       "<Figure size 432x288 with 2 Axes>"
      ]
     },
     "metadata": {
      "needs_background": "light"
     },
     "output_type": "display_data"
    }
   ],
   "source": [
    "ConfusionMatrixDisplay.from_predictions(y_test,prediction_knn,\n",
    "                                        normalize='all',\n",
    "                                       display_labels=('Rajesh','Ramesh'),\n",
    "                                      cmap='cividis',\n",
    "                                       colorbar=True\n",
    "                                       )\n",
    "\n"
   ]
  },
  {
   "cell_type": "code",
   "execution_count": 102,
   "id": "487ea7a0-51b0-45f8-936a-b01b98c0ade1",
   "metadata": {},
   "outputs": [
    {
     "data": {
      "text/plain": [
       "<sklearn.metrics._plot.confusion_matrix.ConfusionMatrixDisplay at 0x20f342bca00>"
      ]
     },
     "execution_count": 102,
     "metadata": {},
     "output_type": "execute_result"
    },
    {
     "data": {
      "image/png": "[encoded data removed]",
      "text/plain": [
       "<Figure size 432x288 with 2 Axes>"
      ]
     },
     "metadata": {
      "needs_background": "light"
     },
     "output_type": "display_data"
    }
   ],
   "source": [
    "ConfusionMatrixDisplay.from_predictions(y_test,prediction_knn,\n",
    "                                        normalize='all',\n",
    "                                       labels=(False,True))\n"
   ]
  },
  {
   "cell_type": "code",
   "execution_count": 103,
   "id": "c8e5deaf-c084-45c7-93a9-c910e21a37d3",
   "metadata": {},
   "outputs": [
    {
     "name": "stdout",
     "output_type": "stream",
     "text": [
      "              precision    recall  f1-score   support\n",
      "\n",
      "           0       0.41      0.19      0.26        48\n",
      "           1       0.70      0.88      0.78       106\n",
      "\n",
      "    accuracy                           0.66       154\n",
      "   macro avg       0.56      0.53      0.52       154\n",
      "weighted avg       0.61      0.66      0.62       154\n",
      "\n"
     ]
    }
   ],
   "source": [
    "print(classification_report(y_test,prediction_knn))"
   ]
  },
  {
   "cell_type": "markdown",
   "id": "e784cddf-e838-4f29-b410-ff8512e813ba",
   "metadata": {},
   "source": [
    "decision tree"
   ]
  },
  {
   "cell_type": "code",
   "execution_count": 104,
   "id": "8da46b47-0683-425b-8c0f-90f428f8d74e",
   "metadata": {},
   "outputs": [
    {
     "data": {
      "text/plain": [
       "DecisionTreeClassifier()"
      ]
     },
     "execution_count": 104,
     "metadata": {},
     "output_type": "execute_result"
    }
   ],
   "source": [
    "dTree = tree.DecisionTreeClassifier()\n",
    "dTree.fit(x_train, y_trian)"
   ]
  },
  {
   "cell_type": "code",
   "execution_count": 105,
   "id": "f27bbb92-5482-445d-a86f-8b64e098a442",
   "metadata": {},
   "outputs": [
    {
     "name": "stdout",
     "output_type": "stream",
     "text": [
      "prediction for test set : [1 1 1 1 1 1 1 1 1 1 0 1 1 1 0 1 1 0 0 1 1 1 1 1 0 1 1 1 1 1 0 0 1 1 0 0 0\n",
      " 1 0 1 0 1 1 1 1 0 1 1 1 1 1 1 0 1 1 1 0 1 1 0 1 0 1 1 1 1 1 0 1 1 0 1 0 0\n",
      " 1 1 1 1 0 1 1 1 0 1 1 1 1 1 1 0 0 1 1 0 1 1 1 1 0 0 1 1 1 1 1 1 1 0 1 1 1\n",
      " 1 1 0 0 1 0 1 1 0 1 1 1 1 1 1 0 1 1 1 0 1 1 0 1 0 1 1 1 0 1 1 1 1 0 1 1 1\n",
      " 1 1 1 0 1 1]\n"
     ]
    }
   ],
   "source": [
    "predction_dt = dTree.predict(x_test)\n",
    "print(\"prediction for test set : {}\".format(predction_dt))"
   ]
  },
  {
   "cell_type": "code",
   "execution_count": 106,
   "id": "36995356-0ba4-42e7-9293-783e663c9b68",
   "metadata": {},
   "outputs": [
    {
     "name": "stdout",
     "output_type": "stream",
     "text": [
      "score for training set: 1.00\n"
     ]
    }
   ],
   "source": [
    "print('score for training set: {:.2f}'.format(dTree.score(x_train,y_trian)))"
   ]
  },
  {
   "cell_type": "code",
   "execution_count": 107,
   "id": "47ae969d-3575-4f4c-85f5-012aaba85a9d",
   "metadata": {},
   "outputs": [
    {
     "name": "stdout",
     "output_type": "stream",
     "text": [
      "score for testing set: 0.65\n"
     ]
    }
   ],
   "source": [
    "print('score for testing set: {:.2f}'.format(dTree.score(x_test,y_test)))"
   ]
  },
  {
   "cell_type": "code",
   "execution_count": 108,
   "id": "80a17808-9938-42f1-997c-23da2a63539c",
   "metadata": {},
   "outputs": [
    {
     "name": "stdout",
     "output_type": "stream",
     "text": [
      "score for Accuracy of model : 0.65\n"
     ]
    }
   ],
   "source": [
    "print('score for Accuracy of model : {:.2f}'.format(accuracy_score(predction_dt,y_test)))"
   ]
  },
  {
   "cell_type": "markdown",
   "id": "fdb3dd45-5068-410f-ad4e-d866b5be8a71",
   "metadata": {
    "tags": []
   },
   "source": [
    "#### building knn on your own on loan data set 21-09-2022\n"
   ]
  },
  {
   "cell_type": "code",
   "execution_count": 109,
   "id": "1966b1f4-3d7d-48a7-8d7f-9567fb7d8236",
   "metadata": {},
   "outputs": [],
   "source": [
    "from sklearn.neighbors import KNeighborsClassifier"
   ]
  },
  {
   "cell_type": "code",
   "execution_count": 110,
   "id": "e0ec0742-f17b-499e-98ec-b56fa51e9da1",
   "metadata": {},
   "outputs": [],
   "source": [
    "obj=KNeighborsClassifier(n_neighbors=3)"
   ]
  },
  {
   "cell_type": "code",
   "execution_count": 111,
   "id": "44fec994-2ad8-43a6-9970-115732a657b1",
   "metadata": {},
   "outputs": [
    {
     "data": {
      "text/plain": [
       "KNeighborsClassifier(n_neighbors=3)"
      ]
     },
     "execution_count": 111,
     "metadata": {},
     "output_type": "execute_result"
    }
   ],
   "source": [
    "obj.fit(x_train,y_trian)"
   ]
  },
  {
   "cell_type": "code",
   "execution_count": 112,
   "id": "2c2abd68-2ced-4996-88fa-3a8cbdcd3a02",
   "metadata": {},
   "outputs": [],
   "source": [
    "pred=obj.predict(x_test)"
   ]
  },
  {
   "cell_type": "code",
   "execution_count": 113,
   "id": "9ed09810-846b-49e6-a15d-5fd62a38b205",
   "metadata": {},
   "outputs": [],
   "source": [
    "from sklearn.metrics import accuracy_score"
   ]
  },
  {
   "cell_type": "code",
   "execution_count": 114,
   "id": "8ed098e5-6025-4eba-8328-4ce4aa7066ca",
   "metadata": {},
   "outputs": [
    {
     "data": {
      "text/plain": [
       "0.7782608695652173"
      ]
     },
     "execution_count": 114,
     "metadata": {},
     "output_type": "execute_result"
    }
   ],
   "source": [
    "obj.score(x_train,y_trian)"
   ]
  },
  {
   "cell_type": "code",
   "execution_count": 115,
   "id": "0fc633cf-9251-4a7d-b3de-190e45741eb8",
   "metadata": {},
   "outputs": [
    {
     "data": {
      "text/plain": [
       "0.6428571428571429"
      ]
     },
     "execution_count": 115,
     "metadata": {},
     "output_type": "execute_result"
    }
   ],
   "source": [
    "obj.score(x_test,y_test)"
   ]
  },
  {
   "cell_type": "code",
   "execution_count": 116,
   "id": "84c09d03-409c-4120-8531-11a662e9c6b3",
   "metadata": {},
   "outputs": [
    {
     "data": {
      "text/plain": [
       "0.6428571428571429"
      ]
     },
     "execution_count": 116,
     "metadata": {},
     "output_type": "execute_result"
    }
   ],
   "source": [
    "accuracy_score(y_test,pred)"
   ]
  },
  {
   "cell_type": "code",
   "execution_count": 117,
   "id": "640948cf-0c59-48b6-884c-2e1f0fae8b96",
   "metadata": {},
   "outputs": [
    {
     "data": {
      "text/plain": [
       "array([[15, 33],\n",
       "       [22, 84]], dtype=int64)"
      ]
     },
     "execution_count": 117,
     "metadata": {},
     "output_type": "execute_result"
    }
   ],
   "source": [
    "confusion_matrix(y_test,pred)"
   ]
  },
  {
   "cell_type": "code",
   "execution_count": 118,
   "id": "d561aa44-eee5-4b79-83dd-85ae3f4ef6cb",
   "metadata": {},
   "outputs": [
    {
     "data": {
      "text/plain": [
       "<sklearn.metrics._plot.confusion_matrix.ConfusionMatrixDisplay at 0x20f3416e700>"
      ]
     },
     "execution_count": 118,
     "metadata": {},
     "output_type": "execute_result"
    },
    {
     "data": {
      "image/png": "[encoded data removed]",
      "text/plain": [
       "<Figure size 432x288 with 2 Axes>"
      ]
     },
     "metadata": {
      "needs_background": "light"
     },
     "output_type": "display_data"
    }
   ],
   "source": [
    "ConfusionMatrixDisplay.from_predictions(y_test,pred)"
   ]
  },
  {
   "cell_type": "code",
   "execution_count": 119,
   "id": "37cd3e6b-aead-4f98-924f-43fc00093c22",
   "metadata": {},
   "outputs": [
    {
     "name": "stdout",
     "output_type": "stream",
     "text": [
      "              precision    recall  f1-score   support\n",
      "\n",
      "           0       0.41      0.31      0.35        48\n",
      "           1       0.72      0.79      0.75       106\n",
      "\n",
      "    accuracy                           0.64       154\n",
      "   macro avg       0.56      0.55      0.55       154\n",
      "weighted avg       0.62      0.64      0.63       154\n",
      "\n"
     ]
    }
   ],
   "source": [
    "print(classification_report(y_test,pred))\n",
    "#yoour data is imbalanced"
   ]
  },
  {
   "cell_type": "code",
   "execution_count": 120,
   "id": "ea46e8bf-130f-425b-85ac-ca396d0b15c7",
   "metadata": {},
   "outputs": [
    {
     "name": "stdout",
     "output_type": "stream",
     "text": [
      "              precision    recall  f1-score   support\n",
      "\n",
      "           0       0.41      0.19      0.26        48\n",
      "           1       0.70      0.88      0.78       106\n",
      "\n",
      "    accuracy                           0.66       154\n",
      "   macro avg       0.56      0.53      0.52       154\n",
      "weighted avg       0.61      0.66      0.62       154\n",
      "\n"
     ]
    }
   ],
   "source": [
    "print(classification_report(y_test,prediction_knn))"
   ]
  },
  {
   "cell_type": "code",
   "execution_count": 121,
   "id": "e713b34b-19e2-4c5d-8872-db77de98cad0",
   "metadata": {},
   "outputs": [],
   "source": [
    "import random"
   ]
  },
  {
   "cell_type": "code",
   "execution_count": 122,
   "id": "eca3c030-e2ea-47e7-80ab-556c3eef9459",
   "metadata": {},
   "outputs": [],
   "source": [
    "random.seed(2)"
   ]
  },
  {
   "cell_type": "code",
   "execution_count": 123,
   "id": "e0c69369-9046-42d7-9df2-57e461af8496",
   "metadata": {},
   "outputs": [],
   "source": [
    "# learning about random state\n",
    "import numpy as np \n",
    "from sklearn.model_selection import train_test_split"
   ]
  },
  {
   "cell_type": "code",
   "execution_count": 124,
   "id": "9855cae5-aeea-469d-8a9d-784d51d647dc",
   "metadata": {},
   "outputs": [],
   "source": [
    "#splitting\n",
    "xtrain, xtest, y1test, ytest = train_test_split(x, y, test_size=0.25,random_state = 3, stratify = y)"
   ]
  },
  {
   "cell_type": "code",
   "execution_count": 125,
   "id": "f59d0d44-04f4-4741-8808-946978720e6d",
   "metadata": {},
   "outputs": [
    {
     "name": "stdout",
     "output_type": "stream",
     "text": [
      "510    0\n",
      "224    1\n",
      "460    1\n",
      "541    0\n",
      "298    0\n",
      "      ..\n",
      "585    0\n",
      "549    1\n",
      "457    0\n",
      "376    1\n",
      "96     1\n",
      "Name: Loan_Status, Length: 154, dtype: int64\n"
     ]
    }
   ],
   "source": [
    "print(ytest)"
   ]
  },
  {
   "cell_type": "code",
   "execution_count": 126,
   "id": "b34748c1-59be-46e3-aa21-cb13f1905a09",
   "metadata": {},
   "outputs": [],
   "source": [
    "#splitting\n",
    "xa, xb, yb, ya = train_test_split(x, y, test_size=0.25,random_state = 38 , stratify=y)"
   ]
  },
  {
   "cell_type": "code",
   "execution_count": 127,
   "id": "e1fb37f9-c017-43e5-856a-5cd97a71e1fc",
   "metadata": {},
   "outputs": [
    {
     "name": "stdout",
     "output_type": "stream",
     "text": [
      "263    1\n",
      "395    1\n",
      "226    0\n",
      "413    1\n",
      "403    1\n",
      "      ..\n",
      "352    1\n",
      "238    1\n",
      "248    1\n",
      "104    1\n",
      "8      1\n",
      "Name: Loan_Status, Length: 154, dtype: int64\n"
     ]
    }
   ],
   "source": [
    "print(ya)"
   ]
  },
  {
   "cell_type": "code",
   "execution_count": 128,
   "id": "29864afd-af51-46a9-8db3-8940473d1b52",
   "metadata": {},
   "outputs": [],
   "source": [
    "# working on grid search cv\n",
    "from sklearn.neighbors import KNeighborsClassifier"
   ]
  },
  {
   "cell_type": "code",
   "execution_count": 129,
   "id": "ae8feadc-52a8-4fa3-88dc-fae0e002ec17",
   "metadata": {},
   "outputs": [],
   "source": [
    "# importing grid search cv \n",
    "# this grid seach cv has high computational cost\n",
    "# alternative to this is RandomisedsearchCV\n",
    "from sklearn.model_selection import GridSearchCV"
   ]
  },
  {
   "cell_type": "code",
   "execution_count": 130,
   "id": "3f5e1048-9229-4c87-9bbf-9b15a275683a",
   "metadata": {},
   "outputs": [],
   "source": [
    "#creating knn object\n",
    "g_knn=KNeighborsClassifier()"
   ]
  },
  {
   "cell_type": "code",
   "execution_count": 131,
   "id": "389d232d-d835-404b-8a2c-14b80fa62208",
   "metadata": {},
   "outputs": [],
   "source": [
    "# creating grid search object with estimator and prameters\n",
    "grid_search = GridSearchCV(g_knn,\n",
    "                          {'n_neighbors':np.arange(1,10,1),\n",
    "                          'weights':['Uniform','distance'],\n",
    "                          'algorithm':['ball-tree','kd-tree','brute']})"
   ]
  },
  {
   "cell_type": "code",
   "execution_count": 132,
   "id": "d18135cc-c1ea-4e49-965d-831b57dc88f1",
   "metadata": {},
   "outputs": [
    {
     "name": "stderr",
     "output_type": "stream",
     "text": [
      "C:\\Users\\MBA-RAJESH\\anaconda3\\lib\\site-packages\\sklearn\\model_selection\\_validation.py:372: FitFailedWarning: \n",
      "225 fits failed out of a total of 270.\n",
      "The score on these train-test partitions for these parameters will be set to nan.\n",
      "If these failures are not expected, you can try to debug them by setting error_score='raise'.\n",
      "\n",
      "Below are more details about the failures:\n",
      "--------------------------------------------------------------------------------\n",
      "135 fits failed with the following error:\n",
      "Traceback (most recent call last):\n",
      "  File \"C:\\Users\\MBA-RAJESH\\anaconda3\\lib\\site-packages\\sklearn\\model_selection\\_validation.py\", line 680, in _fit_and_score\n",
      "    estimator.fit(X_train, y_train, **fit_params)\n",
      "  File \"C:\\Users\\MBA-RAJESH\\anaconda3\\lib\\site-packages\\sklearn\\neighbors\\_classification.py\", line 196, in fit\n",
      "    self.weights = _check_weights(self.weights)\n",
      "  File \"C:\\Users\\MBA-RAJESH\\anaconda3\\lib\\site-packages\\sklearn\\neighbors\\_base.py\", line 82, in _check_weights\n",
      "    raise ValueError(\n",
      "ValueError: weights not recognized: should be 'uniform', 'distance', or a callable function\n",
      "\n",
      "--------------------------------------------------------------------------------\n",
      "45 fits failed with the following error:\n",
      "Traceback (most recent call last):\n",
      "  File \"C:\\Users\\MBA-RAJESH\\anaconda3\\lib\\site-packages\\sklearn\\model_selection\\_validation.py\", line 680, in _fit_and_score\n",
      "    estimator.fit(X_train, y_train, **fit_params)\n",
      "  File \"C:\\Users\\MBA-RAJESH\\anaconda3\\lib\\site-packages\\sklearn\\neighbors\\_classification.py\", line 198, in fit\n",
      "    return self._fit(X, y)\n",
      "  File \"C:\\Users\\MBA-RAJESH\\anaconda3\\lib\\site-packages\\sklearn\\neighbors\\_base.py\", line 437, in _fit\n",
      "    self._check_algorithm_metric()\n",
      "  File \"C:\\Users\\MBA-RAJESH\\anaconda3\\lib\\site-packages\\sklearn\\neighbors\\_base.py\", line 352, in _check_algorithm_metric\n",
      "    raise ValueError(\"unrecognized algorithm: '%s'\" % self.algorithm)\n",
      "ValueError: unrecognized algorithm: 'ball-tree'\n",
      "\n",
      "--------------------------------------------------------------------------------\n",
      "45 fits failed with the following error:\n",
      "Traceback (most recent call last):\n",
      "  File \"C:\\Users\\MBA-RAJESH\\anaconda3\\lib\\site-packages\\sklearn\\model_selection\\_validation.py\", line 680, in _fit_and_score\n",
      "    estimator.fit(X_train, y_train, **fit_params)\n",
      "  File \"C:\\Users\\MBA-RAJESH\\anaconda3\\lib\\site-packages\\sklearn\\neighbors\\_classification.py\", line 198, in fit\n",
      "    return self._fit(X, y)\n",
      "  File \"C:\\Users\\MBA-RAJESH\\anaconda3\\lib\\site-packages\\sklearn\\neighbors\\_base.py\", line 437, in _fit\n",
      "    self._check_algorithm_metric()\n",
      "  File \"C:\\Users\\MBA-RAJESH\\anaconda3\\lib\\site-packages\\sklearn\\neighbors\\_base.py\", line 352, in _check_algorithm_metric\n",
      "    raise ValueError(\"unrecognized algorithm: '%s'\" % self.algorithm)\n",
      "ValueError: unrecognized algorithm: 'kd-tree'\n",
      "\n",
      "  warnings.warn(some_fits_failed_message, FitFailedWarning)\n",
      "C:\\Users\\MBA-RAJESH\\anaconda3\\lib\\site-packages\\sklearn\\model_selection\\_search.py:969: UserWarning: One or more of the test scores are non-finite: [       nan        nan        nan        nan        nan        nan\n",
      "        nan        nan        nan        nan        nan        nan\n",
      "        nan        nan        nan        nan        nan        nan\n",
      "        nan        nan        nan        nan        nan        nan\n",
      "        nan        nan        nan        nan        nan        nan\n",
      "        nan        nan        nan        nan        nan        nan\n",
      "        nan 0.54565217        nan 0.54565217        nan 0.59130435\n",
      "        nan 0.58478261        nan 0.58695652        nan 0.59565217\n",
      "        nan 0.60652174        nan 0.61956522        nan 0.61956522]\n",
      "  warnings.warn(\n"
     ]
    },
    {
     "data": {
      "text/plain": [
       "GridSearchCV(estimator=KNeighborsClassifier(),\n",
       "             param_grid={'algorithm': ['ball-tree', 'kd-tree', 'brute'],\n",
       "                         'n_neighbors': array([1, 2, 3, 4, 5, 6, 7, 8, 9]),\n",
       "                         'weights': ['Uniform', 'distance']})"
      ]
     },
     "execution_count": 132,
     "metadata": {},
     "output_type": "execute_result"
    }
   ],
   "source": [
    "#fitting data to gridsearch object\n",
    "grid_search.fit(x_train,y_trian)\n",
    "## why these many warnings??????????"
   ]
  },
  {
   "cell_type": "code",
   "execution_count": 133,
   "id": "ece1a047-e138-4ff3-877c-8d6e43bb7f6e",
   "metadata": {},
   "outputs": [
    {
     "data": {
      "text/plain": [
       "KNeighborsClassifier(algorithm='brute', n_neighbors=8, weights='distance')"
      ]
     },
     "execution_count": 133,
     "metadata": {},
     "output_type": "execute_result"
    }
   ],
   "source": [
    "#getting to know best estimator\n",
    "grid_search.best_estimator_\n"
   ]
  },
  {
   "cell_type": "code",
   "execution_count": 134,
   "id": "7a52e9a5-dbf7-486d-b24e-c4b3b09be031",
   "metadata": {
    "tags": []
   },
   "outputs": [
    {
     "data": {
      "text/plain": [
       "{'mean_fit_time': array([0.00140548, 0.00203614, 0.0006494 , 0.00220985, 0.00070195,\n",
       "        0.00205688, 0.00054064, 0.00182962, 0.00051885, 0.00225773,\n",
       "        0.00046272, 0.00231009, 0.00042953, 0.00225954, 0.00066385,\n",
       "        0.00211811, 0.00051627, 0.00198369, 0.00062437, 0.00202975,\n",
       "        0.00050993, 0.0022336 , 0.0006494 , 0.00183163, 0.00058637,\n",
       "        0.00162821, 0.        , 0.00314345, 0.        , 0.00366783,\n",
       "        0.00085106, 0.00233469, 0.00107017, 0.00242004, 0.00056605,\n",
       "        0.00204763, 0.00058918, 0.00180464, 0.00045681, 0.00329533,\n",
       "        0.00069666, 0.0004137 , 0.00193958, 0.        , 0.00312886,\n",
       "        0.00243106, 0.        , 0.        , 0.        , 0.00323787,\n",
       "        0.        , 0.00172915, 0.        , 0.        ]),\n",
       " 'std_fit_time': array([1.01964720e-03, 5.11776094e-04, 3.63701190e-04, 4.50796145e-04,\n",
       "        2.02061140e-04, 3.10636312e-04, 9.29649775e-05, 7.05200469e-04,\n",
       "        2.83641380e-04, 3.87362022e-04, 2.16331638e-04, 5.22584210e-04,\n",
       "        3.96214368e-04, 1.92543243e-04, 1.05207892e-04, 3.24882947e-04,\n",
       "        2.17596768e-04, 3.70950238e-04, 2.42861146e-04, 3.49938559e-04,\n",
       "        3.18079887e-04, 6.11141197e-04, 1.20640498e-04, 1.58899256e-04,\n",
       "        3.37390599e-04, 1.40228099e-03, 0.00000000e+00, 6.28690720e-03,\n",
       "        0.00000000e+00, 2.46524641e-03, 3.33061133e-04, 7.96149310e-04,\n",
       "        3.71746316e-04, 3.39190383e-04, 1.01379370e-04, 6.02050800e-04,\n",
       "        4.86718318e-05, 1.83060226e-04, 4.41771034e-05, 3.37631285e-03,\n",
       "        1.96578453e-04, 8.27407837e-04, 3.43210060e-03, 0.00000000e+00,\n",
       "        6.25772476e-03, 4.86211777e-03, 0.00000000e+00, 0.00000000e+00,\n",
       "        0.00000000e+00, 6.47573471e-03, 0.00000000e+00, 3.45830917e-03,\n",
       "        0.00000000e+00, 0.00000000e+00]),\n",
       " 'mean_score_time': array([0.        , 0.        , 0.        , 0.        , 0.        ,\n",
       "        0.        , 0.        , 0.        , 0.        , 0.        ,\n",
       "        0.        , 0.        , 0.        , 0.        , 0.        ,\n",
       "        0.        , 0.        , 0.        , 0.        , 0.        ,\n",
       "        0.        , 0.        , 0.        , 0.        , 0.        ,\n",
       "        0.        , 0.        , 0.        , 0.        , 0.        ,\n",
       "        0.        , 0.        , 0.        , 0.        , 0.        ,\n",
       "        0.        , 0.        , 0.002319  , 0.        , 0.00123982,\n",
       "        0.        , 0.00395193, 0.        , 0.00335259, 0.        ,\n",
       "        0.        , 0.        , 0.00473108, 0.        , 0.0033452 ,\n",
       "        0.        , 0.00545807, 0.        , 0.0031292 ]),\n",
       " 'std_score_time': array([0.        , 0.        , 0.        , 0.        , 0.        ,\n",
       "        0.        , 0.        , 0.        , 0.        , 0.        ,\n",
       "        0.        , 0.        , 0.        , 0.        , 0.        ,\n",
       "        0.        , 0.        , 0.        , 0.        , 0.        ,\n",
       "        0.        , 0.        , 0.        , 0.        , 0.        ,\n",
       "        0.        , 0.        , 0.        , 0.        , 0.        ,\n",
       "        0.        , 0.        , 0.        , 0.        , 0.        ,\n",
       "        0.        , 0.        , 0.00120624, 0.        , 0.00101239,\n",
       "        0.        , 0.00648116, 0.        , 0.00670519, 0.        ,\n",
       "        0.        , 0.        , 0.00642777, 0.        , 0.00669041,\n",
       "        0.        , 0.00663802, 0.        , 0.00625839]),\n",
       " 'param_algorithm': masked_array(data=['ball-tree', 'ball-tree', 'ball-tree', 'ball-tree',\n",
       "                    'ball-tree', 'ball-tree', 'ball-tree', 'ball-tree',\n",
       "                    'ball-tree', 'ball-tree', 'ball-tree', 'ball-tree',\n",
       "                    'ball-tree', 'ball-tree', 'ball-tree', 'ball-tree',\n",
       "                    'ball-tree', 'ball-tree', 'kd-tree', 'kd-tree',\n",
       "                    'kd-tree', 'kd-tree', 'kd-tree', 'kd-tree', 'kd-tree',\n",
       "                    'kd-tree', 'kd-tree', 'kd-tree', 'kd-tree', 'kd-tree',\n",
       "                    'kd-tree', 'kd-tree', 'kd-tree', 'kd-tree', 'kd-tree',\n",
       "                    'kd-tree', 'brute', 'brute', 'brute', 'brute', 'brute',\n",
       "                    'brute', 'brute', 'brute', 'brute', 'brute', 'brute',\n",
       "                    'brute', 'brute', 'brute', 'brute', 'brute', 'brute',\n",
       "                    'brute'],\n",
       "              mask=[False, False, False, False, False, False, False, False,\n",
       "                    False, False, False, False, False, False, False, False,\n",
       "                    False, False, False, False, False, False, False, False,\n",
       "                    False, False, False, False, False, False, False, False,\n",
       "                    False, False, False, False, False, False, False, False,\n",
       "                    False, False, False, False, False, False, False, False,\n",
       "                    False, False, False, False, False, False],\n",
       "        fill_value='?',\n",
       "             dtype=object),\n",
       " 'param_n_neighbors': masked_array(data=[1, 1, 2, 2, 3, 3, 4, 4, 5, 5, 6, 6, 7, 7, 8, 8, 9, 9,\n",
       "                    1, 1, 2, 2, 3, 3, 4, 4, 5, 5, 6, 6, 7, 7, 8, 8, 9, 9,\n",
       "                    1, 1, 2, 2, 3, 3, 4, 4, 5, 5, 6, 6, 7, 7, 8, 8, 9, 9],\n",
       "              mask=[False, False, False, False, False, False, False, False,\n",
       "                    False, False, False, False, False, False, False, False,\n",
       "                    False, False, False, False, False, False, False, False,\n",
       "                    False, False, False, False, False, False, False, False,\n",
       "                    False, False, False, False, False, False, False, False,\n",
       "                    False, False, False, False, False, False, False, False,\n",
       "                    False, False, False, False, False, False],\n",
       "        fill_value='?',\n",
       "             dtype=object),\n",
       " 'param_weights': masked_array(data=['Uniform', 'distance', 'Uniform', 'distance',\n",
       "                    'Uniform', 'distance', 'Uniform', 'distance',\n",
       "                    'Uniform', 'distance', 'Uniform', 'distance',\n",
       "                    'Uniform', 'distance', 'Uniform', 'distance',\n",
       "                    'Uniform', 'distance', 'Uniform', 'distance',\n",
       "                    'Uniform', 'distance', 'Uniform', 'distance',\n",
       "                    'Uniform', 'distance', 'Uniform', 'distance',\n",
       "                    'Uniform', 'distance', 'Uniform', 'distance',\n",
       "                    'Uniform', 'distance', 'Uniform', 'distance',\n",
       "                    'Uniform', 'distance', 'Uniform', 'distance',\n",
       "                    'Uniform', 'distance', 'Uniform', 'distance',\n",
       "                    'Uniform', 'distance', 'Uniform', 'distance',\n",
       "                    'Uniform', 'distance', 'Uniform', 'distance',\n",
       "                    'Uniform', 'distance'],\n",
       "              mask=[False, False, False, False, False, False, False, False,\n",
       "                    False, False, False, False, False, False, False, False,\n",
       "                    False, False, False, False, False, False, False, False,\n",
       "                    False, False, False, False, False, False, False, False,\n",
       "                    False, False, False, False, False, False, False, False,\n",
       "                    False, False, False, False, False, False, False, False,\n",
       "                    False, False, False, False, False, False],\n",
       "        fill_value='?',\n",
       "             dtype=object),\n",
       " 'params': [{'algorithm': 'ball-tree', 'n_neighbors': 1, 'weights': 'Uniform'},\n",
       "  {'algorithm': 'ball-tree', 'n_neighbors': 1, 'weights': 'distance'},\n",
       "  {'algorithm': 'ball-tree', 'n_neighbors': 2, 'weights': 'Uniform'},\n",
       "  {'algorithm': 'ball-tree', 'n_neighbors': 2, 'weights': 'distance'},\n",
       "  {'algorithm': 'ball-tree', 'n_neighbors': 3, 'weights': 'Uniform'},\n",
       "  {'algorithm': 'ball-tree', 'n_neighbors': 3, 'weights': 'distance'},\n",
       "  {'algorithm': 'ball-tree', 'n_neighbors': 4, 'weights': 'Uniform'},\n",
       "  {'algorithm': 'ball-tree', 'n_neighbors': 4, 'weights': 'distance'},\n",
       "  {'algorithm': 'ball-tree', 'n_neighbors': 5, 'weights': 'Uniform'},\n",
       "  {'algorithm': 'ball-tree', 'n_neighbors': 5, 'weights': 'distance'},\n",
       "  {'algorithm': 'ball-tree', 'n_neighbors': 6, 'weights': 'Uniform'},\n",
       "  {'algorithm': 'ball-tree', 'n_neighbors': 6, 'weights': 'distance'},\n",
       "  {'algorithm': 'ball-tree', 'n_neighbors': 7, 'weights': 'Uniform'},\n",
       "  {'algorithm': 'ball-tree', 'n_neighbors': 7, 'weights': 'distance'},\n",
       "  {'algorithm': 'ball-tree', 'n_neighbors': 8, 'weights': 'Uniform'},\n",
       "  {'algorithm': 'ball-tree', 'n_neighbors': 8, 'weights': 'distance'},\n",
       "  {'algorithm': 'ball-tree', 'n_neighbors': 9, 'weights': 'Uniform'},\n",
       "  {'algorithm': 'ball-tree', 'n_neighbors': 9, 'weights': 'distance'},\n",
       "  {'algorithm': 'kd-tree', 'n_neighbors': 1, 'weights': 'Uniform'},\n",
       "  {'algorithm': 'kd-tree', 'n_neighbors': 1, 'weights': 'distance'},\n",
       "  {'algorithm': 'kd-tree', 'n_neighbors': 2, 'weights': 'Uniform'},\n",
       "  {'algorithm': 'kd-tree', 'n_neighbors': 2, 'weights': 'distance'},\n",
       "  {'algorithm': 'kd-tree', 'n_neighbors': 3, 'weights': 'Uniform'},\n",
       "  {'algorithm': 'kd-tree', 'n_neighbors': 3, 'weights': 'distance'},\n",
       "  {'algorithm': 'kd-tree', 'n_neighbors': 4, 'weights': 'Uniform'},\n",
       "  {'algorithm': 'kd-tree', 'n_neighbors': 4, 'weights': 'distance'},\n",
       "  {'algorithm': 'kd-tree', 'n_neighbors': 5, 'weights': 'Uniform'},\n",
       "  {'algorithm': 'kd-tree', 'n_neighbors': 5, 'weights': 'distance'},\n",
       "  {'algorithm': 'kd-tree', 'n_neighbors': 6, 'weights': 'Uniform'},\n",
       "  {'algorithm': 'kd-tree', 'n_neighbors': 6, 'weights': 'distance'},\n",
       "  {'algorithm': 'kd-tree', 'n_neighbors': 7, 'weights': 'Uniform'},\n",
       "  {'algorithm': 'kd-tree', 'n_neighbors': 7, 'weights': 'distance'},\n",
       "  {'algorithm': 'kd-tree', 'n_neighbors': 8, 'weights': 'Uniform'},\n",
       "  {'algorithm': 'kd-tree', 'n_neighbors': 8, 'weights': 'distance'},\n",
       "  {'algorithm': 'kd-tree', 'n_neighbors': 9, 'weights': 'Uniform'},\n",
       "  {'algorithm': 'kd-tree', 'n_neighbors': 9, 'weights': 'distance'},\n",
       "  {'algorithm': 'brute', 'n_neighbors': 1, 'weights': 'Uniform'},\n",
       "  {'algorithm': 'brute', 'n_neighbors': 1, 'weights': 'distance'},\n",
       "  {'algorithm': 'brute', 'n_neighbors': 2, 'weights': 'Uniform'},\n",
       "  {'algorithm': 'brute', 'n_neighbors': 2, 'weights': 'distance'},\n",
       "  {'algorithm': 'brute', 'n_neighbors': 3, 'weights': 'Uniform'},\n",
       "  {'algorithm': 'brute', 'n_neighbors': 3, 'weights': 'distance'},\n",
       "  {'algorithm': 'brute', 'n_neighbors': 4, 'weights': 'Uniform'},\n",
       "  {'algorithm': 'brute', 'n_neighbors': 4, 'weights': 'distance'},\n",
       "  {'algorithm': 'brute', 'n_neighbors': 5, 'weights': 'Uniform'},\n",
       "  {'algorithm': 'brute', 'n_neighbors': 5, 'weights': 'distance'},\n",
       "  {'algorithm': 'brute', 'n_neighbors': 6, 'weights': 'Uniform'},\n",
       "  {'algorithm': 'brute', 'n_neighbors': 6, 'weights': 'distance'},\n",
       "  {'algorithm': 'brute', 'n_neighbors': 7, 'weights': 'Uniform'},\n",
       "  {'algorithm': 'brute', 'n_neighbors': 7, 'weights': 'distance'},\n",
       "  {'algorithm': 'brute', 'n_neighbors': 8, 'weights': 'Uniform'},\n",
       "  {'algorithm': 'brute', 'n_neighbors': 8, 'weights': 'distance'},\n",
       "  {'algorithm': 'brute', 'n_neighbors': 9, 'weights': 'Uniform'},\n",
       "  {'algorithm': 'brute', 'n_neighbors': 9, 'weights': 'distance'}],\n",
       " 'split0_test_score': array([       nan,        nan,        nan,        nan,        nan,\n",
       "               nan,        nan,        nan,        nan,        nan,\n",
       "               nan,        nan,        nan,        nan,        nan,\n",
       "               nan,        nan,        nan,        nan,        nan,\n",
       "               nan,        nan,        nan,        nan,        nan,\n",
       "               nan,        nan,        nan,        nan,        nan,\n",
       "               nan,        nan,        nan,        nan,        nan,\n",
       "               nan,        nan, 0.54347826,        nan, 0.54347826,\n",
       "               nan, 0.60869565,        nan, 0.57608696,        nan,\n",
       "        0.56521739,        nan, 0.59782609,        nan, 0.61956522,\n",
       "               nan, 0.61956522,        nan, 0.60869565]),\n",
       " 'split1_test_score': array([       nan,        nan,        nan,        nan,        nan,\n",
       "               nan,        nan,        nan,        nan,        nan,\n",
       "               nan,        nan,        nan,        nan,        nan,\n",
       "               nan,        nan,        nan,        nan,        nan,\n",
       "               nan,        nan,        nan,        nan,        nan,\n",
       "               nan,        nan,        nan,        nan,        nan,\n",
       "               nan,        nan,        nan,        nan,        nan,\n",
       "               nan,        nan, 0.56521739,        nan, 0.56521739,\n",
       "               nan, 0.63043478,        nan, 0.64130435,        nan,\n",
       "        0.61956522,        nan, 0.61956522,        nan, 0.63043478,\n",
       "               nan, 0.63043478,        nan, 0.63043478]),\n",
       " 'split2_test_score': array([       nan,        nan,        nan,        nan,        nan,\n",
       "               nan,        nan,        nan,        nan,        nan,\n",
       "               nan,        nan,        nan,        nan,        nan,\n",
       "               nan,        nan,        nan,        nan,        nan,\n",
       "               nan,        nan,        nan,        nan,        nan,\n",
       "               nan,        nan,        nan,        nan,        nan,\n",
       "               nan,        nan,        nan,        nan,        nan,\n",
       "               nan,        nan, 0.57608696,        nan, 0.57608696,\n",
       "               nan, 0.57608696,        nan, 0.57608696,        nan,\n",
       "        0.57608696,        nan, 0.59782609,        nan, 0.59782609,\n",
       "               nan, 0.63043478,        nan, 0.63043478]),\n",
       " 'split3_test_score': array([       nan,        nan,        nan,        nan,        nan,\n",
       "               nan,        nan,        nan,        nan,        nan,\n",
       "               nan,        nan,        nan,        nan,        nan,\n",
       "               nan,        nan,        nan,        nan,        nan,\n",
       "               nan,        nan,        nan,        nan,        nan,\n",
       "               nan,        nan,        nan,        nan,        nan,\n",
       "               nan,        nan,        nan,        nan,        nan,\n",
       "               nan,        nan, 0.54347826,        nan, 0.54347826,\n",
       "               nan, 0.56521739,        nan, 0.58695652,        nan,\n",
       "        0.59782609,        nan, 0.59782609,        nan, 0.59782609,\n",
       "               nan, 0.60869565,        nan, 0.61956522]),\n",
       " 'split4_test_score': array([       nan,        nan,        nan,        nan,        nan,\n",
       "               nan,        nan,        nan,        nan,        nan,\n",
       "               nan,        nan,        nan,        nan,        nan,\n",
       "               nan,        nan,        nan,        nan,        nan,\n",
       "               nan,        nan,        nan,        nan,        nan,\n",
       "               nan,        nan,        nan,        nan,        nan,\n",
       "               nan,        nan,        nan,        nan,        nan,\n",
       "               nan,        nan, 0.5       ,        nan, 0.5       ,\n",
       "               nan, 0.57608696,        nan, 0.54347826,        nan,\n",
       "        0.57608696,        nan, 0.56521739,        nan, 0.58695652,\n",
       "               nan, 0.60869565,        nan, 0.60869565]),\n",
       " 'mean_test_score': array([       nan,        nan,        nan,        nan,        nan,\n",
       "               nan,        nan,        nan,        nan,        nan,\n",
       "               nan,        nan,        nan,        nan,        nan,\n",
       "               nan,        nan,        nan,        nan,        nan,\n",
       "               nan,        nan,        nan,        nan,        nan,\n",
       "               nan,        nan,        nan,        nan,        nan,\n",
       "               nan,        nan,        nan,        nan,        nan,\n",
       "               nan,        nan, 0.54565217,        nan, 0.54565217,\n",
       "               nan, 0.59130435,        nan, 0.58478261,        nan,\n",
       "        0.58695652,        nan, 0.59565217,        nan, 0.60652174,\n",
       "               nan, 0.61956522,        nan, 0.61956522]),\n",
       " 'std_test_score': array([       nan,        nan,        nan,        nan,        nan,\n",
       "               nan,        nan,        nan,        nan,        nan,\n",
       "               nan,        nan,        nan,        nan,        nan,\n",
       "               nan,        nan,        nan,        nan,        nan,\n",
       "               nan,        nan,        nan,        nan,        nan,\n",
       "               nan,        nan,        nan,        nan,        nan,\n",
       "               nan,        nan,        nan,        nan,        nan,\n",
       "               nan,        nan, 0.02608696,        nan, 0.02608696,\n",
       "               nan, 0.02440211,        nan, 0.03180161,        nan,\n",
       "        0.01944407,        nan, 0.0173913 ,        nan, 0.01597493,\n",
       "               nan, 0.00972203,        nan, 0.00972203]),\n",
       " 'rank_test_score': array([27, 29, 30, 31, 32, 33, 34, 35, 36, 37, 38, 39, 41, 53, 42, 43, 44,\n",
       "        45, 46, 47, 48, 49, 50, 51, 52, 28, 54, 26, 19, 10, 11, 12, 13, 14,\n",
       "        15, 16, 25,  8, 18,  8, 17,  5, 20,  7, 21,  6, 22,  4, 23,  3, 24,\n",
       "         1, 40,  1])}"
      ]
     },
     "execution_count": 134,
     "metadata": {},
     "output_type": "execute_result"
    }
   ],
   "source": [
    "#getting results of gridsearch\n",
    "grid_search.cv_results_\n",
    "## results are not understandable\n",
    "## so create a df with these results"
   ]
  },
  {
   "cell_type": "code",
   "execution_count": 135,
   "id": "bce62bdb-7b4c-4aa4-b66a-0d16ecd3fbd0",
   "metadata": {
    "tags": []
   },
   "outputs": [
    {
     "ename": "NameError",
     "evalue": "name 'scores' is not defined",
     "output_type": "error",
     "traceback": [
      "\u001b[1;31m---------------------------------------------------------------------------\u001b[0m",
      "\u001b[1;31mNameError\u001b[0m                                 Traceback (most recent call last)",
      "\u001b[1;32mC:\\Users\\MBA-RA~1\\AppData\\Local\\Temp/ipykernel_21572/2435065336.py\u001b[0m in \u001b[0;36m<module>\u001b[1;34m\u001b[0m\n\u001b[0;32m      1\u001b[0m \u001b[1;31m#creating df with gridsearch results\u001b[0m\u001b[1;33m\u001b[0m\u001b[1;33m\u001b[0m\u001b[0m\n\u001b[1;32m----> 2\u001b[1;33m \u001b[0mgrid_results\u001b[0m\u001b[1;33m=\u001b[0m\u001b[0mpd\u001b[0m\u001b[1;33m.\u001b[0m\u001b[0mDataFrame\u001b[0m\u001b[1;33m(\u001b[0m\u001b[0mscores\u001b[0m\u001b[1;33m)\u001b[0m\u001b[1;33m\u001b[0m\u001b[1;33m\u001b[0m\u001b[0m\n\u001b[0m\u001b[0;32m      3\u001b[0m \u001b[0mgrid_results\u001b[0m\u001b[1;33m\u001b[0m\u001b[1;33m\u001b[0m\u001b[0m\n\u001b[0;32m      4\u001b[0m \u001b[1;33m\u001b[0m\u001b[0m\n\u001b[0;32m      5\u001b[0m \u001b[1;31m## how to interpret these results\u001b[0m\u001b[1;33m\u001b[0m\u001b[1;33m\u001b[0m\u001b[0m\n",
      "\u001b[1;31mNameError\u001b[0m: name 'scores' is not defined"
     ]
    }
   ],
   "source": [
    "#creating df with gridsearch results\n",
    "grid_results=pd.DataFrame(scores)\n",
    "grid_results\n",
    "\n",
    "## how to interpret these results\n",
    "## why there are some nan values"
   ]
  },
  {
   "cell_type": "code",
   "execution_count": 136,
   "id": "18802613-c62e-431b-850f-c0de8acffc22",
   "metadata": {},
   "outputs": [
    {
     "ename": "NameError",
     "evalue": "name 'scores' is not defined",
     "output_type": "error",
     "traceback": [
      "\u001b[1;31m---------------------------------------------------------------------------\u001b[0m",
      "\u001b[1;31mNameError\u001b[0m                                 Traceback (most recent call last)",
      "\u001b[1;32mC:\\Users\\MBA-RA~1\\AppData\\Local\\Temp/ipykernel_21572/1840978685.py\u001b[0m in \u001b[0;36m<module>\u001b[1;34m\u001b[0m\n\u001b[1;32m----> 1\u001b[1;33m \u001b[0mgrid_mean_test_score\u001b[0m\u001b[1;33m=\u001b[0m\u001b[0mpd\u001b[0m\u001b[1;33m.\u001b[0m\u001b[0mDataFrame\u001b[0m\u001b[1;33m(\u001b[0m\u001b[0mscores\u001b[0m\u001b[1;33m[\u001b[0m\u001b[1;34m'mean_test_score'\u001b[0m\u001b[1;33m]\u001b[0m\u001b[1;33m)\u001b[0m\u001b[1;33m\u001b[0m\u001b[1;33m\u001b[0m\u001b[0m\n\u001b[0m\u001b[0;32m      2\u001b[0m \u001b[0mgrid_mean_test_score\u001b[0m\u001b[1;33m\u001b[0m\u001b[1;33m\u001b[0m\u001b[0m\n",
      "\u001b[1;31mNameError\u001b[0m: name 'scores' is not defined"
     ]
    }
   ],
   "source": [
    "grid_mean_test_score=pd.DataFrame(scores['mean_test_score'])\n",
    "grid_mean_test_score"
   ]
  },
  {
   "cell_type": "markdown",
   "id": "7cd9818e-29cd-4979-82d6-d4a0e086baa1",
   "metadata": {},
   "source": [
    "how to evaluate best_estimator , how does this work??\n",
    "one way to evaluate a calssification model is confusion matrix and classification report...\n",
    "how to integrate confusion matrix and classification report with grid search ????"
   ]
  },
  {
   "cell_type": "code",
   "execution_count": 137,
   "id": "34fa5cbe-3e5b-426c-8250-06452ffda8ec",
   "metadata": {},
   "outputs": [],
   "source": [
    "# getting confusion matrix and classification report for best estimator\n",
    "best_estimator_knn=KNeighborsClassifier(algorithm='brute',\n",
    "                                       n_neighbors=7, weights='distance')\n"
   ]
  },
  {
   "cell_type": "code",
   "execution_count": 138,
   "id": "87c03b6c-63f8-48c2-abae-402811eec888",
   "metadata": {},
   "outputs": [
    {
     "data": {
      "text/plain": [
       "KNeighborsClassifier(algorithm='brute', n_neighbors=7, weights='distance')"
      ]
     },
     "execution_count": 138,
     "metadata": {},
     "output_type": "execute_result"
    }
   ],
   "source": [
    "#fitting dat to above object\n",
    "best_estimator_knn.fit(x_train,y_trian)"
   ]
  },
  {
   "cell_type": "code",
   "execution_count": 139,
   "id": "e5e563ce-3a55-419c-953f-d467725eea7e",
   "metadata": {},
   "outputs": [
    {
     "data": {
      "text/plain": [
       "array([1, 1, 0, 1, 0, 1, 1, 1, 1, 1, 1, 0, 1, 1, 1, 0, 1, 1, 1, 1, 1, 0,\n",
       "       1, 0, 1, 1, 1, 0, 1, 0, 1, 1, 1, 0, 1, 1, 1, 1, 0, 1, 1, 1, 1, 1,\n",
       "       1, 0, 1, 1, 1, 1, 1, 1, 1, 1, 1, 1, 0, 1, 1, 1, 1, 1, 0, 1, 0, 1,\n",
       "       1, 1, 1, 1, 1, 1, 1, 1, 1, 1, 1, 1, 0, 1, 1, 0, 1, 1, 1, 1, 1, 1,\n",
       "       1, 1, 1, 1, 0, 1, 1, 1, 1, 1, 1, 1, 1, 1, 1, 0, 1, 0, 1, 1, 1, 1,\n",
       "       1, 1, 1, 1, 1, 1, 1, 1, 0, 1, 1, 1, 1, 0, 1, 1, 1, 1, 0, 1, 1, 1,\n",
       "       1, 1, 1, 1, 1, 1, 0, 1, 0, 1, 1, 1, 1, 1, 1, 1, 1, 1, 1, 0, 1, 1],\n",
       "      dtype=int64)"
      ]
     },
     "execution_count": 139,
     "metadata": {},
     "output_type": "execute_result"
    }
   ],
   "source": [
    "best_estimator_knn_predictons=best_estimator_knn.predict(x_test)\n",
    "best_estimator_knn_predictons"
   ]
  },
  {
   "cell_type": "code",
   "execution_count": 140,
   "id": "fa37cd7c-b97d-4bcf-9d56-0802edd74fb8",
   "metadata": {},
   "outputs": [
    {
     "data": {
      "text/plain": [
       "263    1\n",
       "395    1\n",
       "226    0\n",
       "413    1\n",
       "403    1\n",
       "      ..\n",
       "352    1\n",
       "238    1\n",
       "248    1\n",
       "104    1\n",
       "8      1\n",
       "Name: Loan_Status, Length: 154, dtype: int64"
      ]
     },
     "execution_count": 140,
     "metadata": {},
     "output_type": "execute_result"
    }
   ],
   "source": [
    "y_test"
   ]
  },
  {
   "cell_type": "code",
   "execution_count": 141,
   "id": "86ba1e93-4f66-4d3a-9455-3a31fe600c02",
   "metadata": {},
   "outputs": [
    {
     "data": {
      "text/plain": [
       "1.0"
      ]
     },
     "execution_count": 141,
     "metadata": {},
     "output_type": "execute_result"
    }
   ],
   "source": [
    "#checking score\n",
    "best_estimator_knn.score(x_test,best_estimator_knn_predictons)"
   ]
  },
  {
   "cell_type": "code",
   "execution_count": 142,
   "id": "b2627ac9-c5f8-4b54-805f-e17aa4ff6d7e",
   "metadata": {},
   "outputs": [
    {
     "ename": "ValueError",
     "evalue": "Classification metrics can't handle a mix of multiclass-multioutput and binary targets",
     "output_type": "error",
     "traceback": [
      "\u001b[1;31m---------------------------------------------------------------------------\u001b[0m",
      "\u001b[1;31mValueError\u001b[0m                                Traceback (most recent call last)",
      "\u001b[1;32mC:\\Users\\MBA-RA~1\\AppData\\Local\\Temp/ipykernel_21572/3029366123.py\u001b[0m in \u001b[0;36m<module>\u001b[1;34m\u001b[0m\n\u001b[0;32m      1\u001b[0m \u001b[1;31m# checking accuracy score\u001b[0m\u001b[1;33m\u001b[0m\u001b[1;33m\u001b[0m\u001b[0m\n\u001b[1;32m----> 2\u001b[1;33m \u001b[0maccuracy_score\u001b[0m\u001b[1;33m(\u001b[0m\u001b[0mx_test\u001b[0m\u001b[1;33m,\u001b[0m\u001b[0mbest_estimator_knn_predictons\u001b[0m\u001b[1;33m)\u001b[0m\u001b[1;33m\u001b[0m\u001b[1;33m\u001b[0m\u001b[0m\n\u001b[0m\u001b[0;32m      3\u001b[0m \u001b[1;31m## getting error??????\u001b[0m\u001b[1;33m\u001b[0m\u001b[1;33m\u001b[0m\u001b[0m\n",
      "\u001b[1;32m~\\anaconda3\\lib\\site-packages\\sklearn\\metrics\\_classification.py\u001b[0m in \u001b[0;36maccuracy_score\u001b[1;34m(y_true, y_pred, normalize, sample_weight)\u001b[0m\n\u001b[0;32m    209\u001b[0m \u001b[1;33m\u001b[0m\u001b[0m\n\u001b[0;32m    210\u001b[0m     \u001b[1;31m# Compute accuracy for each possible representation\u001b[0m\u001b[1;33m\u001b[0m\u001b[1;33m\u001b[0m\u001b[0m\n\u001b[1;32m--> 211\u001b[1;33m     \u001b[0my_type\u001b[0m\u001b[1;33m,\u001b[0m \u001b[0my_true\u001b[0m\u001b[1;33m,\u001b[0m \u001b[0my_pred\u001b[0m \u001b[1;33m=\u001b[0m \u001b[0m_check_targets\u001b[0m\u001b[1;33m(\u001b[0m\u001b[0my_true\u001b[0m\u001b[1;33m,\u001b[0m \u001b[0my_pred\u001b[0m\u001b[1;33m)\u001b[0m\u001b[1;33m\u001b[0m\u001b[1;33m\u001b[0m\u001b[0m\n\u001b[0m\u001b[0;32m    212\u001b[0m     \u001b[0mcheck_consistent_length\u001b[0m\u001b[1;33m(\u001b[0m\u001b[0my_true\u001b[0m\u001b[1;33m,\u001b[0m \u001b[0my_pred\u001b[0m\u001b[1;33m,\u001b[0m \u001b[0msample_weight\u001b[0m\u001b[1;33m)\u001b[0m\u001b[1;33m\u001b[0m\u001b[1;33m\u001b[0m\u001b[0m\n\u001b[0;32m    213\u001b[0m     \u001b[1;32mif\u001b[0m \u001b[0my_type\u001b[0m\u001b[1;33m.\u001b[0m\u001b[0mstartswith\u001b[0m\u001b[1;33m(\u001b[0m\u001b[1;34m\"multilabel\"\u001b[0m\u001b[1;33m)\u001b[0m\u001b[1;33m:\u001b[0m\u001b[1;33m\u001b[0m\u001b[1;33m\u001b[0m\u001b[0m\n",
      "\u001b[1;32m~\\anaconda3\\lib\\site-packages\\sklearn\\metrics\\_classification.py\u001b[0m in \u001b[0;36m_check_targets\u001b[1;34m(y_true, y_pred)\u001b[0m\n\u001b[0;32m     91\u001b[0m \u001b[1;33m\u001b[0m\u001b[0m\n\u001b[0;32m     92\u001b[0m     \u001b[1;32mif\u001b[0m \u001b[0mlen\u001b[0m\u001b[1;33m(\u001b[0m\u001b[0my_type\u001b[0m\u001b[1;33m)\u001b[0m \u001b[1;33m>\u001b[0m \u001b[1;36m1\u001b[0m\u001b[1;33m:\u001b[0m\u001b[1;33m\u001b[0m\u001b[1;33m\u001b[0m\u001b[0m\n\u001b[1;32m---> 93\u001b[1;33m         raise ValueError(\n\u001b[0m\u001b[0;32m     94\u001b[0m             \"Classification metrics can't handle a mix of {0} and {1} targets\".format(\n\u001b[0;32m     95\u001b[0m                 \u001b[0mtype_true\u001b[0m\u001b[1;33m,\u001b[0m \u001b[0mtype_pred\u001b[0m\u001b[1;33m\u001b[0m\u001b[1;33m\u001b[0m\u001b[0m\n",
      "\u001b[1;31mValueError\u001b[0m: Classification metrics can't handle a mix of multiclass-multioutput and binary targets"
     ]
    }
   ],
   "source": [
    "# checking accuracy score\n",
    "accuracy_score(x_test,best_estimator_knn_predictons)\n",
    "## getting error??????"
   ]
  },
  {
   "cell_type": "code",
   "execution_count": 143,
   "id": "30c824ea-faaf-4f37-ad41-bb1866400247",
   "metadata": {},
   "outputs": [
    {
     "ename": "ValueError",
     "evalue": "Mix type of y not allowed, got types {'multiclass-multioutput', 'binary'}",
     "output_type": "error",
     "traceback": [
      "\u001b[1;31m---------------------------------------------------------------------------\u001b[0m",
      "\u001b[1;31mValueError\u001b[0m                                Traceback (most recent call last)",
      "\u001b[1;32mC:\\Users\\MBA-RA~1\\AppData\\Local\\Temp/ipykernel_21572/404500393.py\u001b[0m in \u001b[0;36m<module>\u001b[1;34m\u001b[0m\n\u001b[1;32m----> 1\u001b[1;33m \u001b[0mConfusionMatrixDisplay\u001b[0m\u001b[1;33m.\u001b[0m\u001b[0mfrom_predictions\u001b[0m\u001b[1;33m(\u001b[0m\u001b[0mx_test\u001b[0m\u001b[1;33m,\u001b[0m\u001b[0mbest_estimator_knn_predictons\u001b[0m\u001b[1;33m)\u001b[0m\u001b[1;33m\u001b[0m\u001b[1;33m\u001b[0m\u001b[0m\n\u001b[0m\u001b[0;32m      2\u001b[0m \u001b[1;33m\u001b[0m\u001b[0m\n\u001b[0;32m      3\u001b[0m \u001b[1;31m## getting error\u001b[0m\u001b[1;33m\u001b[0m\u001b[1;33m\u001b[0m\u001b[0m\n\u001b[0;32m      4\u001b[0m \u001b[1;31m## work on it one more time\u001b[0m\u001b[1;33m\u001b[0m\u001b[1;33m\u001b[0m\u001b[0m\n",
      "\u001b[1;32m~\\anaconda3\\lib\\site-packages\\sklearn\\metrics\\_plot\\confusion_matrix.py\u001b[0m in \u001b[0;36mfrom_predictions\u001b[1;34m(cls, y_true, y_pred, labels, sample_weight, normalize, display_labels, include_values, xticks_rotation, values_format, cmap, ax, colorbar)\u001b[0m\n\u001b[0;32m    417\u001b[0m         \u001b[1;32mif\u001b[0m \u001b[0mdisplay_labels\u001b[0m \u001b[1;32mis\u001b[0m \u001b[1;32mNone\u001b[0m\u001b[1;33m:\u001b[0m\u001b[1;33m\u001b[0m\u001b[1;33m\u001b[0m\u001b[0m\n\u001b[0;32m    418\u001b[0m             \u001b[1;32mif\u001b[0m \u001b[0mlabels\u001b[0m \u001b[1;32mis\u001b[0m \u001b[1;32mNone\u001b[0m\u001b[1;33m:\u001b[0m\u001b[1;33m\u001b[0m\u001b[1;33m\u001b[0m\u001b[0m\n\u001b[1;32m--> 419\u001b[1;33m                 \u001b[0mdisplay_labels\u001b[0m \u001b[1;33m=\u001b[0m \u001b[0munique_labels\u001b[0m\u001b[1;33m(\u001b[0m\u001b[0my_true\u001b[0m\u001b[1;33m,\u001b[0m \u001b[0my_pred\u001b[0m\u001b[1;33m)\u001b[0m\u001b[1;33m\u001b[0m\u001b[1;33m\u001b[0m\u001b[0m\n\u001b[0m\u001b[0;32m    420\u001b[0m             \u001b[1;32melse\u001b[0m\u001b[1;33m:\u001b[0m\u001b[1;33m\u001b[0m\u001b[1;33m\u001b[0m\u001b[0m\n\u001b[0;32m    421\u001b[0m                 \u001b[0mdisplay_labels\u001b[0m \u001b[1;33m=\u001b[0m \u001b[0mlabels\u001b[0m\u001b[1;33m\u001b[0m\u001b[1;33m\u001b[0m\u001b[0m\n",
      "\u001b[1;32m~\\anaconda3\\lib\\site-packages\\sklearn\\utils\\multiclass.py\u001b[0m in \u001b[0;36munique_labels\u001b[1;34m(*ys)\u001b[0m\n\u001b[0;32m     78\u001b[0m \u001b[1;33m\u001b[0m\u001b[0m\n\u001b[0;32m     79\u001b[0m     \u001b[1;32mif\u001b[0m \u001b[0mlen\u001b[0m\u001b[1;33m(\u001b[0m\u001b[0mys_types\u001b[0m\u001b[1;33m)\u001b[0m \u001b[1;33m>\u001b[0m \u001b[1;36m1\u001b[0m\u001b[1;33m:\u001b[0m\u001b[1;33m\u001b[0m\u001b[1;33m\u001b[0m\u001b[0m\n\u001b[1;32m---> 80\u001b[1;33m         \u001b[1;32mraise\u001b[0m \u001b[0mValueError\u001b[0m\u001b[1;33m(\u001b[0m\u001b[1;34m\"Mix type of y not allowed, got types %s\"\u001b[0m \u001b[1;33m%\u001b[0m \u001b[0mys_types\u001b[0m\u001b[1;33m)\u001b[0m\u001b[1;33m\u001b[0m\u001b[1;33m\u001b[0m\u001b[0m\n\u001b[0m\u001b[0;32m     81\u001b[0m \u001b[1;33m\u001b[0m\u001b[0m\n\u001b[0;32m     82\u001b[0m     \u001b[0mlabel_type\u001b[0m \u001b[1;33m=\u001b[0m \u001b[0mys_types\u001b[0m\u001b[1;33m.\u001b[0m\u001b[0mpop\u001b[0m\u001b[1;33m(\u001b[0m\u001b[1;33m)\u001b[0m\u001b[1;33m\u001b[0m\u001b[1;33m\u001b[0m\u001b[0m\n",
      "\u001b[1;31mValueError\u001b[0m: Mix type of y not allowed, got types {'multiclass-multioutput', 'binary'}"
     ]
    }
   ],
   "source": [
    "ConfusionMatrixDisplay.from_predictions(x_test,best_estimator_knn_predictons)\n",
    "\n",
    "## getting error \n",
    "## work on it one more time"
   ]
  },
  {
   "cell_type": "markdown",
   "id": "2f0e801d-8c4f-47ec-a172-83b46a8258ba",
   "metadata": {},
   "source": [
    "#### Logistic Regression on loan data set 04-10-2022"
   ]
  },
  {
   "cell_type": "markdown",
   "id": "1c33e820-8274-44c6-a954-434118e9c381",
   "metadata": {},
   "source": [
    "loan data is preprocessed but not normalized \n",
    "***\n",
    "try building logistic regression without normalization and with normalization\n",
    "***"
   ]
  },
  {
   "cell_type": "markdown",
   "id": "c59c030e-875a-437c-83a7-3e2a1673f16a",
   "metadata": {},
   "source": [
    "##### logistic Regression without normalization"
   ]
  },
  {
   "cell_type": "code",
   "execution_count": 144,
   "id": "85f2b002-ccb4-4912-9818-255b0c5b2c99",
   "metadata": {},
   "outputs": [],
   "source": [
    "# importing required libraries\n",
    "from sklearn.linear_model import  LogisticRegression"
   ]
  },
  {
   "cell_type": "code",
   "execution_count": 145,
   "id": "82d0b1da-de3e-4a9e-bf34-70c9186e5de6",
   "metadata": {},
   "outputs": [],
   "source": [
    "#creating Logistic Regression object\n",
    "\n",
    "logiR=LogisticRegression(random_state=0)"
   ]
  },
  {
   "cell_type": "code",
   "execution_count": 146,
   "id": "191c0a62-c938-4ad3-8849-3913d6843974",
   "metadata": {},
   "outputs": [
    {
     "data": {
      "text/plain": [
       "LogisticRegression(random_state=0)"
      ]
     },
     "execution_count": 146,
     "metadata": {},
     "output_type": "execute_result"
    }
   ],
   "source": [
    "# fitting dat to created object\n",
    "logiR.fit(x_train,y_trian)"
   ]
  },
  {
   "cell_type": "code",
   "execution_count": 147,
   "id": "2c24ca63-ea34-415c-a389-b2f2591a755b",
   "metadata": {},
   "outputs": [
    {
     "data": {
      "text/plain": [
       "array([1, 1, 1, 1, 1, 1, 1, 1, 1, 1, 0, 1, 1, 1, 1, 1, 1, 1, 0, 1, 1, 1,\n",
       "       1, 1, 0, 1, 1, 1, 1, 1, 0, 0, 1, 1, 1, 0, 1, 1, 1, 0, 1, 1, 1, 1,\n",
       "       1, 1, 1, 1, 1, 1, 1, 1, 1, 1, 1, 1, 1, 1, 1, 1, 1, 0, 1, 1, 1, 1,\n",
       "       1, 0, 1, 1, 0, 1, 0, 1, 1, 1, 1, 0, 1, 1, 1, 1, 1, 0, 1, 1, 1, 1,\n",
       "       1, 1, 1, 1, 1, 1, 1, 1, 1, 1, 0, 0, 1, 1, 1, 1, 1, 1, 1, 1, 1, 1,\n",
       "       1, 1, 1, 1, 0, 1, 1, 1, 1, 1, 1, 1, 1, 1, 1, 1, 1, 1, 1, 1, 1, 1,\n",
       "       1, 1, 1, 0, 1, 1, 0, 1, 1, 1, 1, 1, 1, 1, 1, 1, 1, 1, 1, 1, 1, 1],\n",
       "      dtype=int64)"
      ]
     },
     "execution_count": 147,
     "metadata": {},
     "output_type": "execute_result"
    }
   ],
   "source": [
    "#getting predictions\n",
    "logi_pred=logiR.predict(x_test)\n",
    "logi_pred"
   ]
  },
  {
   "cell_type": "code",
   "execution_count": 148,
   "id": "c79836a9-2663-48a9-b882-2c86ed53e822",
   "metadata": {
    "tags": []
   },
   "outputs": [
    {
     "data": {
      "text/plain": [
       "array([[0.32267329, 0.67732671],\n",
       "       [0.12013957, 0.87986043],\n",
       "       [0.24616986, 0.75383014],\n",
       "       [0.29995413, 0.70004587],\n",
       "       [0.28311536, 0.71688464],\n",
       "       [0.21481404, 0.78518596],\n",
       "       [0.18734262, 0.81265738],\n",
       "       [0.12269612, 0.87730388],\n",
       "       [0.29769491, 0.70230509],\n",
       "       [0.45118551, 0.54881449],\n",
       "       [0.92413988, 0.07586012],\n",
       "       [0.32279601, 0.67720399],\n",
       "       [0.12117995, 0.87882005],\n",
       "       [0.19927512, 0.80072488],\n",
       "       [0.20733701, 0.79266299],\n",
       "       [0.16546332, 0.83453668],\n",
       "       [0.12109107, 0.87890893],\n",
       "       [0.39817265, 0.60182735],\n",
       "       [0.75805527, 0.24194473],\n",
       "       [0.28326817, 0.71673183],\n",
       "       [0.1856416 , 0.8143584 ],\n",
       "       [0.13751336, 0.86248664],\n",
       "       [0.16243004, 0.83756996],\n",
       "       [0.2579048 , 0.7420952 ],\n",
       "       [0.84369382, 0.15630618],\n",
       "       [0.15751916, 0.84248084],\n",
       "       [0.27532111, 0.72467889],\n",
       "       [0.27345707, 0.72654293],\n",
       "       [0.15407413, 0.84592587],\n",
       "       [0.16449027, 0.83550973],\n",
       "       [0.71697783, 0.28302217],\n",
       "       [0.88479377, 0.11520623],\n",
       "       [0.0766176 , 0.9233824 ],\n",
       "       [0.29570376, 0.70429624],\n",
       "       [0.35340226, 0.64659774],\n",
       "       [0.87669563, 0.12330437],\n",
       "       [0.25599842, 0.74400158],\n",
       "       [0.39333628, 0.60666372],\n",
       "       [0.11389342, 0.88610658],\n",
       "       [0.52731763, 0.47268237],\n",
       "       [0.18012605, 0.81987395],\n",
       "       [0.17313362, 0.82686638],\n",
       "       [0.10483353, 0.89516647],\n",
       "       [0.20892808, 0.79107192],\n",
       "       [0.29802243, 0.70197757],\n",
       "       [0.26924228, 0.73075772],\n",
       "       [0.27004047, 0.72995953],\n",
       "       [0.09406514, 0.90593486],\n",
       "       [0.12601049, 0.87398951],\n",
       "       [0.1334413 , 0.8665587 ],\n",
       "       [0.10932041, 0.89067959],\n",
       "       [0.19544052, 0.80455948],\n",
       "       [0.20374949, 0.79625051],\n",
       "       [0.33668809, 0.66331191],\n",
       "       [0.26597679, 0.73402321],\n",
       "       [0.24397856, 0.75602144],\n",
       "       [0.19915854, 0.80084146],\n",
       "       [0.18961966, 0.81038034],\n",
       "       [0.30732312, 0.69267688],\n",
       "       [0.15370136, 0.84629864],\n",
       "       [0.28464984, 0.71535016],\n",
       "       [0.85995736, 0.14004264],\n",
       "       [0.17445827, 0.82554173],\n",
       "       [0.15469126, 0.84530874],\n",
       "       [0.14924488, 0.85075512],\n",
       "       [0.20685395, 0.79314605],\n",
       "       [0.19662302, 0.80337698],\n",
       "       [0.88188977, 0.11811023],\n",
       "       [0.10140695, 0.89859305],\n",
       "       [0.30793189, 0.69206811],\n",
       "       [0.86666642, 0.13333358],\n",
       "       [0.18371865, 0.81628135],\n",
       "       [0.82108528, 0.17891472],\n",
       "       [0.27445395, 0.72554605],\n",
       "       [0.1330776 , 0.8669224 ],\n",
       "       [0.25019518, 0.74980482],\n",
       "       [0.17642048, 0.82357952],\n",
       "       [0.55318236, 0.44681764],\n",
       "       [0.28606968, 0.71393032],\n",
       "       [0.12271131, 0.87728869],\n",
       "       [0.4114926 , 0.5885074 ],\n",
       "       [0.3427198 , 0.6572802 ],\n",
       "       [0.1108999 , 0.8891001 ],\n",
       "       [0.8433071 , 0.1566929 ],\n",
       "       [0.05955112, 0.94044888],\n",
       "       [0.22021675, 0.77978325],\n",
       "       [0.1287377 , 0.8712623 ],\n",
       "       [0.14429897, 0.85570103],\n",
       "       [0.27290208, 0.72709792],\n",
       "       [0.03917064, 0.96082936],\n",
       "       [0.26748764, 0.73251236],\n",
       "       [0.17472954, 0.82527046],\n",
       "       [0.19497416, 0.80502584],\n",
       "       [0.13494902, 0.86505098],\n",
       "       [0.15904365, 0.84095635],\n",
       "       [0.19231005, 0.80768995],\n",
       "       [0.28466897, 0.71533103],\n",
       "       [0.14875545, 0.85124455],\n",
       "       [0.94031462, 0.05968538],\n",
       "       [0.63547439, 0.36452561],\n",
       "       [0.027647  , 0.972353  ],\n",
       "       [0.10268887, 0.89731113],\n",
       "       [0.05989673, 0.94010327],\n",
       "       [0.06843848, 0.93156152],\n",
       "       [0.27833559, 0.72166441],\n",
       "       [0.20974177, 0.79025823],\n",
       "       [0.13039989, 0.86960011],\n",
       "       [0.10122801, 0.89877199],\n",
       "       [0.08804521, 0.91195479],\n",
       "       [0.28476045, 0.71523955],\n",
       "       [0.09693691, 0.90306309],\n",
       "       [0.14093027, 0.85906973],\n",
       "       [0.05397812, 0.94602188],\n",
       "       [0.34441996, 0.65558004],\n",
       "       [0.7163776 , 0.2836224 ],\n",
       "       [0.1029813 , 0.8970187 ],\n",
       "       [0.05085951, 0.94914049],\n",
       "       [0.17487754, 0.82512246],\n",
       "       [0.49466863, 0.50533137],\n",
       "       [0.15265739, 0.84734261],\n",
       "       [0.1506937 , 0.8493063 ],\n",
       "       [0.25418103, 0.74581897],\n",
       "       [0.25387536, 0.74612464],\n",
       "       [0.22254559, 0.77745441],\n",
       "       [0.19233929, 0.80766071],\n",
       "       [0.06312488, 0.93687512],\n",
       "       [0.20249856, 0.79750144],\n",
       "       [0.24020006, 0.75979994],\n",
       "       [0.20018919, 0.79981081],\n",
       "       [0.13879318, 0.86120682],\n",
       "       [0.05875836, 0.94124164],\n",
       "       [0.25344347, 0.74655653],\n",
       "       [0.32945305, 0.67054695],\n",
       "       [0.05981646, 0.94018354],\n",
       "       [0.20340692, 0.79659308],\n",
       "       [0.83419782, 0.16580218],\n",
       "       [0.31249382, 0.68750618],\n",
       "       [0.28854415, 0.71145585],\n",
       "       [0.85223094, 0.14776906],\n",
       "       [0.34125448, 0.65874552],\n",
       "       [0.1137191 , 0.8862809 ],\n",
       "       [0.20833229, 0.79166771],\n",
       "       [0.13259308, 0.86740692],\n",
       "       [0.15667266, 0.84332734],\n",
       "       [0.16278537, 0.83721463],\n",
       "       [0.13056663, 0.86943337],\n",
       "       [0.10987486, 0.89012514],\n",
       "       [0.16023837, 0.83976163],\n",
       "       [0.16395215, 0.83604785],\n",
       "       [0.21503497, 0.78496503],\n",
       "       [0.34364692, 0.65635308],\n",
       "       [0.20955946, 0.79044054],\n",
       "       [0.1498928 , 0.8501072 ],\n",
       "       [0.1804874 , 0.8195126 ]])"
      ]
     },
     "execution_count": 148,
     "metadata": {},
     "output_type": "execute_result"
    }
   ],
   "source": [
    "# getting probabilities of predictions\n",
    "logiR.predict_proba(x_test)"
   ]
  },
  {
   "cell_type": "code",
   "execution_count": 149,
   "id": "20ffa982-726c-4318-bbb2-cec28ecc676e",
   "metadata": {},
   "outputs": [
    {
     "data": {
      "text/plain": [
       "0.7792207792207793"
      ]
     },
     "execution_count": 149,
     "metadata": {},
     "output_type": "execute_result"
    }
   ],
   "source": [
    "# model score\n",
    "logiR.score(x_test,y_test)"
   ]
  },
  {
   "cell_type": "code",
   "execution_count": 150,
   "id": "c7aec578-ff28-4f29-a654-2332686deba5",
   "metadata": {
    "tags": []
   },
   "outputs": [
    {
     "name": "stderr",
     "output_type": "stream",
     "text": [
      "C:\\Users\\MBA-RAJESH\\anaconda3\\lib\\site-packages\\sklearn\\base.py:450: UserWarning: X does not have valid feature names, but LogisticRegression was fitted with feature names\n",
      "  warnings.warn(\n"
     ]
    },
    {
     "ename": "ValueError",
     "evalue": "X has 154 features, but LogisticRegression is expecting 11 features as input.",
     "output_type": "error",
     "traceback": [
      "\u001b[1;31m---------------------------------------------------------------------------\u001b[0m",
      "\u001b[1;31mValueError\u001b[0m                                Traceback (most recent call last)",
      "\u001b[1;32mC:\\Users\\MBA-RA~1\\AppData\\Local\\Temp/ipykernel_21572/3643096825.py\u001b[0m in \u001b[0;36m<module>\u001b[1;34m\u001b[0m\n\u001b[0;32m      1\u001b[0m \u001b[1;31m#getting model score with actual Vs. predicted\u001b[0m\u001b[1;33m\u001b[0m\u001b[1;33m\u001b[0m\u001b[0m\n\u001b[1;32m----> 2\u001b[1;33m \u001b[0mlogiR\u001b[0m\u001b[1;33m.\u001b[0m\u001b[0mscore\u001b[0m\u001b[1;33m(\u001b[0m\u001b[1;33m[\u001b[0m\u001b[0my_test\u001b[0m\u001b[1;33m]\u001b[0m\u001b[1;33m,\u001b[0m\u001b[0mlogi_pred\u001b[0m\u001b[1;33m)\u001b[0m\u001b[1;33m\u001b[0m\u001b[1;33m\u001b[0m\u001b[0m\n\u001b[0m\u001b[0;32m      3\u001b[0m \u001b[1;31m## not working /////?????\u001b[0m\u001b[1;33m\u001b[0m\u001b[1;33m\u001b[0m\u001b[0m\n",
      "\u001b[1;32m~\\anaconda3\\lib\\site-packages\\sklearn\\base.py\u001b[0m in \u001b[0;36mscore\u001b[1;34m(self, X, y, sample_weight)\u001b[0m\n\u001b[0;32m    649\u001b[0m         \u001b[1;32mfrom\u001b[0m \u001b[1;33m.\u001b[0m\u001b[0mmetrics\u001b[0m \u001b[1;32mimport\u001b[0m \u001b[0maccuracy_score\u001b[0m\u001b[1;33m\u001b[0m\u001b[1;33m\u001b[0m\u001b[0m\n\u001b[0;32m    650\u001b[0m \u001b[1;33m\u001b[0m\u001b[0m\n\u001b[1;32m--> 651\u001b[1;33m         \u001b[1;32mreturn\u001b[0m \u001b[0maccuracy_score\u001b[0m\u001b[1;33m(\u001b[0m\u001b[0my\u001b[0m\u001b[1;33m,\u001b[0m \u001b[0mself\u001b[0m\u001b[1;33m.\u001b[0m\u001b[0mpredict\u001b[0m\u001b[1;33m(\u001b[0m\u001b[0mX\u001b[0m\u001b[1;33m)\u001b[0m\u001b[1;33m,\u001b[0m \u001b[0msample_weight\u001b[0m\u001b[1;33m=\u001b[0m\u001b[0msample_weight\u001b[0m\u001b[1;33m)\u001b[0m\u001b[1;33m\u001b[0m\u001b[1;33m\u001b[0m\u001b[0m\n\u001b[0m\u001b[0;32m    652\u001b[0m \u001b[1;33m\u001b[0m\u001b[0m\n\u001b[0;32m    653\u001b[0m     \u001b[1;32mdef\u001b[0m \u001b[0m_more_tags\u001b[0m\u001b[1;33m(\u001b[0m\u001b[0mself\u001b[0m\u001b[1;33m)\u001b[0m\u001b[1;33m:\u001b[0m\u001b[1;33m\u001b[0m\u001b[1;33m\u001b[0m\u001b[0m\n",
      "\u001b[1;32m~\\anaconda3\\lib\\site-packages\\sklearn\\linear_model\\_base.py\u001b[0m in \u001b[0;36mpredict\u001b[1;34m(self, X)\u001b[0m\n\u001b[0;32m    423\u001b[0m             \u001b[0mVector\u001b[0m \u001b[0mcontaining\u001b[0m \u001b[0mthe\u001b[0m \u001b[1;32mclass\u001b[0m \u001b[0mlabels\u001b[0m \u001b[1;32mfor\u001b[0m \u001b[0meach\u001b[0m \u001b[0msample\u001b[0m\u001b[1;33m.\u001b[0m\u001b[1;33m\u001b[0m\u001b[1;33m\u001b[0m\u001b[0m\n\u001b[0;32m    424\u001b[0m         \"\"\"\n\u001b[1;32m--> 425\u001b[1;33m         \u001b[0mscores\u001b[0m \u001b[1;33m=\u001b[0m \u001b[0mself\u001b[0m\u001b[1;33m.\u001b[0m\u001b[0mdecision_function\u001b[0m\u001b[1;33m(\u001b[0m\u001b[0mX\u001b[0m\u001b[1;33m)\u001b[0m\u001b[1;33m\u001b[0m\u001b[1;33m\u001b[0m\u001b[0m\n\u001b[0m\u001b[0;32m    426\u001b[0m         \u001b[1;32mif\u001b[0m \u001b[0mlen\u001b[0m\u001b[1;33m(\u001b[0m\u001b[0mscores\u001b[0m\u001b[1;33m.\u001b[0m\u001b[0mshape\u001b[0m\u001b[1;33m)\u001b[0m \u001b[1;33m==\u001b[0m \u001b[1;36m1\u001b[0m\u001b[1;33m:\u001b[0m\u001b[1;33m\u001b[0m\u001b[1;33m\u001b[0m\u001b[0m\n\u001b[0;32m    427\u001b[0m             \u001b[0mindices\u001b[0m \u001b[1;33m=\u001b[0m \u001b[1;33m(\u001b[0m\u001b[0mscores\u001b[0m \u001b[1;33m>\u001b[0m \u001b[1;36m0\u001b[0m\u001b[1;33m)\u001b[0m\u001b[1;33m.\u001b[0m\u001b[0mastype\u001b[0m\u001b[1;33m(\u001b[0m\u001b[0mint\u001b[0m\u001b[1;33m)\u001b[0m\u001b[1;33m\u001b[0m\u001b[1;33m\u001b[0m\u001b[0m\n",
      "\u001b[1;32m~\\anaconda3\\lib\\site-packages\\sklearn\\linear_model\\_base.py\u001b[0m in \u001b[0;36mdecision_function\u001b[1;34m(self, X)\u001b[0m\n\u001b[0;32m    405\u001b[0m         \u001b[0mcheck_is_fitted\u001b[0m\u001b[1;33m(\u001b[0m\u001b[0mself\u001b[0m\u001b[1;33m)\u001b[0m\u001b[1;33m\u001b[0m\u001b[1;33m\u001b[0m\u001b[0m\n\u001b[0;32m    406\u001b[0m \u001b[1;33m\u001b[0m\u001b[0m\n\u001b[1;32m--> 407\u001b[1;33m         \u001b[0mX\u001b[0m \u001b[1;33m=\u001b[0m \u001b[0mself\u001b[0m\u001b[1;33m.\u001b[0m\u001b[0m_validate_data\u001b[0m\u001b[1;33m(\u001b[0m\u001b[0mX\u001b[0m\u001b[1;33m,\u001b[0m \u001b[0maccept_sparse\u001b[0m\u001b[1;33m=\u001b[0m\u001b[1;34m\"csr\"\u001b[0m\u001b[1;33m,\u001b[0m \u001b[0mreset\u001b[0m\u001b[1;33m=\u001b[0m\u001b[1;32mFalse\u001b[0m\u001b[1;33m)\u001b[0m\u001b[1;33m\u001b[0m\u001b[1;33m\u001b[0m\u001b[0m\n\u001b[0m\u001b[0;32m    408\u001b[0m         \u001b[0mscores\u001b[0m \u001b[1;33m=\u001b[0m \u001b[0msafe_sparse_dot\u001b[0m\u001b[1;33m(\u001b[0m\u001b[0mX\u001b[0m\u001b[1;33m,\u001b[0m \u001b[0mself\u001b[0m\u001b[1;33m.\u001b[0m\u001b[0mcoef_\u001b[0m\u001b[1;33m.\u001b[0m\u001b[0mT\u001b[0m\u001b[1;33m,\u001b[0m \u001b[0mdense_output\u001b[0m\u001b[1;33m=\u001b[0m\u001b[1;32mTrue\u001b[0m\u001b[1;33m)\u001b[0m \u001b[1;33m+\u001b[0m \u001b[0mself\u001b[0m\u001b[1;33m.\u001b[0m\u001b[0mintercept_\u001b[0m\u001b[1;33m\u001b[0m\u001b[1;33m\u001b[0m\u001b[0m\n\u001b[0;32m    409\u001b[0m         \u001b[1;32mreturn\u001b[0m \u001b[0mscores\u001b[0m\u001b[1;33m.\u001b[0m\u001b[0mravel\u001b[0m\u001b[1;33m(\u001b[0m\u001b[1;33m)\u001b[0m \u001b[1;32mif\u001b[0m \u001b[0mscores\u001b[0m\u001b[1;33m.\u001b[0m\u001b[0mshape\u001b[0m\u001b[1;33m[\u001b[0m\u001b[1;36m1\u001b[0m\u001b[1;33m]\u001b[0m \u001b[1;33m==\u001b[0m \u001b[1;36m1\u001b[0m \u001b[1;32melse\u001b[0m \u001b[0mscores\u001b[0m\u001b[1;33m\u001b[0m\u001b[1;33m\u001b[0m\u001b[0m\n",
      "\u001b[1;32m~\\anaconda3\\lib\\site-packages\\sklearn\\base.py\u001b[0m in \u001b[0;36m_validate_data\u001b[1;34m(self, X, y, reset, validate_separately, **check_params)\u001b[0m\n\u001b[0;32m    583\u001b[0m \u001b[1;33m\u001b[0m\u001b[0m\n\u001b[0;32m    584\u001b[0m         \u001b[1;32mif\u001b[0m \u001b[1;32mnot\u001b[0m \u001b[0mno_val_X\u001b[0m \u001b[1;32mand\u001b[0m \u001b[0mcheck_params\u001b[0m\u001b[1;33m.\u001b[0m\u001b[0mget\u001b[0m\u001b[1;33m(\u001b[0m\u001b[1;34m\"ensure_2d\"\u001b[0m\u001b[1;33m,\u001b[0m \u001b[1;32mTrue\u001b[0m\u001b[1;33m)\u001b[0m\u001b[1;33m:\u001b[0m\u001b[1;33m\u001b[0m\u001b[1;33m\u001b[0m\u001b[0m\n\u001b[1;32m--> 585\u001b[1;33m             \u001b[0mself\u001b[0m\u001b[1;33m.\u001b[0m\u001b[0m_check_n_features\u001b[0m\u001b[1;33m(\u001b[0m\u001b[0mX\u001b[0m\u001b[1;33m,\u001b[0m \u001b[0mreset\u001b[0m\u001b[1;33m=\u001b[0m\u001b[0mreset\u001b[0m\u001b[1;33m)\u001b[0m\u001b[1;33m\u001b[0m\u001b[1;33m\u001b[0m\u001b[0m\n\u001b[0m\u001b[0;32m    586\u001b[0m \u001b[1;33m\u001b[0m\u001b[0m\n\u001b[0;32m    587\u001b[0m         \u001b[1;32mreturn\u001b[0m \u001b[0mout\u001b[0m\u001b[1;33m\u001b[0m\u001b[1;33m\u001b[0m\u001b[0m\n",
      "\u001b[1;32m~\\anaconda3\\lib\\site-packages\\sklearn\\base.py\u001b[0m in \u001b[0;36m_check_n_features\u001b[1;34m(self, X, reset)\u001b[0m\n\u001b[0;32m    398\u001b[0m \u001b[1;33m\u001b[0m\u001b[0m\n\u001b[0;32m    399\u001b[0m         \u001b[1;32mif\u001b[0m \u001b[0mn_features\u001b[0m \u001b[1;33m!=\u001b[0m \u001b[0mself\u001b[0m\u001b[1;33m.\u001b[0m\u001b[0mn_features_in_\u001b[0m\u001b[1;33m:\u001b[0m\u001b[1;33m\u001b[0m\u001b[1;33m\u001b[0m\u001b[0m\n\u001b[1;32m--> 400\u001b[1;33m             raise ValueError(\n\u001b[0m\u001b[0;32m    401\u001b[0m                 \u001b[1;34mf\"X has {n_features} features, but {self.__class__.__name__} \"\u001b[0m\u001b[1;33m\u001b[0m\u001b[1;33m\u001b[0m\u001b[0m\n\u001b[0;32m    402\u001b[0m                 \u001b[1;34mf\"is expecting {self.n_features_in_} features as input.\"\u001b[0m\u001b[1;33m\u001b[0m\u001b[1;33m\u001b[0m\u001b[0m\n",
      "\u001b[1;31mValueError\u001b[0m: X has 154 features, but LogisticRegression is expecting 11 features as input."
     ]
    }
   ],
   "source": [
    "#getting model score with actual Vs. predicted\n",
    "logiR.score([y_test],logi_pred)\n",
    "## not working /////?????"
   ]
  },
  {
   "cell_type": "code",
   "execution_count": 151,
   "id": "e522034f-dcb0-4d08-8a75-d74ee0a3dd35",
   "metadata": {},
   "outputs": [
    {
     "data": {
      "text/plain": [
       "120"
      ]
     },
     "execution_count": 151,
     "metadata": {},
     "output_type": "execute_result"
    }
   ],
   "source": [
    "#trying other way\n",
    "(y_test==logi_pred).sum()\n",
    "## out of 154, this model is able to predict 120 correctly"
   ]
  },
  {
   "cell_type": "code",
   "execution_count": 152,
   "id": "7f046c0b-a453-4efb-b4e7-4687d75cf9cf",
   "metadata": {},
   "outputs": [
    {
     "data": {
      "text/plain": [
       "<sklearn.metrics._plot.confusion_matrix.ConfusionMatrixDisplay at 0x20f342201c0>"
      ]
     },
     "execution_count": 152,
     "metadata": {},
     "output_type": "execute_result"
    },
    {
     "data": {
      "image/png": "[encoded data removed]",
      "text/plain": [
       "<Figure size 432x288 with 2 Axes>"
      ]
     },
     "metadata": {
      "needs_background": "light"
     },
     "output_type": "display_data"
    }
   ],
   "source": [
    "#further evaluating model with confusion matrix\n",
    "ConfusionMatrixDisplay.from_predictions(y_test,logi_pred)\n",
    "## 120 correct predictions is matching with classification matrix\n",
    "## on calculating accuracy manually, You found that it is equal to \"logiR.score(x_test,y_test)\"\n",
    "## 0-> not accepted, 1-> accepted"
   ]
  },
  {
   "cell_type": "code",
   "execution_count": 153,
   "id": "d60934fd-eed5-4d0f-b8f4-cb86276cd603",
   "metadata": {},
   "outputs": [
    {
     "data": {
      "text/plain": [
       "'              precision    recall  f1-score   support\\n\\n           0       0.89      0.33      0.48        48\\n           1       0.76      0.98      0.86       106\\n\\n    accuracy                           0.78       154\\n   macro avg       0.83      0.66      0.67       154\\nweighted avg       0.80      0.78      0.74       154\\n'"
      ]
     },
     "execution_count": 153,
     "metadata": {},
     "output_type": "execute_result"
    }
   ],
   "source": [
    "# getting classification Report\n",
    "classification_report(y_test,logi_pred)\n",
    "##results are not in readable form"
   ]
  },
  {
   "cell_type": "code",
   "execution_count": 154,
   "id": "d0fe6a32-1233-4886-8266-e2ae1edc347b",
   "metadata": {},
   "outputs": [
    {
     "name": "stdout",
     "output_type": "stream",
     "text": [
      "              precision    recall  f1-score   support\n",
      "\n",
      "           0       0.89      0.33      0.48        48\n",
      "           1       0.76      0.98      0.86       106\n",
      "\n",
      "    accuracy                           0.78       154\n",
      "   macro avg       0.83      0.66      0.67       154\n",
      "weighted avg       0.80      0.78      0.74       154\n",
      "\n"
     ]
    }
   ],
   "source": [
    "#printing results for better readabilty\n",
    "print(classification_report(y_test,logi_pred))\n",
    "## logistic regression has accuracy of 78%\n",
    "## k_nn has accuracy of 66%\n",
    "## hence we can infer that logistic regression is better at classifying data than k_nn"
   ]
  },
  {
   "cell_type": "markdown",
   "id": "70457ef7-4a28-4eb0-b0b3-004035887df5",
   "metadata": {},
   "source": [
    "##### logistic regressiion with normalization"
   ]
  },
  {
   "cell_type": "code",
   "execution_count": 155,
   "id": "3f3dd867-2fce-4e99-ba99-1b60d8264aaa",
   "metadata": {},
   "outputs": [],
   "source": [
    "#importing minmax scaler\n",
    "from sklearn.preprocessing import MinMaxScaler\n",
    "\n"
   ]
  },
  {
   "cell_type": "code",
   "execution_count": 156,
   "id": "7dddaeeb-1b0d-407e-b943-13ed3d660a82",
   "metadata": {},
   "outputs": [],
   "source": [
    "#creatin minmax obj\n",
    "logi_minmax_scaler=MinMaxScaler()"
   ]
  },
  {
   "cell_type": "code",
   "execution_count": 157,
   "id": "889fe4ed-d303-4ec9-bb07-044edf696a10",
   "metadata": {},
   "outputs": [
    {
     "data": {
      "text/html": [
       "<div>\n",
       "<style scoped>\n",
       "    .dataframe tbody tr th:only-of-type {\n",
       "        vertical-align: middle;\n",
       "    }\n",
       "\n",
       "    .dataframe tbody tr th {\n",
       "        vertical-align: top;\n",
       "    }\n",
       "\n",
       "    .dataframe thead th {\n",
       "        text-align: right;\n",
       "    }\n",
       "</style>\n",
       "<table border=\"1\" class=\"dataframe\">\n",
       "  <thead>\n",
       "    <tr style=\"text-align: right;\">\n",
       "      <th></th>\n",
       "      <th>0</th>\n",
       "      <th>1</th>\n",
       "      <th>2</th>\n",
       "      <th>3</th>\n",
       "      <th>4</th>\n",
       "      <th>5</th>\n",
       "      <th>6</th>\n",
       "      <th>7</th>\n",
       "      <th>8</th>\n",
       "      <th>9</th>\n",
       "      <th>10</th>\n",
       "    </tr>\n",
       "  </thead>\n",
       "  <tbody>\n",
       "    <tr>\n",
       "      <th>0</th>\n",
       "      <td>1.0</td>\n",
       "      <td>0.0</td>\n",
       "      <td>0.000000</td>\n",
       "      <td>1.0</td>\n",
       "      <td>0.0</td>\n",
       "      <td>0.070489</td>\n",
       "      <td>0.000000</td>\n",
       "      <td>0.160637</td>\n",
       "      <td>0.743590</td>\n",
       "      <td>1.0</td>\n",
       "      <td>0.5</td>\n",
       "    </tr>\n",
       "    <tr>\n",
       "      <th>1</th>\n",
       "      <td>1.0</td>\n",
       "      <td>1.0</td>\n",
       "      <td>0.333333</td>\n",
       "      <td>1.0</td>\n",
       "      <td>0.0</td>\n",
       "      <td>0.054830</td>\n",
       "      <td>0.036192</td>\n",
       "      <td>0.172214</td>\n",
       "      <td>0.743590</td>\n",
       "      <td>1.0</td>\n",
       "      <td>1.0</td>\n",
       "    </tr>\n",
       "    <tr>\n",
       "      <th>2</th>\n",
       "      <td>1.0</td>\n",
       "      <td>1.0</td>\n",
       "      <td>0.000000</td>\n",
       "      <td>1.0</td>\n",
       "      <td>1.0</td>\n",
       "      <td>0.035250</td>\n",
       "      <td>0.000000</td>\n",
       "      <td>0.082489</td>\n",
       "      <td>0.743590</td>\n",
       "      <td>1.0</td>\n",
       "      <td>0.5</td>\n",
       "    </tr>\n",
       "    <tr>\n",
       "      <th>3</th>\n",
       "      <td>1.0</td>\n",
       "      <td>1.0</td>\n",
       "      <td>0.000000</td>\n",
       "      <td>0.0</td>\n",
       "      <td>0.0</td>\n",
       "      <td>0.030093</td>\n",
       "      <td>0.056592</td>\n",
       "      <td>0.160637</td>\n",
       "      <td>0.743590</td>\n",
       "      <td>1.0</td>\n",
       "      <td>0.5</td>\n",
       "    </tr>\n",
       "    <tr>\n",
       "      <th>4</th>\n",
       "      <td>1.0</td>\n",
       "      <td>0.0</td>\n",
       "      <td>0.000000</td>\n",
       "      <td>1.0</td>\n",
       "      <td>0.0</td>\n",
       "      <td>0.072356</td>\n",
       "      <td>0.000000</td>\n",
       "      <td>0.191027</td>\n",
       "      <td>0.743590</td>\n",
       "      <td>1.0</td>\n",
       "      <td>0.5</td>\n",
       "    </tr>\n",
       "    <tr>\n",
       "      <th>...</th>\n",
       "      <td>...</td>\n",
       "      <td>...</td>\n",
       "      <td>...</td>\n",
       "      <td>...</td>\n",
       "      <td>...</td>\n",
       "      <td>...</td>\n",
       "      <td>...</td>\n",
       "      <td>...</td>\n",
       "      <td>...</td>\n",
       "      <td>...</td>\n",
       "      <td>...</td>\n",
       "    </tr>\n",
       "    <tr>\n",
       "      <th>609</th>\n",
       "      <td>0.0</td>\n",
       "      <td>0.0</td>\n",
       "      <td>0.000000</td>\n",
       "      <td>1.0</td>\n",
       "      <td>0.0</td>\n",
       "      <td>0.034014</td>\n",
       "      <td>0.000000</td>\n",
       "      <td>0.089725</td>\n",
       "      <td>0.743590</td>\n",
       "      <td>1.0</td>\n",
       "      <td>1.0</td>\n",
       "    </tr>\n",
       "    <tr>\n",
       "      <th>610</th>\n",
       "      <td>1.0</td>\n",
       "      <td>1.0</td>\n",
       "      <td>1.000000</td>\n",
       "      <td>1.0</td>\n",
       "      <td>0.0</td>\n",
       "      <td>0.048930</td>\n",
       "      <td>0.000000</td>\n",
       "      <td>0.044863</td>\n",
       "      <td>0.358974</td>\n",
       "      <td>1.0</td>\n",
       "      <td>1.0</td>\n",
       "    </tr>\n",
       "    <tr>\n",
       "      <th>611</th>\n",
       "      <td>1.0</td>\n",
       "      <td>1.0</td>\n",
       "      <td>0.333333</td>\n",
       "      <td>1.0</td>\n",
       "      <td>0.0</td>\n",
       "      <td>0.097984</td>\n",
       "      <td>0.005760</td>\n",
       "      <td>0.353111</td>\n",
       "      <td>0.743590</td>\n",
       "      <td>1.0</td>\n",
       "      <td>0.5</td>\n",
       "    </tr>\n",
       "    <tr>\n",
       "      <th>612</th>\n",
       "      <td>1.0</td>\n",
       "      <td>1.0</td>\n",
       "      <td>0.666667</td>\n",
       "      <td>1.0</td>\n",
       "      <td>0.0</td>\n",
       "      <td>0.091936</td>\n",
       "      <td>0.000000</td>\n",
       "      <td>0.257598</td>\n",
       "      <td>0.743590</td>\n",
       "      <td>1.0</td>\n",
       "      <td>0.5</td>\n",
       "    </tr>\n",
       "    <tr>\n",
       "      <th>613</th>\n",
       "      <td>0.0</td>\n",
       "      <td>0.0</td>\n",
       "      <td>0.000000</td>\n",
       "      <td>1.0</td>\n",
       "      <td>1.0</td>\n",
       "      <td>0.054830</td>\n",
       "      <td>0.000000</td>\n",
       "      <td>0.179450</td>\n",
       "      <td>0.743590</td>\n",
       "      <td>0.0</td>\n",
       "      <td>0.0</td>\n",
       "    </tr>\n",
       "  </tbody>\n",
       "</table>\n",
       "<p>614 rows × 11 columns</p>\n",
       "</div>"
      ],
      "text/plain": [
       "      0    1         2    3    4         5         6         7         8   \\\n",
       "0    1.0  0.0  0.000000  1.0  0.0  0.070489  0.000000  0.160637  0.743590   \n",
       "1    1.0  1.0  0.333333  1.0  0.0  0.054830  0.036192  0.172214  0.743590   \n",
       "2    1.0  1.0  0.000000  1.0  1.0  0.035250  0.000000  0.082489  0.743590   \n",
       "3    1.0  1.0  0.000000  0.0  0.0  0.030093  0.056592  0.160637  0.743590   \n",
       "4    1.0  0.0  0.000000  1.0  0.0  0.072356  0.000000  0.191027  0.743590   \n",
       "..   ...  ...       ...  ...  ...       ...       ...       ...       ...   \n",
       "609  0.0  0.0  0.000000  1.0  0.0  0.034014  0.000000  0.089725  0.743590   \n",
       "610  1.0  1.0  1.000000  1.0  0.0  0.048930  0.000000  0.044863  0.358974   \n",
       "611  1.0  1.0  0.333333  1.0  0.0  0.097984  0.005760  0.353111  0.743590   \n",
       "612  1.0  1.0  0.666667  1.0  0.0  0.091936  0.000000  0.257598  0.743590   \n",
       "613  0.0  0.0  0.000000  1.0  1.0  0.054830  0.000000  0.179450  0.743590   \n",
       "\n",
       "      9    10  \n",
       "0    1.0  0.5  \n",
       "1    1.0  1.0  \n",
       "2    1.0  0.5  \n",
       "3    1.0  0.5  \n",
       "4    1.0  0.5  \n",
       "..   ...  ...  \n",
       "609  1.0  1.0  \n",
       "610  1.0  1.0  \n",
       "611  1.0  0.5  \n",
       "612  1.0  0.5  \n",
       "613  0.0  0.0  \n",
       "\n",
       "[614 rows x 11 columns]"
      ]
     },
     "execution_count": 157,
     "metadata": {},
     "output_type": "execute_result"
    }
   ],
   "source": [
    "#normalising and dataframe conversion\n",
    "x_nrom=pd.DataFrame(logi_minmax_scaler.fit_transform(x))\n",
    "x_nrom"
   ]
  },
  {
   "cell_type": "code",
   "execution_count": 158,
   "id": "da47f70e-3c55-45d4-8b3f-99ef809d8b08",
   "metadata": {},
   "outputs": [
    {
     "data": {
      "text/plain": [
       "0      1\n",
       "1      0\n",
       "2      1\n",
       "3      1\n",
       "4      1\n",
       "      ..\n",
       "609    1\n",
       "610    1\n",
       "611    1\n",
       "612    1\n",
       "613    0\n",
       "Name: Loan_Status, Length: 614, dtype: int64"
      ]
     },
     "execution_count": 158,
     "metadata": {},
     "output_type": "execute_result"
    }
   ],
   "source": [
    "y\n",
    "## y is normalised by default \n",
    "## so no need of further normalization"
   ]
  },
  {
   "cell_type": "code",
   "execution_count": 159,
   "id": "2f6053da-2b6e-4015-9a7f-64879f6b9b6a",
   "metadata": {},
   "outputs": [
    {
     "data": {
      "text/html": [
       "<div>\n",
       "<style scoped>\n",
       "    .dataframe tbody tr th:only-of-type {\n",
       "        vertical-align: middle;\n",
       "    }\n",
       "\n",
       "    .dataframe tbody tr th {\n",
       "        vertical-align: top;\n",
       "    }\n",
       "\n",
       "    .dataframe thead th {\n",
       "        text-align: right;\n",
       "    }\n",
       "</style>\n",
       "<table border=\"1\" class=\"dataframe\">\n",
       "  <thead>\n",
       "    <tr style=\"text-align: right;\">\n",
       "      <th></th>\n",
       "      <th>0</th>\n",
       "      <th>1</th>\n",
       "      <th>2</th>\n",
       "      <th>3</th>\n",
       "      <th>4</th>\n",
       "      <th>5</th>\n",
       "      <th>6</th>\n",
       "      <th>7</th>\n",
       "      <th>8</th>\n",
       "      <th>9</th>\n",
       "      <th>10</th>\n",
       "    </tr>\n",
       "  </thead>\n",
       "  <tbody>\n",
       "    <tr>\n",
       "      <th>count</th>\n",
       "      <td>614.000000</td>\n",
       "      <td>614.000000</td>\n",
       "      <td>614.000000</td>\n",
       "      <td>614.000000</td>\n",
       "      <td>614.000000</td>\n",
       "      <td>614.000000</td>\n",
       "      <td>614.000000</td>\n",
       "      <td>614.000000</td>\n",
       "      <td>614.000000</td>\n",
       "      <td>614.000000</td>\n",
       "      <td>614.000000</td>\n",
       "    </tr>\n",
       "    <tr>\n",
       "      <th>mean</th>\n",
       "      <td>0.817590</td>\n",
       "      <td>0.653094</td>\n",
       "      <td>0.248100</td>\n",
       "      <td>0.781759</td>\n",
       "      <td>0.133550</td>\n",
       "      <td>0.064978</td>\n",
       "      <td>0.038910</td>\n",
       "      <td>0.197490</td>\n",
       "      <td>0.706005</td>\n",
       "      <td>0.855049</td>\n",
       "      <td>0.456026</td>\n",
       "    </tr>\n",
       "    <tr>\n",
       "      <th>std</th>\n",
       "      <td>0.386497</td>\n",
       "      <td>0.476373</td>\n",
       "      <td>0.336541</td>\n",
       "      <td>0.413389</td>\n",
       "      <td>0.340446</td>\n",
       "      <td>0.075560</td>\n",
       "      <td>0.070229</td>\n",
       "      <td>0.121825</td>\n",
       "      <td>0.137668</td>\n",
       "      <td>0.352339</td>\n",
       "      <td>0.407540</td>\n",
       "    </tr>\n",
       "    <tr>\n",
       "      <th>min</th>\n",
       "      <td>0.000000</td>\n",
       "      <td>0.000000</td>\n",
       "      <td>0.000000</td>\n",
       "      <td>0.000000</td>\n",
       "      <td>0.000000</td>\n",
       "      <td>0.000000</td>\n",
       "      <td>0.000000</td>\n",
       "      <td>0.000000</td>\n",
       "      <td>0.000000</td>\n",
       "      <td>0.000000</td>\n",
       "      <td>0.000000</td>\n",
       "    </tr>\n",
       "    <tr>\n",
       "      <th>25%</th>\n",
       "      <td>1.000000</td>\n",
       "      <td>0.000000</td>\n",
       "      <td>0.000000</td>\n",
       "      <td>1.000000</td>\n",
       "      <td>0.000000</td>\n",
       "      <td>0.033735</td>\n",
       "      <td>0.000000</td>\n",
       "      <td>0.132055</td>\n",
       "      <td>0.743590</td>\n",
       "      <td>1.000000</td>\n",
       "      <td>0.000000</td>\n",
       "    </tr>\n",
       "    <tr>\n",
       "      <th>50%</th>\n",
       "      <td>1.000000</td>\n",
       "      <td>1.000000</td>\n",
       "      <td>0.000000</td>\n",
       "      <td>1.000000</td>\n",
       "      <td>0.000000</td>\n",
       "      <td>0.045300</td>\n",
       "      <td>0.028524</td>\n",
       "      <td>0.167873</td>\n",
       "      <td>0.743590</td>\n",
       "      <td>1.000000</td>\n",
       "      <td>0.500000</td>\n",
       "    </tr>\n",
       "    <tr>\n",
       "      <th>75%</th>\n",
       "      <td>1.000000</td>\n",
       "      <td>1.000000</td>\n",
       "      <td>0.333333</td>\n",
       "      <td>1.000000</td>\n",
       "      <td>0.000000</td>\n",
       "      <td>0.069821</td>\n",
       "      <td>0.055134</td>\n",
       "      <td>0.225398</td>\n",
       "      <td>0.743590</td>\n",
       "      <td>1.000000</td>\n",
       "      <td>1.000000</td>\n",
       "    </tr>\n",
       "    <tr>\n",
       "      <th>max</th>\n",
       "      <td>1.000000</td>\n",
       "      <td>1.000000</td>\n",
       "      <td>1.000000</td>\n",
       "      <td>1.000000</td>\n",
       "      <td>1.000000</td>\n",
       "      <td>1.000000</td>\n",
       "      <td>1.000000</td>\n",
       "      <td>1.000000</td>\n",
       "      <td>1.000000</td>\n",
       "      <td>1.000000</td>\n",
       "      <td>1.000000</td>\n",
       "    </tr>\n",
       "  </tbody>\n",
       "</table>\n",
       "</div>"
      ],
      "text/plain": [
       "               0           1           2           3           4           5   \\\n",
       "count  614.000000  614.000000  614.000000  614.000000  614.000000  614.000000   \n",
       "mean     0.817590    0.653094    0.248100    0.781759    0.133550    0.064978   \n",
       "std      0.386497    0.476373    0.336541    0.413389    0.340446    0.075560   \n",
       "min      0.000000    0.000000    0.000000    0.000000    0.000000    0.000000   \n",
       "25%      1.000000    0.000000    0.000000    1.000000    0.000000    0.033735   \n",
       "50%      1.000000    1.000000    0.000000    1.000000    0.000000    0.045300   \n",
       "75%      1.000000    1.000000    0.333333    1.000000    0.000000    0.069821   \n",
       "max      1.000000    1.000000    1.000000    1.000000    1.000000    1.000000   \n",
       "\n",
       "               6           7           8           9           10  \n",
       "count  614.000000  614.000000  614.000000  614.000000  614.000000  \n",
       "mean     0.038910    0.197490    0.706005    0.855049    0.456026  \n",
       "std      0.070229    0.121825    0.137668    0.352339    0.407540  \n",
       "min      0.000000    0.000000    0.000000    0.000000    0.000000  \n",
       "25%      0.000000    0.132055    0.743590    1.000000    0.000000  \n",
       "50%      0.028524    0.167873    0.743590    1.000000    0.500000  \n",
       "75%      0.055134    0.225398    0.743590    1.000000    1.000000  \n",
       "max      1.000000    1.000000    1.000000    1.000000    1.000000  "
      ]
     },
     "execution_count": 159,
     "metadata": {},
     "output_type": "execute_result"
    }
   ],
   "source": [
    "#checking for normalization\n",
    "x_nrom.describe()"
   ]
  },
  {
   "cell_type": "code",
   "execution_count": 160,
   "id": "962592e6-eb0c-4e8e-a5a9-bdd427e0881d",
   "metadata": {},
   "outputs": [],
   "source": [
    "#splitting data \n",
    "x_logi_train,x_logi_test,y_logi_train,y_logi_test=train_test_split(x_nrom,y, test_size=0.25,random_state = 38, stratify = y)"
   ]
  },
  {
   "cell_type": "code",
   "execution_count": 161,
   "id": "fcf4ce18-560c-4c9e-940b-e3314f5c3277",
   "metadata": {},
   "outputs": [
    {
     "name": "stdout",
     "output_type": "stream",
     "text": [
      "(460, 11) (154, 11) (460,) (154,)\n"
     ]
    }
   ],
   "source": [
    "print(x_logi_train.shape,x_logi_test.shape,y_logi_train.shape,y_logi_test.shape)"
   ]
  },
  {
   "cell_type": "code",
   "execution_count": 162,
   "id": "16ddca86-e2ed-48bc-8b83-f790612663a9",
   "metadata": {},
   "outputs": [],
   "source": [
    "#creating logistict regression object\n",
    "logiR_norm=LogisticRegression(random_state=0)"
   ]
  },
  {
   "cell_type": "code",
   "execution_count": 163,
   "id": "b83c2608-d0b8-40c1-ac93-d88fe89ec066",
   "metadata": {},
   "outputs": [
    {
     "data": {
      "text/plain": [
       "LogisticRegression(random_state=0)"
      ]
     },
     "execution_count": 163,
     "metadata": {},
     "output_type": "execute_result"
    }
   ],
   "source": [
    "#fitting data to object\n",
    "logiR_norm.fit(x_logi_train,y_logi_train)"
   ]
  },
  {
   "cell_type": "code",
   "execution_count": 164,
   "id": "6cfc4b0c-a8d4-42f4-88a6-df26733d6ce4",
   "metadata": {},
   "outputs": [
    {
     "data": {
      "text/plain": [
       "array([1, 1, 1, 1, 1, 1, 1, 1, 1, 1, 0, 1, 1, 1, 1, 1, 1, 1, 0, 1, 1, 1,\n",
       "       1, 1, 0, 1, 1, 1, 1, 1, 0, 0, 1, 1, 1, 0, 1, 1, 1, 1, 1, 1, 1, 1,\n",
       "       1, 1, 1, 1, 1, 1, 1, 1, 1, 1, 1, 1, 1, 1, 1, 1, 1, 0, 1, 1, 1, 1,\n",
       "       1, 0, 1, 1, 0, 1, 0, 1, 1, 1, 1, 1, 1, 1, 1, 1, 1, 0, 1, 1, 1, 1,\n",
       "       1, 1, 1, 1, 1, 1, 1, 1, 1, 1, 0, 0, 1, 1, 1, 1, 1, 1, 1, 1, 1, 1,\n",
       "       1, 1, 1, 1, 0, 1, 1, 1, 1, 1, 1, 1, 1, 1, 1, 1, 1, 1, 1, 1, 1, 1,\n",
       "       1, 1, 1, 0, 1, 1, 0, 1, 1, 1, 1, 1, 1, 1, 1, 1, 1, 1, 1, 1, 1, 1],\n",
       "      dtype=int64)"
      ]
     },
     "execution_count": 164,
     "metadata": {},
     "output_type": "execute_result"
    }
   ],
   "source": [
    "#making predictions\n",
    "logiR_norm_pre=logiR_norm.predict(x_logi_test)\n",
    "logiR_norm_pre"
   ]
  },
  {
   "cell_type": "code",
   "execution_count": 165,
   "id": "531aa0ae-61b9-42f4-ae46-fbbed93b4899",
   "metadata": {},
   "outputs": [
    {
     "data": {
      "text/plain": [
       "120"
      ]
     },
     "execution_count": 165,
     "metadata": {},
     "output_type": "execute_result"
    }
   ],
   "source": [
    "(logiR_norm_pre==y_logi_test).sum()"
   ]
  },
  {
   "cell_type": "code",
   "execution_count": 166,
   "id": "3ad98d3e-5da9-478e-bc61-3085bebf465d",
   "metadata": {},
   "outputs": [
    {
     "data": {
      "text/plain": [
       "0.7792207792207793"
      ]
     },
     "execution_count": 166,
     "metadata": {},
     "output_type": "execute_result"
    }
   ],
   "source": [
    "logiR_norm.score(x_logi_test,y_logi_test)"
   ]
  },
  {
   "cell_type": "code",
   "execution_count": 167,
   "id": "69752b57-0cdc-4c68-80b7-b4f6b4fb5fff",
   "metadata": {},
   "outputs": [
    {
     "data": {
      "text/plain": [
       "<sklearn.metrics._plot.confusion_matrix.ConfusionMatrixDisplay at 0x20f34381c70>"
      ]
     },
     "execution_count": 167,
     "metadata": {},
     "output_type": "execute_result"
    },
    {
     "data": {
      "image/png": "[encoded data removed]",
      "text/plain": [
       "<Figure size 432x288 with 2 Axes>"
      ]
     },
     "metadata": {
      "needs_background": "light"
     },
     "output_type": "display_data"
    }
   ],
   "source": [
    "#getting confusion matrix\n",
    "ConfusionMatrixDisplay.from_predictions(y_logi_test,logiR_norm_pre)"
   ]
  },
  {
   "cell_type": "code",
   "execution_count": 168,
   "id": "b2945fa5-29a7-4856-82f1-2d0c89bf7267",
   "metadata": {},
   "outputs": [
    {
     "name": "stdout",
     "output_type": "stream",
     "text": [
      "              precision    recall  f1-score   support\n",
      "\n",
      "           0       0.94      0.31      0.47        48\n",
      "           1       0.76      0.99      0.86       106\n",
      "\n",
      "    accuracy                           0.78       154\n",
      "   macro avg       0.85      0.65      0.66       154\n",
      "weighted avg       0.82      0.78      0.74       154\n",
      "\n"
     ]
    }
   ],
   "source": [
    "#getting classification report\n",
    "print(classification_report(y_logi_test,logiR_norm_pre))"
   ]
  },
  {
   "cell_type": "code",
   "execution_count": 169,
   "id": "3df0ced4-789c-496f-b3f5-144272fd1bc4",
   "metadata": {},
   "outputs": [
    {
     "name": "stdout",
     "output_type": "stream",
     "text": [
      "              precision    recall  f1-score   support\n",
      "\n",
      "           0       0.89      0.33      0.48        48\n",
      "           1       0.76      0.98      0.86       106\n",
      "\n",
      "    accuracy                           0.78       154\n",
      "   macro avg       0.83      0.66      0.67       154\n",
      "weighted avg       0.80      0.78      0.74       154\n",
      "\n"
     ]
    }
   ],
   "source": [
    "#getting classification report without normalization\n",
    "print(classification_report(y_test,logi_pred))"
   ]
  },
  {
   "cell_type": "markdown",
   "id": "ac2cff21-6490-491c-b337-3b2a39f0050c",
   "metadata": {},
   "source": [
    "***\n",
    "accuracy scores with normalization = 78%\n",
    "accuracy scores without normalization = 78%\n",
    "hence, accuracy is same with normalization and without normalization\n",
    "but, with normalization precison scores are a bit better\n",
    "***"
   ]
  },
  {
   "cell_type": "markdown",
   "id": "85726a02-a02c-4f12-9b0a-89d52d5557fe",
   "metadata": {},
   "source": [
    "#### Support Vector Machine on 04-10-2022"
   ]
  },
  {
   "cell_type": "code",
   "execution_count": 170,
   "id": "a1b9ca2c-606d-4adb-93d8-3a88e8015bfc",
   "metadata": {},
   "outputs": [],
   "source": [
    "#importing svm\n",
    "from sklearn.svm import SVC"
   ]
  },
  {
   "cell_type": "code",
   "execution_count": 171,
   "id": "d711d601-3076-4416-80a8-37150ad7b55c",
   "metadata": {},
   "outputs": [],
   "source": [
    "#creating objet\n",
    "svm_obj=SVC(random_state=0,verbose=True)"
   ]
  },
  {
   "cell_type": "code",
   "execution_count": 172,
   "id": "7254bb5c-9eff-4798-87ca-1f8212166e25",
   "metadata": {},
   "outputs": [
    {
     "name": "stdout",
     "output_type": "stream",
     "text": [
      "[LibSVM]"
     ]
    },
    {
     "data": {
      "text/plain": [
       "SVC(random_state=0, verbose=True)"
      ]
     },
     "execution_count": 172,
     "metadata": {},
     "output_type": "execute_result"
    }
   ],
   "source": [
    "#fitting dat to svm obj\n",
    "svm_obj.fit(x_logi_train,y_logi_train)"
   ]
  },
  {
   "cell_type": "code",
   "execution_count": 173,
   "id": "ac88b078-32b5-4bd0-ae28-733a595eba9b",
   "metadata": {},
   "outputs": [
    {
     "data": {
      "text/plain": [
       "array([1, 1, 1, 1, 1, 1, 1, 1, 1, 1, 0, 1, 1, 1, 1, 1, 1, 1, 0, 1, 1, 1,\n",
       "       1, 1, 0, 1, 1, 1, 1, 1, 0, 0, 1, 1, 1, 0, 1, 1, 1, 1, 1, 1, 1, 1,\n",
       "       1, 1, 1, 1, 1, 1, 1, 1, 1, 1, 1, 1, 1, 1, 1, 1, 1, 0, 1, 1, 1, 1,\n",
       "       1, 0, 1, 1, 0, 1, 0, 1, 1, 1, 1, 1, 1, 1, 1, 1, 1, 0, 1, 1, 1, 1,\n",
       "       1, 1, 1, 1, 1, 1, 1, 1, 1, 1, 0, 0, 1, 1, 1, 1, 1, 1, 1, 1, 1, 1,\n",
       "       1, 1, 1, 1, 0, 1, 1, 1, 1, 1, 1, 1, 1, 1, 1, 1, 1, 1, 1, 1, 1, 1,\n",
       "       1, 1, 1, 0, 1, 1, 0, 1, 1, 1, 1, 1, 1, 1, 1, 1, 1, 1, 1, 1, 1, 1],\n",
       "      dtype=int64)"
      ]
     },
     "execution_count": 173,
     "metadata": {},
     "output_type": "execute_result"
    }
   ],
   "source": [
    "#testing\n",
    "svm_pred=svm_obj.predict(x_logi_test)\n",
    "svm_pred"
   ]
  },
  {
   "cell_type": "code",
   "execution_count": 174,
   "id": "3e0cd7ad-b3f2-4b4a-9274-64f7417b49a4",
   "metadata": {},
   "outputs": [
    {
     "data": {
      "text/plain": [
       "0.7792207792207793"
      ]
     },
     "execution_count": 174,
     "metadata": {},
     "output_type": "execute_result"
    }
   ],
   "source": [
    "#checking model score (accuracy)\n",
    "svm_obj.score(x_logi_test,y_logi_test)"
   ]
  },
  {
   "cell_type": "code",
   "execution_count": 175,
   "id": "20753d2a-4ac7-4ef7-a13f-ca504bb9b866",
   "metadata": {},
   "outputs": [
    {
     "data": {
      "text/plain": [
       "<sklearn.metrics._plot.confusion_matrix.ConfusionMatrixDisplay at 0x20f30aea700>"
      ]
     },
     "execution_count": 175,
     "metadata": {},
     "output_type": "execute_result"
    },
    {
     "data": {
      "image/png": "[encoded data removed]",
      "text/plain": [
       "<Figure size 432x288 with 2 Axes>"
      ]
     },
     "metadata": {
      "needs_background": "light"
     },
     "output_type": "display_data"
    }
   ],
   "source": [
    "#getting confusion matrix\n",
    "ConfusionMatrixDisplay.from_predictions(y_logi_test,svm_pred)"
   ]
  },
  {
   "cell_type": "code",
   "execution_count": 176,
   "id": "a9d68794-8954-4f35-bc82-c5dc9a9495b8",
   "metadata": {},
   "outputs": [
    {
     "name": "stdout",
     "output_type": "stream",
     "text": [
      "              precision    recall  f1-score   support\n",
      "\n",
      "           0       0.94      0.31      0.47        48\n",
      "           1       0.76      0.99      0.86       106\n",
      "\n",
      "    accuracy                           0.78       154\n",
      "   macro avg       0.85      0.65      0.66       154\n",
      "weighted avg       0.82      0.78      0.74       154\n",
      "\n"
     ]
    }
   ],
   "source": [
    "#getting classification report\n",
    "print(classification_report(y_logi_test,svm_pred))\n",
    "##svm is no better than logistic regression"
   ]
  },
  {
   "cell_type": "markdown",
   "id": "cc9a472e-9c89-49a6-9727-51882879f5e8",
   "metadata": {},
   "source": [
    "##### parameter tuning"
   ]
  },
  {
   "cell_type": "code",
   "execution_count": 177,
   "id": "bca66361-c6f4-4910-be4f-92a9c4c2a9f1",
   "metadata": {},
   "outputs": [],
   "source": [
    "#importing Gridsearch CV\n",
    "from sklearn.model_selection import GridSearchCV"
   ]
  },
  {
   "cell_type": "code",
   "execution_count": 178,
   "id": "c3a232d9-f989-4180-a7ee-21c4fbce8309",
   "metadata": {},
   "outputs": [],
   "source": [
    "#creating Gridsearchcv obj\n",
    "svm_gridSearch=GridSearchCV(svm_obj,\n",
    "                           {'C':np.arange(1,5,1),\n",
    "                           'kernel':('linear', 'rbf'),\n",
    "                           'gamma':['scale', 'auto',1,2,3],\n",
    "                           })"
   ]
  },
  {
   "cell_type": "code",
   "execution_count": 179,
   "id": "7ec178c2-f4a4-4ea6-92ec-de07ed486f0b",
   "metadata": {},
   "outputs": [
    {
     "name": "stdout",
     "output_type": "stream",
     "text": [
      "[LibSVM][LibSVM][LibSVM][LibSVM][LibSVM][LibSVM][LibSVM][LibSVM][LibSVM][LibSVM][LibSVM][LibSVM][LibSVM][LibSVM][LibSVM][LibSVM][LibSVM][LibSVM][LibSVM][LibSVM][LibSVM][LibSVM][LibSVM][LibSVM][LibSVM][LibSVM][LibSVM][LibSVM][LibSVM][LibSVM][LibSVM][LibSVM][LibSVM][LibSVM][LibSVM][LibSVM][LibSVM][LibSVM][LibSVM][LibSVM][LibSVM][LibSVM][LibSVM][LibSVM][LibSVM][LibSVM][LibSVM][LibSVM][LibSVM][LibSVM][LibSVM][LibSVM][LibSVM][LibSVM][LibSVM][LibSVM][LibSVM][LibSVM][LibSVM][LibSVM][LibSVM][LibSVM][LibSVM][LibSVM][LibSVM][LibSVM][LibSVM][LibSVM][LibSVM][LibSVM][LibSVM][LibSVM][LibSVM][LibSVM][LibSVM][LibSVM][LibSVM][LibSVM][LibSVM][LibSVM][LibSVM][LibSVM][LibSVM][LibSVM][LibSVM][LibSVM][LibSVM][LibSVM][LibSVM][LibSVM][LibSVM][LibSVM][LibSVM][LibSVM][LibSVM][LibSVM][LibSVM][LibSVM][LibSVM][LibSVM][LibSVM][LibSVM][LibSVM][LibSVM][LibSVM][LibSVM][LibSVM][LibSVM][LibSVM][LibSVM][LibSVM][LibSVM][LibSVM][LibSVM][LibSVM][LibSVM][LibSVM][LibSVM][LibSVM][LibSVM][LibSVM][LibSVM][LibSVM][LibSVM][LibSVM][LibSVM][LibSVM][LibSVM][LibSVM][LibSVM][LibSVM][LibSVM][LibSVM][LibSVM][LibSVM][LibSVM][LibSVM][LibSVM][LibSVM][LibSVM][LibSVM][LibSVM][LibSVM][LibSVM][LibSVM][LibSVM][LibSVM][LibSVM][LibSVM][LibSVM][LibSVM][LibSVM][LibSVM][LibSVM][LibSVM][LibSVM][LibSVM][LibSVM][LibSVM][LibSVM][LibSVM][LibSVM][LibSVM][LibSVM][LibSVM][LibSVM][LibSVM][LibSVM][LibSVM][LibSVM][LibSVM][LibSVM][LibSVM][LibSVM][LibSVM][LibSVM][LibSVM][LibSVM][LibSVM][LibSVM][LibSVM][LibSVM][LibSVM][LibSVM][LibSVM][LibSVM][LibSVM][LibSVM][LibSVM][LibSVM][LibSVM][LibSVM][LibSVM][LibSVM][LibSVM][LibSVM][LibSVM][LibSVM][LibSVM][LibSVM][LibSVM]"
     ]
    },
    {
     "data": {
      "text/plain": [
       "GridSearchCV(estimator=SVC(random_state=0, verbose=True),\n",
       "             param_grid={'C': array([1, 2, 3, 4]),\n",
       "                         'gamma': ['scale', 'auto', 1, 2, 3],\n",
       "                         'kernel': ('linear', 'rbf')})"
      ]
     },
     "execution_count": 179,
     "metadata": {},
     "output_type": "execute_result"
    }
   ],
   "source": [
    "#fitting data to svm_gridsearch\n",
    "svm_gridSearch.fit(x_logi_train,y_logi_train)"
   ]
  },
  {
   "cell_type": "code",
   "execution_count": 228,
   "id": "77c91885-2267-4203-87ce-f0e424781dbd",
   "metadata": {
    "collapsed": true,
    "jupyter": {
     "outputs_hidden": true
    },
    "tags": []
   },
   "outputs": [
    {
     "data": {
      "text/html": [
       "<div>\n",
       "<style scoped>\n",
       "    .dataframe tbody tr th:only-of-type {\n",
       "        vertical-align: middle;\n",
       "    }\n",
       "\n",
       "    .dataframe tbody tr th {\n",
       "        vertical-align: top;\n",
       "    }\n",
       "\n",
       "    .dataframe thead th {\n",
       "        text-align: right;\n",
       "    }\n",
       "</style>\n",
       "<table border=\"1\" class=\"dataframe\">\n",
       "  <thead>\n",
       "    <tr style=\"text-align: right;\">\n",
       "      <th></th>\n",
       "      <th>mean_fit_time</th>\n",
       "      <th>std_fit_time</th>\n",
       "      <th>mean_score_time</th>\n",
       "      <th>std_score_time</th>\n",
       "      <th>param_C</th>\n",
       "      <th>param_gamma</th>\n",
       "      <th>param_kernel</th>\n",
       "      <th>params</th>\n",
       "      <th>split0_test_score</th>\n",
       "      <th>split1_test_score</th>\n",
       "      <th>split2_test_score</th>\n",
       "      <th>split3_test_score</th>\n",
       "      <th>split4_test_score</th>\n",
       "      <th>mean_test_score</th>\n",
       "      <th>std_test_score</th>\n",
       "      <th>rank_test_score</th>\n",
       "    </tr>\n",
       "  </thead>\n",
       "  <tbody>\n",
       "    <tr>\n",
       "      <th>0</th>\n",
       "      <td>0.006793</td>\n",
       "      <td>0.000709</td>\n",
       "      <td>0.002461</td>\n",
       "      <td>0.000506</td>\n",
       "      <td>1</td>\n",
       "      <td>scale</td>\n",
       "      <td>linear</td>\n",
       "      <td>{'C': 1, 'gamma': 'scale', 'kernel': 'linear'}</td>\n",
       "      <td>0.836957</td>\n",
       "      <td>0.793478</td>\n",
       "      <td>0.836957</td>\n",
       "      <td>0.782609</td>\n",
       "      <td>0.847826</td>\n",
       "      <td>0.819565</td>\n",
       "      <td>0.026267</td>\n",
       "      <td>1</td>\n",
       "    </tr>\n",
       "    <tr>\n",
       "      <th>1</th>\n",
       "      <td>0.010661</td>\n",
       "      <td>0.001021</td>\n",
       "      <td>0.002777</td>\n",
       "      <td>0.001599</td>\n",
       "      <td>1</td>\n",
       "      <td>scale</td>\n",
       "      <td>rbf</td>\n",
       "      <td>{'C': 1, 'gamma': 'scale', 'kernel': 'rbf'}</td>\n",
       "      <td>0.836957</td>\n",
       "      <td>0.793478</td>\n",
       "      <td>0.836957</td>\n",
       "      <td>0.782609</td>\n",
       "      <td>0.847826</td>\n",
       "      <td>0.819565</td>\n",
       "      <td>0.026267</td>\n",
       "      <td>1</td>\n",
       "    </tr>\n",
       "    <tr>\n",
       "      <th>2</th>\n",
       "      <td>0.006304</td>\n",
       "      <td>0.007721</td>\n",
       "      <td>0.000100</td>\n",
       "      <td>0.000201</td>\n",
       "      <td>1</td>\n",
       "      <td>auto</td>\n",
       "      <td>linear</td>\n",
       "      <td>{'C': 1, 'gamma': 'auto', 'kernel': 'linear'}</td>\n",
       "      <td>0.836957</td>\n",
       "      <td>0.793478</td>\n",
       "      <td>0.836957</td>\n",
       "      <td>0.782609</td>\n",
       "      <td>0.847826</td>\n",
       "      <td>0.819565</td>\n",
       "      <td>0.026267</td>\n",
       "      <td>1</td>\n",
       "    </tr>\n",
       "    <tr>\n",
       "      <th>3</th>\n",
       "      <td>0.008832</td>\n",
       "      <td>0.007382</td>\n",
       "      <td>0.004865</td>\n",
       "      <td>0.007119</td>\n",
       "      <td>1</td>\n",
       "      <td>auto</td>\n",
       "      <td>rbf</td>\n",
       "      <td>{'C': 1, 'gamma': 'auto', 'kernel': 'rbf'}</td>\n",
       "      <td>0.836957</td>\n",
       "      <td>0.793478</td>\n",
       "      <td>0.836957</td>\n",
       "      <td>0.782609</td>\n",
       "      <td>0.847826</td>\n",
       "      <td>0.819565</td>\n",
       "      <td>0.026267</td>\n",
       "      <td>1</td>\n",
       "    </tr>\n",
       "    <tr>\n",
       "      <th>4</th>\n",
       "      <td>0.008767</td>\n",
       "      <td>0.005659</td>\n",
       "      <td>0.003862</td>\n",
       "      <td>0.005876</td>\n",
       "      <td>1</td>\n",
       "      <td>1</td>\n",
       "      <td>linear</td>\n",
       "      <td>{'C': 1, 'gamma': 1, 'kernel': 'linear'}</td>\n",
       "      <td>0.836957</td>\n",
       "      <td>0.793478</td>\n",
       "      <td>0.836957</td>\n",
       "      <td>0.782609</td>\n",
       "      <td>0.847826</td>\n",
       "      <td>0.819565</td>\n",
       "      <td>0.026267</td>\n",
       "      <td>1</td>\n",
       "    </tr>\n",
       "    <tr>\n",
       "      <th>5</th>\n",
       "      <td>0.005069</td>\n",
       "      <td>0.004296</td>\n",
       "      <td>0.007951</td>\n",
       "      <td>0.007412</td>\n",
       "      <td>1</td>\n",
       "      <td>1</td>\n",
       "      <td>rbf</td>\n",
       "      <td>{'C': 1, 'gamma': 1, 'kernel': 'rbf'}</td>\n",
       "      <td>0.826087</td>\n",
       "      <td>0.793478</td>\n",
       "      <td>0.826087</td>\n",
       "      <td>0.782609</td>\n",
       "      <td>0.847826</td>\n",
       "      <td>0.815217</td>\n",
       "      <td>0.023814</td>\n",
       "      <td>28</td>\n",
       "    </tr>\n",
       "    <tr>\n",
       "      <th>6</th>\n",
       "      <td>0.000000</td>\n",
       "      <td>0.000000</td>\n",
       "      <td>0.006251</td>\n",
       "      <td>0.007656</td>\n",
       "      <td>1</td>\n",
       "      <td>2</td>\n",
       "      <td>linear</td>\n",
       "      <td>{'C': 1, 'gamma': 2, 'kernel': 'linear'}</td>\n",
       "      <td>0.836957</td>\n",
       "      <td>0.793478</td>\n",
       "      <td>0.836957</td>\n",
       "      <td>0.782609</td>\n",
       "      <td>0.847826</td>\n",
       "      <td>0.819565</td>\n",
       "      <td>0.026267</td>\n",
       "      <td>1</td>\n",
       "    </tr>\n",
       "    <tr>\n",
       "      <th>7</th>\n",
       "      <td>0.007942</td>\n",
       "      <td>0.004128</td>\n",
       "      <td>0.002439</td>\n",
       "      <td>0.001343</td>\n",
       "      <td>1</td>\n",
       "      <td>2</td>\n",
       "      <td>rbf</td>\n",
       "      <td>{'C': 1, 'gamma': 2, 'kernel': 'rbf'}</td>\n",
       "      <td>0.793478</td>\n",
       "      <td>0.782609</td>\n",
       "      <td>0.826087</td>\n",
       "      <td>0.771739</td>\n",
       "      <td>0.847826</td>\n",
       "      <td>0.804348</td>\n",
       "      <td>0.028344</td>\n",
       "      <td>31</td>\n",
       "    </tr>\n",
       "    <tr>\n",
       "      <th>8</th>\n",
       "      <td>0.006257</td>\n",
       "      <td>0.007664</td>\n",
       "      <td>0.003119</td>\n",
       "      <td>0.006238</td>\n",
       "      <td>1</td>\n",
       "      <td>3</td>\n",
       "      <td>linear</td>\n",
       "      <td>{'C': 1, 'gamma': 3, 'kernel': 'linear'}</td>\n",
       "      <td>0.836957</td>\n",
       "      <td>0.793478</td>\n",
       "      <td>0.836957</td>\n",
       "      <td>0.782609</td>\n",
       "      <td>0.847826</td>\n",
       "      <td>0.819565</td>\n",
       "      <td>0.026267</td>\n",
       "      <td>1</td>\n",
       "    </tr>\n",
       "    <tr>\n",
       "      <th>9</th>\n",
       "      <td>0.010060</td>\n",
       "      <td>0.007799</td>\n",
       "      <td>0.000589</td>\n",
       "      <td>0.001179</td>\n",
       "      <td>1</td>\n",
       "      <td>3</td>\n",
       "      <td>rbf</td>\n",
       "      <td>{'C': 1, 'gamma': 3, 'kernel': 'rbf'}</td>\n",
       "      <td>0.760870</td>\n",
       "      <td>0.782609</td>\n",
       "      <td>0.804348</td>\n",
       "      <td>0.760870</td>\n",
       "      <td>0.836957</td>\n",
       "      <td>0.789130</td>\n",
       "      <td>0.028840</td>\n",
       "      <td>35</td>\n",
       "    </tr>\n",
       "    <tr>\n",
       "      <th>10</th>\n",
       "      <td>0.006343</td>\n",
       "      <td>0.007770</td>\n",
       "      <td>0.000000</td>\n",
       "      <td>0.000000</td>\n",
       "      <td>2</td>\n",
       "      <td>scale</td>\n",
       "      <td>linear</td>\n",
       "      <td>{'C': 2, 'gamma': 'scale', 'kernel': 'linear'}</td>\n",
       "      <td>0.836957</td>\n",
       "      <td>0.793478</td>\n",
       "      <td>0.836957</td>\n",
       "      <td>0.782609</td>\n",
       "      <td>0.847826</td>\n",
       "      <td>0.819565</td>\n",
       "      <td>0.026267</td>\n",
       "      <td>1</td>\n",
       "    </tr>\n",
       "    <tr>\n",
       "      <th>11</th>\n",
       "      <td>0.013761</td>\n",
       "      <td>0.006291</td>\n",
       "      <td>0.002398</td>\n",
       "      <td>0.001355</td>\n",
       "      <td>2</td>\n",
       "      <td>scale</td>\n",
       "      <td>rbf</td>\n",
       "      <td>{'C': 2, 'gamma': 'scale', 'kernel': 'rbf'}</td>\n",
       "      <td>0.836957</td>\n",
       "      <td>0.793478</td>\n",
       "      <td>0.836957</td>\n",
       "      <td>0.782609</td>\n",
       "      <td>0.847826</td>\n",
       "      <td>0.819565</td>\n",
       "      <td>0.026267</td>\n",
       "      <td>1</td>\n",
       "    </tr>\n",
       "    <tr>\n",
       "      <th>12</th>\n",
       "      <td>0.006926</td>\n",
       "      <td>0.007211</td>\n",
       "      <td>0.000000</td>\n",
       "      <td>0.000000</td>\n",
       "      <td>2</td>\n",
       "      <td>auto</td>\n",
       "      <td>linear</td>\n",
       "      <td>{'C': 2, 'gamma': 'auto', 'kernel': 'linear'}</td>\n",
       "      <td>0.836957</td>\n",
       "      <td>0.793478</td>\n",
       "      <td>0.836957</td>\n",
       "      <td>0.782609</td>\n",
       "      <td>0.847826</td>\n",
       "      <td>0.819565</td>\n",
       "      <td>0.026267</td>\n",
       "      <td>1</td>\n",
       "    </tr>\n",
       "    <tr>\n",
       "      <th>13</th>\n",
       "      <td>0.009379</td>\n",
       "      <td>0.007658</td>\n",
       "      <td>0.000000</td>\n",
       "      <td>0.000000</td>\n",
       "      <td>2</td>\n",
       "      <td>auto</td>\n",
       "      <td>rbf</td>\n",
       "      <td>{'C': 2, 'gamma': 'auto', 'kernel': 'rbf'}</td>\n",
       "      <td>0.836957</td>\n",
       "      <td>0.793478</td>\n",
       "      <td>0.836957</td>\n",
       "      <td>0.782609</td>\n",
       "      <td>0.847826</td>\n",
       "      <td>0.819565</td>\n",
       "      <td>0.026267</td>\n",
       "      <td>1</td>\n",
       "    </tr>\n",
       "    <tr>\n",
       "      <th>14</th>\n",
       "      <td>0.003121</td>\n",
       "      <td>0.006241</td>\n",
       "      <td>0.003126</td>\n",
       "      <td>0.006251</td>\n",
       "      <td>2</td>\n",
       "      <td>1</td>\n",
       "      <td>linear</td>\n",
       "      <td>{'C': 2, 'gamma': 1, 'kernel': 'linear'}</td>\n",
       "      <td>0.836957</td>\n",
       "      <td>0.793478</td>\n",
       "      <td>0.836957</td>\n",
       "      <td>0.782609</td>\n",
       "      <td>0.847826</td>\n",
       "      <td>0.819565</td>\n",
       "      <td>0.026267</td>\n",
       "      <td>1</td>\n",
       "    </tr>\n",
       "    <tr>\n",
       "      <th>15</th>\n",
       "      <td>0.011497</td>\n",
       "      <td>0.002513</td>\n",
       "      <td>0.002202</td>\n",
       "      <td>0.001163</td>\n",
       "      <td>2</td>\n",
       "      <td>1</td>\n",
       "      <td>rbf</td>\n",
       "      <td>{'C': 2, 'gamma': 1, 'kernel': 'rbf'}</td>\n",
       "      <td>0.793478</td>\n",
       "      <td>0.793478</td>\n",
       "      <td>0.826087</td>\n",
       "      <td>0.771739</td>\n",
       "      <td>0.847826</td>\n",
       "      <td>0.806522</td>\n",
       "      <td>0.026978</td>\n",
       "      <td>30</td>\n",
       "    </tr>\n",
       "    <tr>\n",
       "      <th>16</th>\n",
       "      <td>0.003968</td>\n",
       "      <td>0.006056</td>\n",
       "      <td>0.003124</td>\n",
       "      <td>0.006248</td>\n",
       "      <td>2</td>\n",
       "      <td>2</td>\n",
       "      <td>linear</td>\n",
       "      <td>{'C': 2, 'gamma': 2, 'kernel': 'linear'}</td>\n",
       "      <td>0.836957</td>\n",
       "      <td>0.793478</td>\n",
       "      <td>0.836957</td>\n",
       "      <td>0.782609</td>\n",
       "      <td>0.847826</td>\n",
       "      <td>0.819565</td>\n",
       "      <td>0.026267</td>\n",
       "      <td>1</td>\n",
       "    </tr>\n",
       "    <tr>\n",
       "      <th>17</th>\n",
       "      <td>0.012016</td>\n",
       "      <td>0.006396</td>\n",
       "      <td>0.001396</td>\n",
       "      <td>0.001740</td>\n",
       "      <td>2</td>\n",
       "      <td>2</td>\n",
       "      <td>rbf</td>\n",
       "      <td>{'C': 2, 'gamma': 2, 'kernel': 'rbf'}</td>\n",
       "      <td>0.771739</td>\n",
       "      <td>0.793478</td>\n",
       "      <td>0.815217</td>\n",
       "      <td>0.760870</td>\n",
       "      <td>0.836957</td>\n",
       "      <td>0.795652</td>\n",
       "      <td>0.027840</td>\n",
       "      <td>33</td>\n",
       "    </tr>\n",
       "    <tr>\n",
       "      <th>18</th>\n",
       "      <td>0.007014</td>\n",
       "      <td>0.006735</td>\n",
       "      <td>0.000996</td>\n",
       "      <td>0.000890</td>\n",
       "      <td>2</td>\n",
       "      <td>3</td>\n",
       "      <td>linear</td>\n",
       "      <td>{'C': 2, 'gamma': 3, 'kernel': 'linear'}</td>\n",
       "      <td>0.836957</td>\n",
       "      <td>0.793478</td>\n",
       "      <td>0.836957</td>\n",
       "      <td>0.782609</td>\n",
       "      <td>0.847826</td>\n",
       "      <td>0.819565</td>\n",
       "      <td>0.026267</td>\n",
       "      <td>1</td>\n",
       "    </tr>\n",
       "    <tr>\n",
       "      <th>19</th>\n",
       "      <td>0.009669</td>\n",
       "      <td>0.001198</td>\n",
       "      <td>0.003669</td>\n",
       "      <td>0.000557</td>\n",
       "      <td>2</td>\n",
       "      <td>3</td>\n",
       "      <td>rbf</td>\n",
       "      <td>{'C': 2, 'gamma': 3, 'kernel': 'rbf'}</td>\n",
       "      <td>0.760870</td>\n",
       "      <td>0.760870</td>\n",
       "      <td>0.804348</td>\n",
       "      <td>0.750000</td>\n",
       "      <td>0.815217</td>\n",
       "      <td>0.778261</td>\n",
       "      <td>0.026267</td>\n",
       "      <td>37</td>\n",
       "    </tr>\n",
       "    <tr>\n",
       "      <th>20</th>\n",
       "      <td>0.005842</td>\n",
       "      <td>0.000426</td>\n",
       "      <td>0.002004</td>\n",
       "      <td>0.000003</td>\n",
       "      <td>3</td>\n",
       "      <td>scale</td>\n",
       "      <td>linear</td>\n",
       "      <td>{'C': 3, 'gamma': 'scale', 'kernel': 'linear'}</td>\n",
       "      <td>0.836957</td>\n",
       "      <td>0.793478</td>\n",
       "      <td>0.836957</td>\n",
       "      <td>0.782609</td>\n",
       "      <td>0.847826</td>\n",
       "      <td>0.819565</td>\n",
       "      <td>0.026267</td>\n",
       "      <td>1</td>\n",
       "    </tr>\n",
       "    <tr>\n",
       "      <th>21</th>\n",
       "      <td>0.011036</td>\n",
       "      <td>0.001382</td>\n",
       "      <td>0.002807</td>\n",
       "      <td>0.000403</td>\n",
       "      <td>3</td>\n",
       "      <td>scale</td>\n",
       "      <td>rbf</td>\n",
       "      <td>{'C': 3, 'gamma': 'scale', 'kernel': 'rbf'}</td>\n",
       "      <td>0.836957</td>\n",
       "      <td>0.793478</td>\n",
       "      <td>0.826087</td>\n",
       "      <td>0.782609</td>\n",
       "      <td>0.847826</td>\n",
       "      <td>0.817391</td>\n",
       "      <td>0.025165</td>\n",
       "      <td>27</td>\n",
       "    </tr>\n",
       "    <tr>\n",
       "      <th>22</th>\n",
       "      <td>0.007586</td>\n",
       "      <td>0.001368</td>\n",
       "      <td>0.002405</td>\n",
       "      <td>0.000485</td>\n",
       "      <td>3</td>\n",
       "      <td>auto</td>\n",
       "      <td>linear</td>\n",
       "      <td>{'C': 3, 'gamma': 'auto', 'kernel': 'linear'}</td>\n",
       "      <td>0.836957</td>\n",
       "      <td>0.793478</td>\n",
       "      <td>0.836957</td>\n",
       "      <td>0.782609</td>\n",
       "      <td>0.847826</td>\n",
       "      <td>0.819565</td>\n",
       "      <td>0.026267</td>\n",
       "      <td>1</td>\n",
       "    </tr>\n",
       "    <tr>\n",
       "      <th>23</th>\n",
       "      <td>0.012564</td>\n",
       "      <td>0.001403</td>\n",
       "      <td>0.003287</td>\n",
       "      <td>0.000377</td>\n",
       "      <td>3</td>\n",
       "      <td>auto</td>\n",
       "      <td>rbf</td>\n",
       "      <td>{'C': 3, 'gamma': 'auto', 'kernel': 'rbf'}</td>\n",
       "      <td>0.836957</td>\n",
       "      <td>0.793478</td>\n",
       "      <td>0.836957</td>\n",
       "      <td>0.782609</td>\n",
       "      <td>0.847826</td>\n",
       "      <td>0.819565</td>\n",
       "      <td>0.026267</td>\n",
       "      <td>1</td>\n",
       "    </tr>\n",
       "    <tr>\n",
       "      <th>24</th>\n",
       "      <td>0.006227</td>\n",
       "      <td>0.001016</td>\n",
       "      <td>0.001801</td>\n",
       "      <td>0.000400</td>\n",
       "      <td>3</td>\n",
       "      <td>1</td>\n",
       "      <td>linear</td>\n",
       "      <td>{'C': 3, 'gamma': 1, 'kernel': 'linear'}</td>\n",
       "      <td>0.836957</td>\n",
       "      <td>0.793478</td>\n",
       "      <td>0.836957</td>\n",
       "      <td>0.782609</td>\n",
       "      <td>0.847826</td>\n",
       "      <td>0.819565</td>\n",
       "      <td>0.026267</td>\n",
       "      <td>1</td>\n",
       "    </tr>\n",
       "    <tr>\n",
       "      <th>25</th>\n",
       "      <td>0.010345</td>\n",
       "      <td>0.001090</td>\n",
       "      <td>0.003198</td>\n",
       "      <td>0.000391</td>\n",
       "      <td>3</td>\n",
       "      <td>1</td>\n",
       "      <td>rbf</td>\n",
       "      <td>{'C': 3, 'gamma': 1, 'kernel': 'rbf'}</td>\n",
       "      <td>0.771739</td>\n",
       "      <td>0.793478</td>\n",
       "      <td>0.826087</td>\n",
       "      <td>0.771739</td>\n",
       "      <td>0.847826</td>\n",
       "      <td>0.802174</td>\n",
       "      <td>0.030279</td>\n",
       "      <td>32</td>\n",
       "    </tr>\n",
       "    <tr>\n",
       "      <th>26</th>\n",
       "      <td>0.006391</td>\n",
       "      <td>0.002051</td>\n",
       "      <td>0.002011</td>\n",
       "      <td>0.000008</td>\n",
       "      <td>3</td>\n",
       "      <td>2</td>\n",
       "      <td>linear</td>\n",
       "      <td>{'C': 3, 'gamma': 2, 'kernel': 'linear'}</td>\n",
       "      <td>0.836957</td>\n",
       "      <td>0.793478</td>\n",
       "      <td>0.836957</td>\n",
       "      <td>0.782609</td>\n",
       "      <td>0.847826</td>\n",
       "      <td>0.819565</td>\n",
       "      <td>0.026267</td>\n",
       "      <td>1</td>\n",
       "    </tr>\n",
       "    <tr>\n",
       "      <th>27</th>\n",
       "      <td>0.008799</td>\n",
       "      <td>0.000728</td>\n",
       "      <td>0.003607</td>\n",
       "      <td>0.000504</td>\n",
       "      <td>3</td>\n",
       "      <td>2</td>\n",
       "      <td>rbf</td>\n",
       "      <td>{'C': 3, 'gamma': 2, 'kernel': 'rbf'}</td>\n",
       "      <td>0.750000</td>\n",
       "      <td>0.771739</td>\n",
       "      <td>0.815217</td>\n",
       "      <td>0.760870</td>\n",
       "      <td>0.804348</td>\n",
       "      <td>0.780435</td>\n",
       "      <td>0.025165</td>\n",
       "      <td>36</td>\n",
       "    </tr>\n",
       "    <tr>\n",
       "      <th>28</th>\n",
       "      <td>0.005001</td>\n",
       "      <td>0.000634</td>\n",
       "      <td>0.001958</td>\n",
       "      <td>0.000079</td>\n",
       "      <td>3</td>\n",
       "      <td>3</td>\n",
       "      <td>linear</td>\n",
       "      <td>{'C': 3, 'gamma': 3, 'kernel': 'linear'}</td>\n",
       "      <td>0.836957</td>\n",
       "      <td>0.793478</td>\n",
       "      <td>0.836957</td>\n",
       "      <td>0.782609</td>\n",
       "      <td>0.847826</td>\n",
       "      <td>0.819565</td>\n",
       "      <td>0.026267</td>\n",
       "      <td>1</td>\n",
       "    </tr>\n",
       "    <tr>\n",
       "      <th>29</th>\n",
       "      <td>0.007251</td>\n",
       "      <td>0.006284</td>\n",
       "      <td>0.004524</td>\n",
       "      <td>0.005775</td>\n",
       "      <td>3</td>\n",
       "      <td>3</td>\n",
       "      <td>rbf</td>\n",
       "      <td>{'C': 3, 'gamma': 3, 'kernel': 'rbf'}</td>\n",
       "      <td>0.739130</td>\n",
       "      <td>0.750000</td>\n",
       "      <td>0.793478</td>\n",
       "      <td>0.750000</td>\n",
       "      <td>0.804348</td>\n",
       "      <td>0.767391</td>\n",
       "      <td>0.026267</td>\n",
       "      <td>39</td>\n",
       "    </tr>\n",
       "    <tr>\n",
       "      <th>30</th>\n",
       "      <td>0.006444</td>\n",
       "      <td>0.001358</td>\n",
       "      <td>0.001587</td>\n",
       "      <td>0.000794</td>\n",
       "      <td>4</td>\n",
       "      <td>scale</td>\n",
       "      <td>linear</td>\n",
       "      <td>{'C': 4, 'gamma': 'scale', 'kernel': 'linear'}</td>\n",
       "      <td>0.836957</td>\n",
       "      <td>0.793478</td>\n",
       "      <td>0.836957</td>\n",
       "      <td>0.782609</td>\n",
       "      <td>0.847826</td>\n",
       "      <td>0.819565</td>\n",
       "      <td>0.026267</td>\n",
       "      <td>1</td>\n",
       "    </tr>\n",
       "    <tr>\n",
       "      <th>31</th>\n",
       "      <td>0.012510</td>\n",
       "      <td>0.006255</td>\n",
       "      <td>0.000000</td>\n",
       "      <td>0.000000</td>\n",
       "      <td>4</td>\n",
       "      <td>scale</td>\n",
       "      <td>rbf</td>\n",
       "      <td>{'C': 4, 'gamma': 'scale', 'kernel': 'rbf'}</td>\n",
       "      <td>0.804348</td>\n",
       "      <td>0.793478</td>\n",
       "      <td>0.826087</td>\n",
       "      <td>0.782609</td>\n",
       "      <td>0.847826</td>\n",
       "      <td>0.810870</td>\n",
       "      <td>0.023414</td>\n",
       "      <td>29</td>\n",
       "    </tr>\n",
       "    <tr>\n",
       "      <th>32</th>\n",
       "      <td>0.003116</td>\n",
       "      <td>0.006232</td>\n",
       "      <td>0.003126</td>\n",
       "      <td>0.006251</td>\n",
       "      <td>4</td>\n",
       "      <td>auto</td>\n",
       "      <td>linear</td>\n",
       "      <td>{'C': 4, 'gamma': 'auto', 'kernel': 'linear'}</td>\n",
       "      <td>0.836957</td>\n",
       "      <td>0.793478</td>\n",
       "      <td>0.836957</td>\n",
       "      <td>0.782609</td>\n",
       "      <td>0.847826</td>\n",
       "      <td>0.819565</td>\n",
       "      <td>0.026267</td>\n",
       "      <td>1</td>\n",
       "    </tr>\n",
       "    <tr>\n",
       "      <th>33</th>\n",
       "      <td>0.014955</td>\n",
       "      <td>0.000994</td>\n",
       "      <td>0.001793</td>\n",
       "      <td>0.001592</td>\n",
       "      <td>4</td>\n",
       "      <td>auto</td>\n",
       "      <td>rbf</td>\n",
       "      <td>{'C': 4, 'gamma': 'auto', 'kernel': 'rbf'}</td>\n",
       "      <td>0.836957</td>\n",
       "      <td>0.793478</td>\n",
       "      <td>0.836957</td>\n",
       "      <td>0.782609</td>\n",
       "      <td>0.847826</td>\n",
       "      <td>0.819565</td>\n",
       "      <td>0.026267</td>\n",
       "      <td>1</td>\n",
       "    </tr>\n",
       "    <tr>\n",
       "      <th>34</th>\n",
       "      <td>0.006065</td>\n",
       "      <td>0.005293</td>\n",
       "      <td>0.000790</td>\n",
       "      <td>0.000967</td>\n",
       "      <td>4</td>\n",
       "      <td>1</td>\n",
       "      <td>linear</td>\n",
       "      <td>{'C': 4, 'gamma': 1, 'kernel': 'linear'}</td>\n",
       "      <td>0.836957</td>\n",
       "      <td>0.793478</td>\n",
       "      <td>0.836957</td>\n",
       "      <td>0.782609</td>\n",
       "      <td>0.847826</td>\n",
       "      <td>0.819565</td>\n",
       "      <td>0.026267</td>\n",
       "      <td>1</td>\n",
       "    </tr>\n",
       "    <tr>\n",
       "      <th>35</th>\n",
       "      <td>0.003125</td>\n",
       "      <td>0.006250</td>\n",
       "      <td>0.006282</td>\n",
       "      <td>0.007694</td>\n",
       "      <td>4</td>\n",
       "      <td>1</td>\n",
       "      <td>rbf</td>\n",
       "      <td>{'C': 4, 'gamma': 1, 'kernel': 'rbf'}</td>\n",
       "      <td>0.760870</td>\n",
       "      <td>0.793478</td>\n",
       "      <td>0.826087</td>\n",
       "      <td>0.760870</td>\n",
       "      <td>0.836957</td>\n",
       "      <td>0.795652</td>\n",
       "      <td>0.031802</td>\n",
       "      <td>33</td>\n",
       "    </tr>\n",
       "    <tr>\n",
       "      <th>36</th>\n",
       "      <td>0.009381</td>\n",
       "      <td>0.007660</td>\n",
       "      <td>0.000000</td>\n",
       "      <td>0.000000</td>\n",
       "      <td>4</td>\n",
       "      <td>2</td>\n",
       "      <td>linear</td>\n",
       "      <td>{'C': 4, 'gamma': 2, 'kernel': 'linear'}</td>\n",
       "      <td>0.836957</td>\n",
       "      <td>0.793478</td>\n",
       "      <td>0.836957</td>\n",
       "      <td>0.782609</td>\n",
       "      <td>0.847826</td>\n",
       "      <td>0.819565</td>\n",
       "      <td>0.026267</td>\n",
       "      <td>1</td>\n",
       "    </tr>\n",
       "    <tr>\n",
       "      <th>37</th>\n",
       "      <td>0.009303</td>\n",
       "      <td>0.007093</td>\n",
       "      <td>0.002960</td>\n",
       "      <td>0.001649</td>\n",
       "      <td>4</td>\n",
       "      <td>2</td>\n",
       "      <td>rbf</td>\n",
       "      <td>{'C': 4, 'gamma': 2, 'kernel': 'rbf'}</td>\n",
       "      <td>0.728261</td>\n",
       "      <td>0.771739</td>\n",
       "      <td>0.804348</td>\n",
       "      <td>0.760870</td>\n",
       "      <td>0.804348</td>\n",
       "      <td>0.773913</td>\n",
       "      <td>0.028676</td>\n",
       "      <td>38</td>\n",
       "    </tr>\n",
       "    <tr>\n",
       "      <th>38</th>\n",
       "      <td>0.004771</td>\n",
       "      <td>0.005854</td>\n",
       "      <td>0.000256</td>\n",
       "      <td>0.000391</td>\n",
       "      <td>4</td>\n",
       "      <td>3</td>\n",
       "      <td>linear</td>\n",
       "      <td>{'C': 4, 'gamma': 3, 'kernel': 'linear'}</td>\n",
       "      <td>0.836957</td>\n",
       "      <td>0.793478</td>\n",
       "      <td>0.836957</td>\n",
       "      <td>0.782609</td>\n",
       "      <td>0.847826</td>\n",
       "      <td>0.819565</td>\n",
       "      <td>0.026267</td>\n",
       "      <td>1</td>\n",
       "    </tr>\n",
       "    <tr>\n",
       "      <th>39</th>\n",
       "      <td>0.009525</td>\n",
       "      <td>0.007781</td>\n",
       "      <td>0.003125</td>\n",
       "      <td>0.006251</td>\n",
       "      <td>4</td>\n",
       "      <td>3</td>\n",
       "      <td>rbf</td>\n",
       "      <td>{'C': 4, 'gamma': 3, 'kernel': 'rbf'}</td>\n",
       "      <td>0.739130</td>\n",
       "      <td>0.760870</td>\n",
       "      <td>0.782609</td>\n",
       "      <td>0.717391</td>\n",
       "      <td>0.804348</td>\n",
       "      <td>0.760870</td>\n",
       "      <td>0.030744</td>\n",
       "      <td>40</td>\n",
       "    </tr>\n",
       "  </tbody>\n",
       "</table>\n",
       "</div>"
      ],
      "text/plain": [
       "    mean_fit_time  std_fit_time  mean_score_time  std_score_time param_C  \\\n",
       "0        0.006793      0.000709         0.002461        0.000506       1   \n",
       "1        0.010661      0.001021         0.002777        0.001599       1   \n",
       "2        0.006304      0.007721         0.000100        0.000201       1   \n",
       "3        0.008832      0.007382         0.004865        0.007119       1   \n",
       "4        0.008767      0.005659         0.003862        0.005876       1   \n",
       "5        0.005069      0.004296         0.007951        0.007412       1   \n",
       "6        0.000000      0.000000         0.006251        0.007656       1   \n",
       "7        0.007942      0.004128         0.002439        0.001343       1   \n",
       "8        0.006257      0.007664         0.003119        0.006238       1   \n",
       "9        0.010060      0.007799         0.000589        0.001179       1   \n",
       "10       0.006343      0.007770         0.000000        0.000000       2   \n",
       "11       0.013761      0.006291         0.002398        0.001355       2   \n",
       "12       0.006926      0.007211         0.000000        0.000000       2   \n",
       "13       0.009379      0.007658         0.000000        0.000000       2   \n",
       "14       0.003121      0.006241         0.003126        0.006251       2   \n",
       "15       0.011497      0.002513         0.002202        0.001163       2   \n",
       "16       0.003968      0.006056         0.003124        0.006248       2   \n",
       "17       0.012016      0.006396         0.001396        0.001740       2   \n",
       "18       0.007014      0.006735         0.000996        0.000890       2   \n",
       "19       0.009669      0.001198         0.003669        0.000557       2   \n",
       "20       0.005842      0.000426         0.002004        0.000003       3   \n",
       "21       0.011036      0.001382         0.002807        0.000403       3   \n",
       "22       0.007586      0.001368         0.002405        0.000485       3   \n",
       "23       0.012564      0.001403         0.003287        0.000377       3   \n",
       "24       0.006227      0.001016         0.001801        0.000400       3   \n",
       "25       0.010345      0.001090         0.003198        0.000391       3   \n",
       "26       0.006391      0.002051         0.002011        0.000008       3   \n",
       "27       0.008799      0.000728         0.003607        0.000504       3   \n",
       "28       0.005001      0.000634         0.001958        0.000079       3   \n",
       "29       0.007251      0.006284         0.004524        0.005775       3   \n",
       "30       0.006444      0.001358         0.001587        0.000794       4   \n",
       "31       0.012510      0.006255         0.000000        0.000000       4   \n",
       "32       0.003116      0.006232         0.003126        0.006251       4   \n",
       "33       0.014955      0.000994         0.001793        0.001592       4   \n",
       "34       0.006065      0.005293         0.000790        0.000967       4   \n",
       "35       0.003125      0.006250         0.006282        0.007694       4   \n",
       "36       0.009381      0.007660         0.000000        0.000000       4   \n",
       "37       0.009303      0.007093         0.002960        0.001649       4   \n",
       "38       0.004771      0.005854         0.000256        0.000391       4   \n",
       "39       0.009525      0.007781         0.003125        0.006251       4   \n",
       "\n",
       "   param_gamma param_kernel                                          params  \\\n",
       "0        scale       linear  {'C': 1, 'gamma': 'scale', 'kernel': 'linear'}   \n",
       "1        scale          rbf     {'C': 1, 'gamma': 'scale', 'kernel': 'rbf'}   \n",
       "2         auto       linear   {'C': 1, 'gamma': 'auto', 'kernel': 'linear'}   \n",
       "3         auto          rbf      {'C': 1, 'gamma': 'auto', 'kernel': 'rbf'}   \n",
       "4            1       linear        {'C': 1, 'gamma': 1, 'kernel': 'linear'}   \n",
       "5            1          rbf           {'C': 1, 'gamma': 1, 'kernel': 'rbf'}   \n",
       "6            2       linear        {'C': 1, 'gamma': 2, 'kernel': 'linear'}   \n",
       "7            2          rbf           {'C': 1, 'gamma': 2, 'kernel': 'rbf'}   \n",
       "8            3       linear        {'C': 1, 'gamma': 3, 'kernel': 'linear'}   \n",
       "9            3          rbf           {'C': 1, 'gamma': 3, 'kernel': 'rbf'}   \n",
       "10       scale       linear  {'C': 2, 'gamma': 'scale', 'kernel': 'linear'}   \n",
       "11       scale          rbf     {'C': 2, 'gamma': 'scale', 'kernel': 'rbf'}   \n",
       "12        auto       linear   {'C': 2, 'gamma': 'auto', 'kernel': 'linear'}   \n",
       "13        auto          rbf      {'C': 2, 'gamma': 'auto', 'kernel': 'rbf'}   \n",
       "14           1       linear        {'C': 2, 'gamma': 1, 'kernel': 'linear'}   \n",
       "15           1          rbf           {'C': 2, 'gamma': 1, 'kernel': 'rbf'}   \n",
       "16           2       linear        {'C': 2, 'gamma': 2, 'kernel': 'linear'}   \n",
       "17           2          rbf           {'C': 2, 'gamma': 2, 'kernel': 'rbf'}   \n",
       "18           3       linear        {'C': 2, 'gamma': 3, 'kernel': 'linear'}   \n",
       "19           3          rbf           {'C': 2, 'gamma': 3, 'kernel': 'rbf'}   \n",
       "20       scale       linear  {'C': 3, 'gamma': 'scale', 'kernel': 'linear'}   \n",
       "21       scale          rbf     {'C': 3, 'gamma': 'scale', 'kernel': 'rbf'}   \n",
       "22        auto       linear   {'C': 3, 'gamma': 'auto', 'kernel': 'linear'}   \n",
       "23        auto          rbf      {'C': 3, 'gamma': 'auto', 'kernel': 'rbf'}   \n",
       "24           1       linear        {'C': 3, 'gamma': 1, 'kernel': 'linear'}   \n",
       "25           1          rbf           {'C': 3, 'gamma': 1, 'kernel': 'rbf'}   \n",
       "26           2       linear        {'C': 3, 'gamma': 2, 'kernel': 'linear'}   \n",
       "27           2          rbf           {'C': 3, 'gamma': 2, 'kernel': 'rbf'}   \n",
       "28           3       linear        {'C': 3, 'gamma': 3, 'kernel': 'linear'}   \n",
       "29           3          rbf           {'C': 3, 'gamma': 3, 'kernel': 'rbf'}   \n",
       "30       scale       linear  {'C': 4, 'gamma': 'scale', 'kernel': 'linear'}   \n",
       "31       scale          rbf     {'C': 4, 'gamma': 'scale', 'kernel': 'rbf'}   \n",
       "32        auto       linear   {'C': 4, 'gamma': 'auto', 'kernel': 'linear'}   \n",
       "33        auto          rbf      {'C': 4, 'gamma': 'auto', 'kernel': 'rbf'}   \n",
       "34           1       linear        {'C': 4, 'gamma': 1, 'kernel': 'linear'}   \n",
       "35           1          rbf           {'C': 4, 'gamma': 1, 'kernel': 'rbf'}   \n",
       "36           2       linear        {'C': 4, 'gamma': 2, 'kernel': 'linear'}   \n",
       "37           2          rbf           {'C': 4, 'gamma': 2, 'kernel': 'rbf'}   \n",
       "38           3       linear        {'C': 4, 'gamma': 3, 'kernel': 'linear'}   \n",
       "39           3          rbf           {'C': 4, 'gamma': 3, 'kernel': 'rbf'}   \n",
       "\n",
       "    split0_test_score  split1_test_score  split2_test_score  \\\n",
       "0            0.836957           0.793478           0.836957   \n",
       "1            0.836957           0.793478           0.836957   \n",
       "2            0.836957           0.793478           0.836957   \n",
       "3            0.836957           0.793478           0.836957   \n",
       "4            0.836957           0.793478           0.836957   \n",
       "5            0.826087           0.793478           0.826087   \n",
       "6            0.836957           0.793478           0.836957   \n",
       "7            0.793478           0.782609           0.826087   \n",
       "8            0.836957           0.793478           0.836957   \n",
       "9            0.760870           0.782609           0.804348   \n",
       "10           0.836957           0.793478           0.836957   \n",
       "11           0.836957           0.793478           0.836957   \n",
       "12           0.836957           0.793478           0.836957   \n",
       "13           0.836957           0.793478           0.836957   \n",
       "14           0.836957           0.793478           0.836957   \n",
       "15           0.793478           0.793478           0.826087   \n",
       "16           0.836957           0.793478           0.836957   \n",
       "17           0.771739           0.793478           0.815217   \n",
       "18           0.836957           0.793478           0.836957   \n",
       "19           0.760870           0.760870           0.804348   \n",
       "20           0.836957           0.793478           0.836957   \n",
       "21           0.836957           0.793478           0.826087   \n",
       "22           0.836957           0.793478           0.836957   \n",
       "23           0.836957           0.793478           0.836957   \n",
       "24           0.836957           0.793478           0.836957   \n",
       "25           0.771739           0.793478           0.826087   \n",
       "26           0.836957           0.793478           0.836957   \n",
       "27           0.750000           0.771739           0.815217   \n",
       "28           0.836957           0.793478           0.836957   \n",
       "29           0.739130           0.750000           0.793478   \n",
       "30           0.836957           0.793478           0.836957   \n",
       "31           0.804348           0.793478           0.826087   \n",
       "32           0.836957           0.793478           0.836957   \n",
       "33           0.836957           0.793478           0.836957   \n",
       "34           0.836957           0.793478           0.836957   \n",
       "35           0.760870           0.793478           0.826087   \n",
       "36           0.836957           0.793478           0.836957   \n",
       "37           0.728261           0.771739           0.804348   \n",
       "38           0.836957           0.793478           0.836957   \n",
       "39           0.739130           0.760870           0.782609   \n",
       "\n",
       "    split3_test_score  split4_test_score  mean_test_score  std_test_score  \\\n",
       "0            0.782609           0.847826         0.819565        0.026267   \n",
       "1            0.782609           0.847826         0.819565        0.026267   \n",
       "2            0.782609           0.847826         0.819565        0.026267   \n",
       "3            0.782609           0.847826         0.819565        0.026267   \n",
       "4            0.782609           0.847826         0.819565        0.026267   \n",
       "5            0.782609           0.847826         0.815217        0.023814   \n",
       "6            0.782609           0.847826         0.819565        0.026267   \n",
       "7            0.771739           0.847826         0.804348        0.028344   \n",
       "8            0.782609           0.847826         0.819565        0.026267   \n",
       "9            0.760870           0.836957         0.789130        0.028840   \n",
       "10           0.782609           0.847826         0.819565        0.026267   \n",
       "11           0.782609           0.847826         0.819565        0.026267   \n",
       "12           0.782609           0.847826         0.819565        0.026267   \n",
       "13           0.782609           0.847826         0.819565        0.026267   \n",
       "14           0.782609           0.847826         0.819565        0.026267   \n",
       "15           0.771739           0.847826         0.806522        0.026978   \n",
       "16           0.782609           0.847826         0.819565        0.026267   \n",
       "17           0.760870           0.836957         0.795652        0.027840   \n",
       "18           0.782609           0.847826         0.819565        0.026267   \n",
       "19           0.750000           0.815217         0.778261        0.026267   \n",
       "20           0.782609           0.847826         0.819565        0.026267   \n",
       "21           0.782609           0.847826         0.817391        0.025165   \n",
       "22           0.782609           0.847826         0.819565        0.026267   \n",
       "23           0.782609           0.847826         0.819565        0.026267   \n",
       "24           0.782609           0.847826         0.819565        0.026267   \n",
       "25           0.771739           0.847826         0.802174        0.030279   \n",
       "26           0.782609           0.847826         0.819565        0.026267   \n",
       "27           0.760870           0.804348         0.780435        0.025165   \n",
       "28           0.782609           0.847826         0.819565        0.026267   \n",
       "29           0.750000           0.804348         0.767391        0.026267   \n",
       "30           0.782609           0.847826         0.819565        0.026267   \n",
       "31           0.782609           0.847826         0.810870        0.023414   \n",
       "32           0.782609           0.847826         0.819565        0.026267   \n",
       "33           0.782609           0.847826         0.819565        0.026267   \n",
       "34           0.782609           0.847826         0.819565        0.026267   \n",
       "35           0.760870           0.836957         0.795652        0.031802   \n",
       "36           0.782609           0.847826         0.819565        0.026267   \n",
       "37           0.760870           0.804348         0.773913        0.028676   \n",
       "38           0.782609           0.847826         0.819565        0.026267   \n",
       "39           0.717391           0.804348         0.760870        0.030744   \n",
       "\n",
       "    rank_test_score  \n",
       "0                 1  \n",
       "1                 1  \n",
       "2                 1  \n",
       "3                 1  \n",
       "4                 1  \n",
       "5                28  \n",
       "6                 1  \n",
       "7                31  \n",
       "8                 1  \n",
       "9                35  \n",
       "10                1  \n",
       "11                1  \n",
       "12                1  \n",
       "13                1  \n",
       "14                1  \n",
       "15               30  \n",
       "16                1  \n",
       "17               33  \n",
       "18                1  \n",
       "19               37  \n",
       "20                1  \n",
       "21               27  \n",
       "22                1  \n",
       "23                1  \n",
       "24                1  \n",
       "25               32  \n",
       "26                1  \n",
       "27               36  \n",
       "28                1  \n",
       "29               39  \n",
       "30                1  \n",
       "31               29  \n",
       "32                1  \n",
       "33                1  \n",
       "34                1  \n",
       "35               33  \n",
       "36                1  \n",
       "37               38  \n",
       "38                1  \n",
       "39               40  "
      ]
     },
     "execution_count": 228,
     "metadata": {},
     "output_type": "execute_result"
    }
   ],
   "source": [
    "#getting results\n",
    "svm_gridsearch_results=pd.DataFrame(data=svm_gridSearch.cv_results_)\n",
    "svm_gridsearch_results"
   ]
  },
  {
   "cell_type": "code",
   "execution_count": 180,
   "id": "99c6e831-62a9-4086-b684-9e5f3202a8f8",
   "metadata": {},
   "outputs": [
    {
     "data": {
      "text/plain": [
       "SVC(C=1, kernel='linear', random_state=0, verbose=True)"
      ]
     },
     "execution_count": 180,
     "metadata": {},
     "output_type": "execute_result"
    }
   ],
   "source": [
    "#getting best fit\n",
    "svm_gridSearch.best_estimator_"
   ]
  },
  {
   "cell_type": "markdown",
   "id": "e10236c2-b527-4341-ada2-239c3a947a88",
   "metadata": {},
   "source": [
    "##### optimum svm"
   ]
  },
  {
   "cell_type": "code",
   "execution_count": 181,
   "id": "b16897bf-c5fb-42c4-aa36-7d686af21357",
   "metadata": {},
   "outputs": [],
   "source": [
    "#creating optimum svm obj\n",
    "svm_opt_obj=SVC(C=1, kernel='linear', random_state=0, verbose=True)"
   ]
  },
  {
   "cell_type": "code",
   "execution_count": 182,
   "id": "51272ea7-8c6e-445f-9bca-82d0b76ba92b",
   "metadata": {},
   "outputs": [
    {
     "name": "stdout",
     "output_type": "stream",
     "text": [
      "[LibSVM]"
     ]
    },
    {
     "data": {
      "text/plain": [
       "SVC(C=1, kernel='linear', random_state=0, verbose=True)"
      ]
     },
     "execution_count": 182,
     "metadata": {},
     "output_type": "execute_result"
    }
   ],
   "source": [
    "#fittig data to it\n",
    "svm_opt_obj.fit(x_logi_train,y_logi_train)"
   ]
  },
  {
   "cell_type": "code",
   "execution_count": 183,
   "id": "4780e3fc-b785-4c43-bda5-27568b948d1f",
   "metadata": {},
   "outputs": [
    {
     "data": {
      "text/plain": [
       "array([1, 1, 1, 1, 1, 1, 1, 1, 1, 1, 0, 1, 1, 1, 1, 1, 1, 1, 0, 1, 1, 1,\n",
       "       1, 1, 0, 1, 1, 1, 1, 1, 0, 0, 1, 1, 1, 0, 1, 1, 1, 1, 1, 1, 1, 1,\n",
       "       1, 1, 1, 1, 1, 1, 1, 1, 1, 1, 1, 1, 1, 1, 1, 1, 1, 0, 1, 1, 1, 1,\n",
       "       1, 0, 1, 1, 0, 1, 0, 1, 1, 1, 1, 1, 1, 1, 1, 1, 1, 0, 1, 1, 1, 1,\n",
       "       1, 1, 1, 1, 1, 1, 1, 1, 1, 1, 0, 0, 1, 1, 1, 1, 1, 1, 1, 1, 1, 1,\n",
       "       1, 1, 1, 1, 0, 1, 1, 1, 1, 1, 1, 1, 1, 1, 1, 1, 1, 1, 1, 1, 1, 1,\n",
       "       1, 1, 1, 0, 1, 1, 0, 1, 1, 1, 1, 1, 1, 1, 1, 1, 1, 1, 1, 1, 1, 1],\n",
       "      dtype=int64)"
      ]
     },
     "execution_count": 183,
     "metadata": {},
     "output_type": "execute_result"
    }
   ],
   "source": [
    "#getting predictions\n",
    "svm_opt_pred=svm_opt_obj.predict(x_logi_test)\n",
    "svm_opt_pred"
   ]
  },
  {
   "cell_type": "code",
   "execution_count": 184,
   "id": "322a7792-4e99-401a-8c7d-39198f452e02",
   "metadata": {},
   "outputs": [
    {
     "data": {
      "text/plain": [
       "0.7792207792207793"
      ]
     },
     "execution_count": 184,
     "metadata": {},
     "output_type": "execute_result"
    }
   ],
   "source": [
    "#checking accuracy score\n",
    "svm_opt_obj.score(x_logi_test,y_logi_test)"
   ]
  },
  {
   "cell_type": "code",
   "execution_count": 185,
   "id": "70a2a9f2-9998-4d9a-98b6-3676e55c4f1c",
   "metadata": {},
   "outputs": [
    {
     "data": {
      "text/plain": [
       "<sklearn.metrics._plot.confusion_matrix.ConfusionMatrixDisplay at 0x20f35178190>"
      ]
     },
     "execution_count": 185,
     "metadata": {},
     "output_type": "execute_result"
    },
    {
     "data": {
      "image/png": "[encoded data removed]",
      "text/plain": [
       "<Figure size 432x288 with 2 Axes>"
      ]
     },
     "metadata": {
      "needs_background": "light"
     },
     "output_type": "display_data"
    }
   ],
   "source": [
    "#getting confusion matrix\n",
    "ConfusionMatrixDisplay.from_predictions(y_logi_test,svm_opt_pred)\n",
    "##no imporovement"
   ]
  },
  {
   "cell_type": "code",
   "execution_count": 186,
   "id": "51ea95f1-2e46-43cd-af28-186c1cfa8a3e",
   "metadata": {},
   "outputs": [
    {
     "name": "stdout",
     "output_type": "stream",
     "text": [
      "              precision    recall  f1-score   support\n",
      "\n",
      "           0       0.94      0.31      0.47        48\n",
      "           1       0.76      0.99      0.86       106\n",
      "\n",
      "    accuracy                           0.78       154\n",
      "   macro avg       0.85      0.65      0.66       154\n",
      "weighted avg       0.82      0.78      0.74       154\n",
      "\n"
     ]
    }
   ],
   "source": [
    "# getting classificatio report\n",
    "print(classification_report(y_logi_test,svm_opt_pred))\n",
    "## no impovement with parameter tuning"
   ]
  },
  {
   "cell_type": "markdown",
   "id": "d66e53c3-9514-4c2d-b373-2442c0451565",
   "metadata": {},
   "source": [
    "#### Naive Baiyees on 06-10-2022"
   ]
  },
  {
   "cell_type": "code",
   "execution_count": 187,
   "id": "d8a65789-da8a-4028-8195-f1bbccf62c71",
   "metadata": {},
   "outputs": [],
   "source": [
    "#importing Naive Bayees \n",
    "from sklearn.naive_bayes import GaussianNB"
   ]
  },
  {
   "cell_type": "code",
   "execution_count": 189,
   "id": "78a1fa68-c58f-46a5-953a-feed67a58198",
   "metadata": {},
   "outputs": [],
   "source": [
    "#creating naive bayes obj\n",
    "nb_obj=GaussianNB()"
   ]
  },
  {
   "cell_type": "code",
   "execution_count": 190,
   "id": "cb3f83b9-c471-468d-a972-d2e1ea225ed8",
   "metadata": {},
   "outputs": [
    {
     "data": {
      "text/plain": [
       "GaussianNB()"
      ]
     },
     "execution_count": 190,
     "metadata": {},
     "output_type": "execute_result"
    }
   ],
   "source": [
    "#fitting data to obj\n",
    "nb_obj.fit(x_logi_train,y_logi_train)"
   ]
  },
  {
   "cell_type": "code",
   "execution_count": 191,
   "id": "303e3ef0-1450-43f1-8256-c7f5440aca0d",
   "metadata": {},
   "outputs": [
    {
     "data": {
      "text/plain": [
       "0.7857142857142857"
      ]
     },
     "execution_count": 191,
     "metadata": {},
     "output_type": "execute_result"
    }
   ],
   "source": [
    "#checking score\n",
    "nb_obj.score(x_logi_test,y_logi_test)"
   ]
  },
  {
   "cell_type": "code",
   "execution_count": 193,
   "id": "b688755c-3bc3-474a-a3af-6f0412ed966d",
   "metadata": {},
   "outputs": [
    {
     "data": {
      "text/plain": [
       "array([1, 1, 1, 1, 1, 1, 1, 1, 1, 1, 0, 1, 1, 1, 1, 1, 1, 1, 0, 1, 1, 1,\n",
       "       1, 0, 0, 1, 1, 1, 1, 1, 0, 0, 1, 1, 1, 0, 1, 1, 1, 0, 1, 1, 1, 1,\n",
       "       1, 1, 1, 1, 1, 1, 1, 1, 1, 1, 1, 1, 1, 1, 1, 1, 1, 0, 1, 1, 1, 1,\n",
       "       1, 0, 1, 1, 0, 1, 0, 1, 1, 1, 1, 1, 1, 1, 1, 1, 1, 0, 1, 1, 1, 1,\n",
       "       1, 1, 1, 1, 1, 1, 1, 1, 1, 1, 0, 0, 1, 1, 1, 1, 1, 1, 1, 1, 1, 1,\n",
       "       1, 1, 1, 1, 0, 1, 1, 1, 0, 1, 1, 1, 1, 1, 1, 1, 1, 1, 1, 1, 1, 1,\n",
       "       1, 1, 1, 0, 1, 1, 0, 1, 1, 1, 1, 1, 1, 1, 1, 1, 1, 1, 1, 1, 1, 1],\n",
       "      dtype=int64)"
      ]
     },
     "execution_count": 193,
     "metadata": {},
     "output_type": "execute_result"
    }
   ],
   "source": [
    "#getting predictions\n",
    "nb_pred=nb_obj.predict(x_logi_test)\n",
    "nb_pred"
   ]
  },
  {
   "cell_type": "code",
   "execution_count": 195,
   "id": "0328cb86-caa7-47fe-8557-e6f8a55c60fc",
   "metadata": {},
   "outputs": [
    {
     "data": {
      "text/plain": [
       "121"
      ]
     },
     "execution_count": 195,
     "metadata": {},
     "output_type": "execute_result"
    }
   ],
   "source": [
    "#checking correct predictions using If\n",
    "(nb_pred==y_logi_test).sum()"
   ]
  },
  {
   "cell_type": "code",
   "execution_count": 197,
   "id": "67092fe0-1574-4a15-ae51-66371e73d19f",
   "metadata": {},
   "outputs": [
    {
     "data": {
      "text/plain": [
       "<sklearn.metrics._plot.confusion_matrix.ConfusionMatrixDisplay at 0x20f3675bee0>"
      ]
     },
     "execution_count": 197,
     "metadata": {},
     "output_type": "execute_result"
    },
    {
     "data": {
      "image/png": "[encoded data removed]",
      "text/plain": [
       "<Figure size 432x288 with 2 Axes>"
      ]
     },
     "metadata": {
      "needs_background": "light"
     },
     "output_type": "display_data"
    }
   ],
   "source": [
    "#getting confusion matrix\n",
    "ConfusionMatrixDisplay.from_predictions(nb_pred,y_logi_test)\n",
    "##seems this model is a bit better"
   ]
  },
  {
   "cell_type": "code",
   "execution_count": 203,
   "id": "7fc2d44c-a853-4463-857d-449f039f432a",
   "metadata": {},
   "outputs": [
    {
     "name": "stdout",
     "output_type": "stream",
     "text": [
      "              precision    recall  f1-score   support\n",
      "\n",
      "           0       0.35      0.89      0.51        19\n",
      "           1       0.98      0.77      0.86       135\n",
      "\n",
      "    accuracy                           0.79       154\n",
      "   macro avg       0.67      0.83      0.69       154\n",
      "weighted avg       0.90      0.79      0.82       154\n",
      "\n"
     ]
    }
   ],
   "source": [
    "# getting classification report\n",
    "print(classification_report(nb_pred,y_logi_test))\n",
    "## naive bayees has better accuracy score than previous models"
   ]
  },
  {
   "cell_type": "code",
   "execution_count": 200,
   "id": "86565d6b-2e7c-49c0-8f57-728de5977943",
   "metadata": {},
   "outputs": [
    {
     "name": "stdout",
     "output_type": "stream",
     "text": [
      "              precision    recall  f1-score   support\n",
      "\n",
      "           0       0.31      0.94      0.47        16\n",
      "           1       0.99      0.76      0.86       138\n",
      "\n",
      "    accuracy                           0.78       154\n",
      "   macro avg       0.65      0.85      0.66       154\n",
      "weighted avg       0.92      0.78      0.82       154\n",
      "\n"
     ]
    }
   ],
   "source": [
    "#getting other model reports for comparision\n",
    "print(classification_report(svm_pred,y_logi_test))"
   ]
  },
  {
   "cell_type": "markdown",
   "id": "a16f2b15-2707-4f9b-9dc3-8f1358d1e403",
   "metadata": {},
   "source": [
    "***\n",
    "naive bayees has better accuracy score than previous models\n",
    "***"
   ]
  },
  {
   "attachments": {
    "25c322e4-137d-474f-9df0-4b098bad3f4c.png": {
     "image/png": "[encoded data removed]"
    }
   },
   "cell_type": "markdown",
   "id": "b96b6071-1bb6-4354-800d-9007fcda5156",
   "metadata": {},
   "source": [
    "![image.png](attachment:25c322e4-137d-474f-9df0-4b098bad3f4c.png)"
   ]
  },
  {
   "cell_type": "code",
   "execution_count": null,
   "id": "158e80d1-8fe5-477d-93d1-2d965a4c3fda",
   "metadata": {},
   "outputs": [],
   "source": []
  }
 ],
 "metadata": {
  "kernelspec": {
   "display_name": "Python 3 (ipykernel)",
   "language": "python",
   "name": "python3"
  },
  "language_info": {
   "codemirror_mode": {
    "name": "ipython",
    "version": 3
   },
   "file_extension": ".py",
   "mimetype": "text/x-python",
   "name": "python",
   "nbconvert_exporter": "python",
   "pygments_lexer": "ipython3",
   "version": "3.9.7"
  },
  "toc-autonumbering": false,
  "toc-showmarkdowntxt": false,
  "toc-showtags": false
 },
 "nbformat": 4,
 "nbformat_minor": 5
}
