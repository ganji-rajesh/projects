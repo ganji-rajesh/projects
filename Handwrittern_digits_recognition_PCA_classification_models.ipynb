{
 "cells": [
  {
   "cell_type": "markdown",
   "id": "8f8d4ca0-076c-4f56-a069-7466a85439fd",
   "metadata": {},
   "source": [
    "# PCA + classification models on MNIST data"
   ]
  },
  {
   "cell_type": "markdown",
   "id": "a728fab8-5726-4105-9311-5f6b04f7e05e",
   "metadata": {},
   "source": [
    "The MNIST database of handwritten digits. It is a subset of a larger set available from NIST <br>\n"
   ]
  },
  {
   "cell_type": "markdown",
   "id": "dfc24d42-6ebf-4228-ad01-d59f254d18ab",
   "metadata": {
    "tags": []
   },
   "source": [
    "## Preprocessing..."
   ]
  },
  {
   "cell_type": "markdown",
   "id": "0263615e-0f44-4c41-a30c-d654ebfc4afa",
   "metadata": {
    "tags": []
   },
   "source": [
    "### getting data"
   ]
  },
  {
   "cell_type": "code",
   "execution_count": 3,
   "id": "d238bcab-6e15-4e36-97ab-a6b2dbe3db4d",
   "metadata": {},
   "outputs": [],
   "source": [
    "# importing required libraries\n",
    "import pandas as pd\n",
    "import numpy as np\n",
    "import matplotlib_inline as plt\n",
    "import sklearn as sk\n",
    "%matplotlib inline"
   ]
  },
  {
   "cell_type": "code",
   "execution_count": 4,
   "id": "632409b3-4b58-4bf9-bdb1-689c04c23289",
   "metadata": {},
   "outputs": [],
   "source": [
    "# importing data from sklearn library\n",
    "from sklearn.datasets import fetch_openml\n",
    "mnist=fetch_openml('mnist_784')"
   ]
  },
  {
   "cell_type": "code",
   "execution_count": 5,
   "id": "ced52c0e-b39a-4b81-9d50-902b01bffa53",
   "metadata": {},
   "outputs": [
    {
     "data": {
      "text/html": [
       "<div>\n",
       "<style scoped>\n",
       "    .dataframe tbody tr th:only-of-type {\n",
       "        vertical-align: middle;\n",
       "    }\n",
       "\n",
       "    .dataframe tbody tr th {\n",
       "        vertical-align: top;\n",
       "    }\n",
       "\n",
       "    .dataframe thead th {\n",
       "        text-align: right;\n",
       "    }\n",
       "</style>\n",
       "<table border=\"1\" class=\"dataframe\">\n",
       "  <thead>\n",
       "    <tr style=\"text-align: right;\">\n",
       "      <th></th>\n",
       "      <th>pixel1</th>\n",
       "      <th>pixel2</th>\n",
       "      <th>pixel3</th>\n",
       "      <th>pixel4</th>\n",
       "      <th>pixel5</th>\n",
       "      <th>pixel6</th>\n",
       "      <th>pixel7</th>\n",
       "      <th>pixel8</th>\n",
       "      <th>pixel9</th>\n",
       "      <th>pixel10</th>\n",
       "      <th>...</th>\n",
       "      <th>pixel775</th>\n",
       "      <th>pixel776</th>\n",
       "      <th>pixel777</th>\n",
       "      <th>pixel778</th>\n",
       "      <th>pixel779</th>\n",
       "      <th>pixel780</th>\n",
       "      <th>pixel781</th>\n",
       "      <th>pixel782</th>\n",
       "      <th>pixel783</th>\n",
       "      <th>pixel784</th>\n",
       "    </tr>\n",
       "  </thead>\n",
       "  <tbody>\n",
       "    <tr>\n",
       "      <th>0</th>\n",
       "      <td>0.0</td>\n",
       "      <td>0.0</td>\n",
       "      <td>0.0</td>\n",
       "      <td>0.0</td>\n",
       "      <td>0.0</td>\n",
       "      <td>0.0</td>\n",
       "      <td>0.0</td>\n",
       "      <td>0.0</td>\n",
       "      <td>0.0</td>\n",
       "      <td>0.0</td>\n",
       "      <td>...</td>\n",
       "      <td>0.0</td>\n",
       "      <td>0.0</td>\n",
       "      <td>0.0</td>\n",
       "      <td>0.0</td>\n",
       "      <td>0.0</td>\n",
       "      <td>0.0</td>\n",
       "      <td>0.0</td>\n",
       "      <td>0.0</td>\n",
       "      <td>0.0</td>\n",
       "      <td>0.0</td>\n",
       "    </tr>\n",
       "    <tr>\n",
       "      <th>1</th>\n",
       "      <td>0.0</td>\n",
       "      <td>0.0</td>\n",
       "      <td>0.0</td>\n",
       "      <td>0.0</td>\n",
       "      <td>0.0</td>\n",
       "      <td>0.0</td>\n",
       "      <td>0.0</td>\n",
       "      <td>0.0</td>\n",
       "      <td>0.0</td>\n",
       "      <td>0.0</td>\n",
       "      <td>...</td>\n",
       "      <td>0.0</td>\n",
       "      <td>0.0</td>\n",
       "      <td>0.0</td>\n",
       "      <td>0.0</td>\n",
       "      <td>0.0</td>\n",
       "      <td>0.0</td>\n",
       "      <td>0.0</td>\n",
       "      <td>0.0</td>\n",
       "      <td>0.0</td>\n",
       "      <td>0.0</td>\n",
       "    </tr>\n",
       "    <tr>\n",
       "      <th>2</th>\n",
       "      <td>0.0</td>\n",
       "      <td>0.0</td>\n",
       "      <td>0.0</td>\n",
       "      <td>0.0</td>\n",
       "      <td>0.0</td>\n",
       "      <td>0.0</td>\n",
       "      <td>0.0</td>\n",
       "      <td>0.0</td>\n",
       "      <td>0.0</td>\n",
       "      <td>0.0</td>\n",
       "      <td>...</td>\n",
       "      <td>0.0</td>\n",
       "      <td>0.0</td>\n",
       "      <td>0.0</td>\n",
       "      <td>0.0</td>\n",
       "      <td>0.0</td>\n",
       "      <td>0.0</td>\n",
       "      <td>0.0</td>\n",
       "      <td>0.0</td>\n",
       "      <td>0.0</td>\n",
       "      <td>0.0</td>\n",
       "    </tr>\n",
       "    <tr>\n",
       "      <th>3</th>\n",
       "      <td>0.0</td>\n",
       "      <td>0.0</td>\n",
       "      <td>0.0</td>\n",
       "      <td>0.0</td>\n",
       "      <td>0.0</td>\n",
       "      <td>0.0</td>\n",
       "      <td>0.0</td>\n",
       "      <td>0.0</td>\n",
       "      <td>0.0</td>\n",
       "      <td>0.0</td>\n",
       "      <td>...</td>\n",
       "      <td>0.0</td>\n",
       "      <td>0.0</td>\n",
       "      <td>0.0</td>\n",
       "      <td>0.0</td>\n",
       "      <td>0.0</td>\n",
       "      <td>0.0</td>\n",
       "      <td>0.0</td>\n",
       "      <td>0.0</td>\n",
       "      <td>0.0</td>\n",
       "      <td>0.0</td>\n",
       "    </tr>\n",
       "    <tr>\n",
       "      <th>4</th>\n",
       "      <td>0.0</td>\n",
       "      <td>0.0</td>\n",
       "      <td>0.0</td>\n",
       "      <td>0.0</td>\n",
       "      <td>0.0</td>\n",
       "      <td>0.0</td>\n",
       "      <td>0.0</td>\n",
       "      <td>0.0</td>\n",
       "      <td>0.0</td>\n",
       "      <td>0.0</td>\n",
       "      <td>...</td>\n",
       "      <td>0.0</td>\n",
       "      <td>0.0</td>\n",
       "      <td>0.0</td>\n",
       "      <td>0.0</td>\n",
       "      <td>0.0</td>\n",
       "      <td>0.0</td>\n",
       "      <td>0.0</td>\n",
       "      <td>0.0</td>\n",
       "      <td>0.0</td>\n",
       "      <td>0.0</td>\n",
       "    </tr>\n",
       "    <tr>\n",
       "      <th>...</th>\n",
       "      <td>...</td>\n",
       "      <td>...</td>\n",
       "      <td>...</td>\n",
       "      <td>...</td>\n",
       "      <td>...</td>\n",
       "      <td>...</td>\n",
       "      <td>...</td>\n",
       "      <td>...</td>\n",
       "      <td>...</td>\n",
       "      <td>...</td>\n",
       "      <td>...</td>\n",
       "      <td>...</td>\n",
       "      <td>...</td>\n",
       "      <td>...</td>\n",
       "      <td>...</td>\n",
       "      <td>...</td>\n",
       "      <td>...</td>\n",
       "      <td>...</td>\n",
       "      <td>...</td>\n",
       "      <td>...</td>\n",
       "      <td>...</td>\n",
       "    </tr>\n",
       "    <tr>\n",
       "      <th>69995</th>\n",
       "      <td>0.0</td>\n",
       "      <td>0.0</td>\n",
       "      <td>0.0</td>\n",
       "      <td>0.0</td>\n",
       "      <td>0.0</td>\n",
       "      <td>0.0</td>\n",
       "      <td>0.0</td>\n",
       "      <td>0.0</td>\n",
       "      <td>0.0</td>\n",
       "      <td>0.0</td>\n",
       "      <td>...</td>\n",
       "      <td>0.0</td>\n",
       "      <td>0.0</td>\n",
       "      <td>0.0</td>\n",
       "      <td>0.0</td>\n",
       "      <td>0.0</td>\n",
       "      <td>0.0</td>\n",
       "      <td>0.0</td>\n",
       "      <td>0.0</td>\n",
       "      <td>0.0</td>\n",
       "      <td>0.0</td>\n",
       "    </tr>\n",
       "    <tr>\n",
       "      <th>69996</th>\n",
       "      <td>0.0</td>\n",
       "      <td>0.0</td>\n",
       "      <td>0.0</td>\n",
       "      <td>0.0</td>\n",
       "      <td>0.0</td>\n",
       "      <td>0.0</td>\n",
       "      <td>0.0</td>\n",
       "      <td>0.0</td>\n",
       "      <td>0.0</td>\n",
       "      <td>0.0</td>\n",
       "      <td>...</td>\n",
       "      <td>0.0</td>\n",
       "      <td>0.0</td>\n",
       "      <td>0.0</td>\n",
       "      <td>0.0</td>\n",
       "      <td>0.0</td>\n",
       "      <td>0.0</td>\n",
       "      <td>0.0</td>\n",
       "      <td>0.0</td>\n",
       "      <td>0.0</td>\n",
       "      <td>0.0</td>\n",
       "    </tr>\n",
       "    <tr>\n",
       "      <th>69997</th>\n",
       "      <td>0.0</td>\n",
       "      <td>0.0</td>\n",
       "      <td>0.0</td>\n",
       "      <td>0.0</td>\n",
       "      <td>0.0</td>\n",
       "      <td>0.0</td>\n",
       "      <td>0.0</td>\n",
       "      <td>0.0</td>\n",
       "      <td>0.0</td>\n",
       "      <td>0.0</td>\n",
       "      <td>...</td>\n",
       "      <td>0.0</td>\n",
       "      <td>0.0</td>\n",
       "      <td>0.0</td>\n",
       "      <td>0.0</td>\n",
       "      <td>0.0</td>\n",
       "      <td>0.0</td>\n",
       "      <td>0.0</td>\n",
       "      <td>0.0</td>\n",
       "      <td>0.0</td>\n",
       "      <td>0.0</td>\n",
       "    </tr>\n",
       "    <tr>\n",
       "      <th>69998</th>\n",
       "      <td>0.0</td>\n",
       "      <td>0.0</td>\n",
       "      <td>0.0</td>\n",
       "      <td>0.0</td>\n",
       "      <td>0.0</td>\n",
       "      <td>0.0</td>\n",
       "      <td>0.0</td>\n",
       "      <td>0.0</td>\n",
       "      <td>0.0</td>\n",
       "      <td>0.0</td>\n",
       "      <td>...</td>\n",
       "      <td>0.0</td>\n",
       "      <td>0.0</td>\n",
       "      <td>0.0</td>\n",
       "      <td>0.0</td>\n",
       "      <td>0.0</td>\n",
       "      <td>0.0</td>\n",
       "      <td>0.0</td>\n",
       "      <td>0.0</td>\n",
       "      <td>0.0</td>\n",
       "      <td>0.0</td>\n",
       "    </tr>\n",
       "    <tr>\n",
       "      <th>69999</th>\n",
       "      <td>0.0</td>\n",
       "      <td>0.0</td>\n",
       "      <td>0.0</td>\n",
       "      <td>0.0</td>\n",
       "      <td>0.0</td>\n",
       "      <td>0.0</td>\n",
       "      <td>0.0</td>\n",
       "      <td>0.0</td>\n",
       "      <td>0.0</td>\n",
       "      <td>0.0</td>\n",
       "      <td>...</td>\n",
       "      <td>0.0</td>\n",
       "      <td>0.0</td>\n",
       "      <td>0.0</td>\n",
       "      <td>0.0</td>\n",
       "      <td>0.0</td>\n",
       "      <td>0.0</td>\n",
       "      <td>0.0</td>\n",
       "      <td>0.0</td>\n",
       "      <td>0.0</td>\n",
       "      <td>0.0</td>\n",
       "    </tr>\n",
       "  </tbody>\n",
       "</table>\n",
       "<p>70000 rows × 784 columns</p>\n",
       "</div>"
      ],
      "text/plain": [
       "       pixel1  pixel2  pixel3  pixel4  pixel5  pixel6  pixel7  pixel8  pixel9  \\\n",
       "0         0.0     0.0     0.0     0.0     0.0     0.0     0.0     0.0     0.0   \n",
       "1         0.0     0.0     0.0     0.0     0.0     0.0     0.0     0.0     0.0   \n",
       "2         0.0     0.0     0.0     0.0     0.0     0.0     0.0     0.0     0.0   \n",
       "3         0.0     0.0     0.0     0.0     0.0     0.0     0.0     0.0     0.0   \n",
       "4         0.0     0.0     0.0     0.0     0.0     0.0     0.0     0.0     0.0   \n",
       "...       ...     ...     ...     ...     ...     ...     ...     ...     ...   \n",
       "69995     0.0     0.0     0.0     0.0     0.0     0.0     0.0     0.0     0.0   \n",
       "69996     0.0     0.0     0.0     0.0     0.0     0.0     0.0     0.0     0.0   \n",
       "69997     0.0     0.0     0.0     0.0     0.0     0.0     0.0     0.0     0.0   \n",
       "69998     0.0     0.0     0.0     0.0     0.0     0.0     0.0     0.0     0.0   \n",
       "69999     0.0     0.0     0.0     0.0     0.0     0.0     0.0     0.0     0.0   \n",
       "\n",
       "       pixel10  ...  pixel775  pixel776  pixel777  pixel778  pixel779  \\\n",
       "0          0.0  ...       0.0       0.0       0.0       0.0       0.0   \n",
       "1          0.0  ...       0.0       0.0       0.0       0.0       0.0   \n",
       "2          0.0  ...       0.0       0.0       0.0       0.0       0.0   \n",
       "3          0.0  ...       0.0       0.0       0.0       0.0       0.0   \n",
       "4          0.0  ...       0.0       0.0       0.0       0.0       0.0   \n",
       "...        ...  ...       ...       ...       ...       ...       ...   \n",
       "69995      0.0  ...       0.0       0.0       0.0       0.0       0.0   \n",
       "69996      0.0  ...       0.0       0.0       0.0       0.0       0.0   \n",
       "69997      0.0  ...       0.0       0.0       0.0       0.0       0.0   \n",
       "69998      0.0  ...       0.0       0.0       0.0       0.0       0.0   \n",
       "69999      0.0  ...       0.0       0.0       0.0       0.0       0.0   \n",
       "\n",
       "       pixel780  pixel781  pixel782  pixel783  pixel784  \n",
       "0           0.0       0.0       0.0       0.0       0.0  \n",
       "1           0.0       0.0       0.0       0.0       0.0  \n",
       "2           0.0       0.0       0.0       0.0       0.0  \n",
       "3           0.0       0.0       0.0       0.0       0.0  \n",
       "4           0.0       0.0       0.0       0.0       0.0  \n",
       "...         ...       ...       ...       ...       ...  \n",
       "69995       0.0       0.0       0.0       0.0       0.0  \n",
       "69996       0.0       0.0       0.0       0.0       0.0  \n",
       "69997       0.0       0.0       0.0       0.0       0.0  \n",
       "69998       0.0       0.0       0.0       0.0       0.0  \n",
       "69999       0.0       0.0       0.0       0.0       0.0  \n",
       "\n",
       "[70000 rows x 784 columns]"
      ]
     },
     "execution_count": 5,
     "metadata": {},
     "output_type": "execute_result"
    }
   ],
   "source": [
    "#checking data \n",
    "mnist.data"
   ]
  },
  {
   "cell_type": "code",
   "execution_count": 6,
   "id": "129a0cfc-3234-4388-a123-131cf8dc0231",
   "metadata": {},
   "outputs": [
    {
     "data": {
      "text/plain": [
       "['class']"
      ]
     },
     "execution_count": 6,
     "metadata": {},
     "output_type": "execute_result"
    }
   ],
   "source": [
    "mnist.target_names"
   ]
  },
  {
   "cell_type": "markdown",
   "id": "45f2511c-d15f-469f-85db-3c1b9f109d4f",
   "metadata": {},
   "source": [
    "### splitting data"
   ]
  },
  {
   "cell_type": "code",
   "execution_count": 7,
   "id": "3eb365fb-fe3f-4b56-96fe-90e1599b2bb3",
   "metadata": {},
   "outputs": [],
   "source": [
    "#importing train test split\n",
    "from sklearn.model_selection import train_test_split"
   ]
  },
  {
   "cell_type": "code",
   "execution_count": 8,
   "id": "c82734dd-080a-4b03-a184-383cca294a5d",
   "metadata": {},
   "outputs": [],
   "source": [
    "img_train,img_test,lbl_train,lbl_test=train_test_split(mnist.data,mnist.target,\n",
    "                                                      test_size=0.2,\n",
    "                                                      random_state=1)"
   ]
  },
  {
   "cell_type": "code",
   "execution_count": 9,
   "id": "489d1e65-710a-4796-891c-e21e3f75a70c",
   "metadata": {},
   "outputs": [
    {
     "data": {
      "text/plain": [
       "(56000, 784)"
      ]
     },
     "execution_count": 9,
     "metadata": {},
     "output_type": "execute_result"
    }
   ],
   "source": [
    "#checking shape\n",
    "img_train.shape"
   ]
  },
  {
   "cell_type": "code",
   "execution_count": 10,
   "id": "e9290ff3-bb9a-4aa1-8565-8863129284c7",
   "metadata": {},
   "outputs": [
    {
     "data": {
      "text/html": [
       "<div>\n",
       "<style scoped>\n",
       "    .dataframe tbody tr th:only-of-type {\n",
       "        vertical-align: middle;\n",
       "    }\n",
       "\n",
       "    .dataframe tbody tr th {\n",
       "        vertical-align: top;\n",
       "    }\n",
       "\n",
       "    .dataframe thead th {\n",
       "        text-align: right;\n",
       "    }\n",
       "</style>\n",
       "<table border=\"1\" class=\"dataframe\">\n",
       "  <thead>\n",
       "    <tr style=\"text-align: right;\">\n",
       "      <th></th>\n",
       "      <th>pixel1</th>\n",
       "      <th>pixel2</th>\n",
       "      <th>pixel3</th>\n",
       "      <th>pixel4</th>\n",
       "      <th>pixel5</th>\n",
       "      <th>pixel6</th>\n",
       "      <th>pixel7</th>\n",
       "      <th>pixel8</th>\n",
       "      <th>pixel9</th>\n",
       "      <th>pixel10</th>\n",
       "      <th>...</th>\n",
       "      <th>pixel775</th>\n",
       "      <th>pixel776</th>\n",
       "      <th>pixel777</th>\n",
       "      <th>pixel778</th>\n",
       "      <th>pixel779</th>\n",
       "      <th>pixel780</th>\n",
       "      <th>pixel781</th>\n",
       "      <th>pixel782</th>\n",
       "      <th>pixel783</th>\n",
       "      <th>pixel784</th>\n",
       "    </tr>\n",
       "  </thead>\n",
       "  <tbody>\n",
       "    <tr>\n",
       "      <th>57050</th>\n",
       "      <td>0.0</td>\n",
       "      <td>0.0</td>\n",
       "      <td>0.0</td>\n",
       "      <td>0.0</td>\n",
       "      <td>0.0</td>\n",
       "      <td>0.0</td>\n",
       "      <td>0.0</td>\n",
       "      <td>0.0</td>\n",
       "      <td>0.0</td>\n",
       "      <td>0.0</td>\n",
       "      <td>...</td>\n",
       "      <td>0.0</td>\n",
       "      <td>0.0</td>\n",
       "      <td>0.0</td>\n",
       "      <td>0.0</td>\n",
       "      <td>0.0</td>\n",
       "      <td>0.0</td>\n",
       "      <td>0.0</td>\n",
       "      <td>0.0</td>\n",
       "      <td>0.0</td>\n",
       "      <td>0.0</td>\n",
       "    </tr>\n",
       "    <tr>\n",
       "      <th>66119</th>\n",
       "      <td>0.0</td>\n",
       "      <td>0.0</td>\n",
       "      <td>0.0</td>\n",
       "      <td>0.0</td>\n",
       "      <td>0.0</td>\n",
       "      <td>0.0</td>\n",
       "      <td>0.0</td>\n",
       "      <td>0.0</td>\n",
       "      <td>0.0</td>\n",
       "      <td>0.0</td>\n",
       "      <td>...</td>\n",
       "      <td>0.0</td>\n",
       "      <td>0.0</td>\n",
       "      <td>0.0</td>\n",
       "      <td>0.0</td>\n",
       "      <td>0.0</td>\n",
       "      <td>0.0</td>\n",
       "      <td>0.0</td>\n",
       "      <td>0.0</td>\n",
       "      <td>0.0</td>\n",
       "      <td>0.0</td>\n",
       "    </tr>\n",
       "    <tr>\n",
       "      <th>2762</th>\n",
       "      <td>0.0</td>\n",
       "      <td>0.0</td>\n",
       "      <td>0.0</td>\n",
       "      <td>0.0</td>\n",
       "      <td>0.0</td>\n",
       "      <td>0.0</td>\n",
       "      <td>0.0</td>\n",
       "      <td>0.0</td>\n",
       "      <td>0.0</td>\n",
       "      <td>0.0</td>\n",
       "      <td>...</td>\n",
       "      <td>0.0</td>\n",
       "      <td>0.0</td>\n",
       "      <td>0.0</td>\n",
       "      <td>0.0</td>\n",
       "      <td>0.0</td>\n",
       "      <td>0.0</td>\n",
       "      <td>0.0</td>\n",
       "      <td>0.0</td>\n",
       "      <td>0.0</td>\n",
       "      <td>0.0</td>\n",
       "    </tr>\n",
       "    <tr>\n",
       "      <th>6182</th>\n",
       "      <td>0.0</td>\n",
       "      <td>0.0</td>\n",
       "      <td>0.0</td>\n",
       "      <td>0.0</td>\n",
       "      <td>0.0</td>\n",
       "      <td>0.0</td>\n",
       "      <td>0.0</td>\n",
       "      <td>0.0</td>\n",
       "      <td>0.0</td>\n",
       "      <td>0.0</td>\n",
       "      <td>...</td>\n",
       "      <td>0.0</td>\n",
       "      <td>0.0</td>\n",
       "      <td>0.0</td>\n",
       "      <td>0.0</td>\n",
       "      <td>0.0</td>\n",
       "      <td>0.0</td>\n",
       "      <td>0.0</td>\n",
       "      <td>0.0</td>\n",
       "      <td>0.0</td>\n",
       "      <td>0.0</td>\n",
       "    </tr>\n",
       "    <tr>\n",
       "      <th>35804</th>\n",
       "      <td>0.0</td>\n",
       "      <td>0.0</td>\n",
       "      <td>0.0</td>\n",
       "      <td>0.0</td>\n",
       "      <td>0.0</td>\n",
       "      <td>0.0</td>\n",
       "      <td>0.0</td>\n",
       "      <td>0.0</td>\n",
       "      <td>0.0</td>\n",
       "      <td>0.0</td>\n",
       "      <td>...</td>\n",
       "      <td>0.0</td>\n",
       "      <td>0.0</td>\n",
       "      <td>0.0</td>\n",
       "      <td>0.0</td>\n",
       "      <td>0.0</td>\n",
       "      <td>0.0</td>\n",
       "      <td>0.0</td>\n",
       "      <td>0.0</td>\n",
       "      <td>0.0</td>\n",
       "      <td>0.0</td>\n",
       "    </tr>\n",
       "    <tr>\n",
       "      <th>...</th>\n",
       "      <td>...</td>\n",
       "      <td>...</td>\n",
       "      <td>...</td>\n",
       "      <td>...</td>\n",
       "      <td>...</td>\n",
       "      <td>...</td>\n",
       "      <td>...</td>\n",
       "      <td>...</td>\n",
       "      <td>...</td>\n",
       "      <td>...</td>\n",
       "      <td>...</td>\n",
       "      <td>...</td>\n",
       "      <td>...</td>\n",
       "      <td>...</td>\n",
       "      <td>...</td>\n",
       "      <td>...</td>\n",
       "      <td>...</td>\n",
       "      <td>...</td>\n",
       "      <td>...</td>\n",
       "      <td>...</td>\n",
       "      <td>...</td>\n",
       "    </tr>\n",
       "    <tr>\n",
       "      <th>49100</th>\n",
       "      <td>0.0</td>\n",
       "      <td>0.0</td>\n",
       "      <td>0.0</td>\n",
       "      <td>0.0</td>\n",
       "      <td>0.0</td>\n",
       "      <td>0.0</td>\n",
       "      <td>0.0</td>\n",
       "      <td>0.0</td>\n",
       "      <td>0.0</td>\n",
       "      <td>0.0</td>\n",
       "      <td>...</td>\n",
       "      <td>0.0</td>\n",
       "      <td>0.0</td>\n",
       "      <td>0.0</td>\n",
       "      <td>0.0</td>\n",
       "      <td>0.0</td>\n",
       "      <td>0.0</td>\n",
       "      <td>0.0</td>\n",
       "      <td>0.0</td>\n",
       "      <td>0.0</td>\n",
       "      <td>0.0</td>\n",
       "    </tr>\n",
       "    <tr>\n",
       "      <th>20609</th>\n",
       "      <td>0.0</td>\n",
       "      <td>0.0</td>\n",
       "      <td>0.0</td>\n",
       "      <td>0.0</td>\n",
       "      <td>0.0</td>\n",
       "      <td>0.0</td>\n",
       "      <td>0.0</td>\n",
       "      <td>0.0</td>\n",
       "      <td>0.0</td>\n",
       "      <td>0.0</td>\n",
       "      <td>...</td>\n",
       "      <td>0.0</td>\n",
       "      <td>0.0</td>\n",
       "      <td>0.0</td>\n",
       "      <td>0.0</td>\n",
       "      <td>0.0</td>\n",
       "      <td>0.0</td>\n",
       "      <td>0.0</td>\n",
       "      <td>0.0</td>\n",
       "      <td>0.0</td>\n",
       "      <td>0.0</td>\n",
       "    </tr>\n",
       "    <tr>\n",
       "      <th>21440</th>\n",
       "      <td>0.0</td>\n",
       "      <td>0.0</td>\n",
       "      <td>0.0</td>\n",
       "      <td>0.0</td>\n",
       "      <td>0.0</td>\n",
       "      <td>0.0</td>\n",
       "      <td>0.0</td>\n",
       "      <td>0.0</td>\n",
       "      <td>0.0</td>\n",
       "      <td>0.0</td>\n",
       "      <td>...</td>\n",
       "      <td>0.0</td>\n",
       "      <td>0.0</td>\n",
       "      <td>0.0</td>\n",
       "      <td>0.0</td>\n",
       "      <td>0.0</td>\n",
       "      <td>0.0</td>\n",
       "      <td>0.0</td>\n",
       "      <td>0.0</td>\n",
       "      <td>0.0</td>\n",
       "      <td>0.0</td>\n",
       "    </tr>\n",
       "    <tr>\n",
       "      <th>50057</th>\n",
       "      <td>0.0</td>\n",
       "      <td>0.0</td>\n",
       "      <td>0.0</td>\n",
       "      <td>0.0</td>\n",
       "      <td>0.0</td>\n",
       "      <td>0.0</td>\n",
       "      <td>0.0</td>\n",
       "      <td>0.0</td>\n",
       "      <td>0.0</td>\n",
       "      <td>0.0</td>\n",
       "      <td>...</td>\n",
       "      <td>0.0</td>\n",
       "      <td>0.0</td>\n",
       "      <td>0.0</td>\n",
       "      <td>0.0</td>\n",
       "      <td>0.0</td>\n",
       "      <td>0.0</td>\n",
       "      <td>0.0</td>\n",
       "      <td>0.0</td>\n",
       "      <td>0.0</td>\n",
       "      <td>0.0</td>\n",
       "    </tr>\n",
       "    <tr>\n",
       "      <th>5192</th>\n",
       "      <td>0.0</td>\n",
       "      <td>0.0</td>\n",
       "      <td>0.0</td>\n",
       "      <td>0.0</td>\n",
       "      <td>0.0</td>\n",
       "      <td>0.0</td>\n",
       "      <td>0.0</td>\n",
       "      <td>0.0</td>\n",
       "      <td>0.0</td>\n",
       "      <td>0.0</td>\n",
       "      <td>...</td>\n",
       "      <td>0.0</td>\n",
       "      <td>0.0</td>\n",
       "      <td>0.0</td>\n",
       "      <td>0.0</td>\n",
       "      <td>0.0</td>\n",
       "      <td>0.0</td>\n",
       "      <td>0.0</td>\n",
       "      <td>0.0</td>\n",
       "      <td>0.0</td>\n",
       "      <td>0.0</td>\n",
       "    </tr>\n",
       "  </tbody>\n",
       "</table>\n",
       "<p>56000 rows × 784 columns</p>\n",
       "</div>"
      ],
      "text/plain": [
       "       pixel1  pixel2  pixel3  pixel4  pixel5  pixel6  pixel7  pixel8  pixel9  \\\n",
       "57050     0.0     0.0     0.0     0.0     0.0     0.0     0.0     0.0     0.0   \n",
       "66119     0.0     0.0     0.0     0.0     0.0     0.0     0.0     0.0     0.0   \n",
       "2762      0.0     0.0     0.0     0.0     0.0     0.0     0.0     0.0     0.0   \n",
       "6182      0.0     0.0     0.0     0.0     0.0     0.0     0.0     0.0     0.0   \n",
       "35804     0.0     0.0     0.0     0.0     0.0     0.0     0.0     0.0     0.0   \n",
       "...       ...     ...     ...     ...     ...     ...     ...     ...     ...   \n",
       "49100     0.0     0.0     0.0     0.0     0.0     0.0     0.0     0.0     0.0   \n",
       "20609     0.0     0.0     0.0     0.0     0.0     0.0     0.0     0.0     0.0   \n",
       "21440     0.0     0.0     0.0     0.0     0.0     0.0     0.0     0.0     0.0   \n",
       "50057     0.0     0.0     0.0     0.0     0.0     0.0     0.0     0.0     0.0   \n",
       "5192      0.0     0.0     0.0     0.0     0.0     0.0     0.0     0.0     0.0   \n",
       "\n",
       "       pixel10  ...  pixel775  pixel776  pixel777  pixel778  pixel779  \\\n",
       "57050      0.0  ...       0.0       0.0       0.0       0.0       0.0   \n",
       "66119      0.0  ...       0.0       0.0       0.0       0.0       0.0   \n",
       "2762       0.0  ...       0.0       0.0       0.0       0.0       0.0   \n",
       "6182       0.0  ...       0.0       0.0       0.0       0.0       0.0   \n",
       "35804      0.0  ...       0.0       0.0       0.0       0.0       0.0   \n",
       "...        ...  ...       ...       ...       ...       ...       ...   \n",
       "49100      0.0  ...       0.0       0.0       0.0       0.0       0.0   \n",
       "20609      0.0  ...       0.0       0.0       0.0       0.0       0.0   \n",
       "21440      0.0  ...       0.0       0.0       0.0       0.0       0.0   \n",
       "50057      0.0  ...       0.0       0.0       0.0       0.0       0.0   \n",
       "5192       0.0  ...       0.0       0.0       0.0       0.0       0.0   \n",
       "\n",
       "       pixel780  pixel781  pixel782  pixel783  pixel784  \n",
       "57050       0.0       0.0       0.0       0.0       0.0  \n",
       "66119       0.0       0.0       0.0       0.0       0.0  \n",
       "2762        0.0       0.0       0.0       0.0       0.0  \n",
       "6182        0.0       0.0       0.0       0.0       0.0  \n",
       "35804       0.0       0.0       0.0       0.0       0.0  \n",
       "...         ...       ...       ...       ...       ...  \n",
       "49100       0.0       0.0       0.0       0.0       0.0  \n",
       "20609       0.0       0.0       0.0       0.0       0.0  \n",
       "21440       0.0       0.0       0.0       0.0       0.0  \n",
       "50057       0.0       0.0       0.0       0.0       0.0  \n",
       "5192        0.0       0.0       0.0       0.0       0.0  \n",
       "\n",
       "[56000 rows x 784 columns]"
      ]
     },
     "execution_count": 10,
     "metadata": {},
     "output_type": "execute_result"
    }
   ],
   "source": [
    "#checking \n",
    "img_train"
   ]
  },
  {
   "cell_type": "code",
   "execution_count": 11,
   "id": "8d0dceed-7370-42e2-895d-06d56f0465bc",
   "metadata": {},
   "outputs": [
    {
     "data": {
      "text/plain": [
       "(14000, 784)"
      ]
     },
     "execution_count": 11,
     "metadata": {},
     "output_type": "execute_result"
    }
   ],
   "source": [
    "#checking shape\n",
    "img_test.shape"
   ]
  },
  {
   "cell_type": "code",
   "execution_count": 12,
   "id": "57f6ce7e-d63c-48f6-9bac-5f4b5f1ccd94",
   "metadata": {},
   "outputs": [
    {
     "data": {
      "text/html": [
       "<div>\n",
       "<style scoped>\n",
       "    .dataframe tbody tr th:only-of-type {\n",
       "        vertical-align: middle;\n",
       "    }\n",
       "\n",
       "    .dataframe tbody tr th {\n",
       "        vertical-align: top;\n",
       "    }\n",
       "\n",
       "    .dataframe thead th {\n",
       "        text-align: right;\n",
       "    }\n",
       "</style>\n",
       "<table border=\"1\" class=\"dataframe\">\n",
       "  <thead>\n",
       "    <tr style=\"text-align: right;\">\n",
       "      <th></th>\n",
       "      <th>pixel1</th>\n",
       "      <th>pixel2</th>\n",
       "      <th>pixel3</th>\n",
       "      <th>pixel4</th>\n",
       "      <th>pixel5</th>\n",
       "      <th>pixel6</th>\n",
       "      <th>pixel7</th>\n",
       "      <th>pixel8</th>\n",
       "      <th>pixel9</th>\n",
       "      <th>pixel10</th>\n",
       "      <th>...</th>\n",
       "      <th>pixel775</th>\n",
       "      <th>pixel776</th>\n",
       "      <th>pixel777</th>\n",
       "      <th>pixel778</th>\n",
       "      <th>pixel779</th>\n",
       "      <th>pixel780</th>\n",
       "      <th>pixel781</th>\n",
       "      <th>pixel782</th>\n",
       "      <th>pixel783</th>\n",
       "      <th>pixel784</th>\n",
       "    </tr>\n",
       "  </thead>\n",
       "  <tbody>\n",
       "    <tr>\n",
       "      <th>6670</th>\n",
       "      <td>0.0</td>\n",
       "      <td>0.0</td>\n",
       "      <td>0.0</td>\n",
       "      <td>0.0</td>\n",
       "      <td>0.0</td>\n",
       "      <td>0.0</td>\n",
       "      <td>0.0</td>\n",
       "      <td>0.0</td>\n",
       "      <td>0.0</td>\n",
       "      <td>0.0</td>\n",
       "      <td>...</td>\n",
       "      <td>0.0</td>\n",
       "      <td>0.0</td>\n",
       "      <td>0.0</td>\n",
       "      <td>0.0</td>\n",
       "      <td>0.0</td>\n",
       "      <td>0.0</td>\n",
       "      <td>0.0</td>\n",
       "      <td>0.0</td>\n",
       "      <td>0.0</td>\n",
       "      <td>0.0</td>\n",
       "    </tr>\n",
       "    <tr>\n",
       "      <th>49567</th>\n",
       "      <td>0.0</td>\n",
       "      <td>0.0</td>\n",
       "      <td>0.0</td>\n",
       "      <td>0.0</td>\n",
       "      <td>0.0</td>\n",
       "      <td>0.0</td>\n",
       "      <td>0.0</td>\n",
       "      <td>0.0</td>\n",
       "      <td>0.0</td>\n",
       "      <td>0.0</td>\n",
       "      <td>...</td>\n",
       "      <td>0.0</td>\n",
       "      <td>0.0</td>\n",
       "      <td>0.0</td>\n",
       "      <td>0.0</td>\n",
       "      <td>0.0</td>\n",
       "      <td>0.0</td>\n",
       "      <td>0.0</td>\n",
       "      <td>0.0</td>\n",
       "      <td>0.0</td>\n",
       "      <td>0.0</td>\n",
       "    </tr>\n",
       "    <tr>\n",
       "      <th>50796</th>\n",
       "      <td>0.0</td>\n",
       "      <td>0.0</td>\n",
       "      <td>0.0</td>\n",
       "      <td>0.0</td>\n",
       "      <td>0.0</td>\n",
       "      <td>0.0</td>\n",
       "      <td>0.0</td>\n",
       "      <td>0.0</td>\n",
       "      <td>0.0</td>\n",
       "      <td>0.0</td>\n",
       "      <td>...</td>\n",
       "      <td>0.0</td>\n",
       "      <td>0.0</td>\n",
       "      <td>0.0</td>\n",
       "      <td>0.0</td>\n",
       "      <td>0.0</td>\n",
       "      <td>0.0</td>\n",
       "      <td>0.0</td>\n",
       "      <td>0.0</td>\n",
       "      <td>0.0</td>\n",
       "      <td>0.0</td>\n",
       "    </tr>\n",
       "    <tr>\n",
       "      <th>22310</th>\n",
       "      <td>0.0</td>\n",
       "      <td>0.0</td>\n",
       "      <td>0.0</td>\n",
       "      <td>0.0</td>\n",
       "      <td>0.0</td>\n",
       "      <td>0.0</td>\n",
       "      <td>0.0</td>\n",
       "      <td>0.0</td>\n",
       "      <td>0.0</td>\n",
       "      <td>0.0</td>\n",
       "      <td>...</td>\n",
       "      <td>0.0</td>\n",
       "      <td>0.0</td>\n",
       "      <td>0.0</td>\n",
       "      <td>0.0</td>\n",
       "      <td>0.0</td>\n",
       "      <td>0.0</td>\n",
       "      <td>0.0</td>\n",
       "      <td>0.0</td>\n",
       "      <td>0.0</td>\n",
       "      <td>0.0</td>\n",
       "    </tr>\n",
       "    <tr>\n",
       "      <th>54037</th>\n",
       "      <td>0.0</td>\n",
       "      <td>0.0</td>\n",
       "      <td>0.0</td>\n",
       "      <td>0.0</td>\n",
       "      <td>0.0</td>\n",
       "      <td>0.0</td>\n",
       "      <td>0.0</td>\n",
       "      <td>0.0</td>\n",
       "      <td>0.0</td>\n",
       "      <td>0.0</td>\n",
       "      <td>...</td>\n",
       "      <td>0.0</td>\n",
       "      <td>0.0</td>\n",
       "      <td>0.0</td>\n",
       "      <td>0.0</td>\n",
       "      <td>0.0</td>\n",
       "      <td>0.0</td>\n",
       "      <td>0.0</td>\n",
       "      <td>0.0</td>\n",
       "      <td>0.0</td>\n",
       "      <td>0.0</td>\n",
       "    </tr>\n",
       "    <tr>\n",
       "      <th>...</th>\n",
       "      <td>...</td>\n",
       "      <td>...</td>\n",
       "      <td>...</td>\n",
       "      <td>...</td>\n",
       "      <td>...</td>\n",
       "      <td>...</td>\n",
       "      <td>...</td>\n",
       "      <td>...</td>\n",
       "      <td>...</td>\n",
       "      <td>...</td>\n",
       "      <td>...</td>\n",
       "      <td>...</td>\n",
       "      <td>...</td>\n",
       "      <td>...</td>\n",
       "      <td>...</td>\n",
       "      <td>...</td>\n",
       "      <td>...</td>\n",
       "      <td>...</td>\n",
       "      <td>...</td>\n",
       "      <td>...</td>\n",
       "      <td>...</td>\n",
       "    </tr>\n",
       "    <tr>\n",
       "      <th>35736</th>\n",
       "      <td>0.0</td>\n",
       "      <td>0.0</td>\n",
       "      <td>0.0</td>\n",
       "      <td>0.0</td>\n",
       "      <td>0.0</td>\n",
       "      <td>0.0</td>\n",
       "      <td>0.0</td>\n",
       "      <td>0.0</td>\n",
       "      <td>0.0</td>\n",
       "      <td>0.0</td>\n",
       "      <td>...</td>\n",
       "      <td>0.0</td>\n",
       "      <td>0.0</td>\n",
       "      <td>0.0</td>\n",
       "      <td>0.0</td>\n",
       "      <td>0.0</td>\n",
       "      <td>0.0</td>\n",
       "      <td>0.0</td>\n",
       "      <td>0.0</td>\n",
       "      <td>0.0</td>\n",
       "      <td>0.0</td>\n",
       "    </tr>\n",
       "    <tr>\n",
       "      <th>45283</th>\n",
       "      <td>0.0</td>\n",
       "      <td>0.0</td>\n",
       "      <td>0.0</td>\n",
       "      <td>0.0</td>\n",
       "      <td>0.0</td>\n",
       "      <td>0.0</td>\n",
       "      <td>0.0</td>\n",
       "      <td>0.0</td>\n",
       "      <td>0.0</td>\n",
       "      <td>0.0</td>\n",
       "      <td>...</td>\n",
       "      <td>0.0</td>\n",
       "      <td>0.0</td>\n",
       "      <td>0.0</td>\n",
       "      <td>0.0</td>\n",
       "      <td>0.0</td>\n",
       "      <td>0.0</td>\n",
       "      <td>0.0</td>\n",
       "      <td>0.0</td>\n",
       "      <td>0.0</td>\n",
       "      <td>0.0</td>\n",
       "    </tr>\n",
       "    <tr>\n",
       "      <th>1541</th>\n",
       "      <td>0.0</td>\n",
       "      <td>0.0</td>\n",
       "      <td>0.0</td>\n",
       "      <td>0.0</td>\n",
       "      <td>0.0</td>\n",
       "      <td>0.0</td>\n",
       "      <td>0.0</td>\n",
       "      <td>0.0</td>\n",
       "      <td>0.0</td>\n",
       "      <td>0.0</td>\n",
       "      <td>...</td>\n",
       "      <td>0.0</td>\n",
       "      <td>0.0</td>\n",
       "      <td>0.0</td>\n",
       "      <td>0.0</td>\n",
       "      <td>0.0</td>\n",
       "      <td>0.0</td>\n",
       "      <td>0.0</td>\n",
       "      <td>0.0</td>\n",
       "      <td>0.0</td>\n",
       "      <td>0.0</td>\n",
       "    </tr>\n",
       "    <tr>\n",
       "      <th>51612</th>\n",
       "      <td>0.0</td>\n",
       "      <td>0.0</td>\n",
       "      <td>0.0</td>\n",
       "      <td>0.0</td>\n",
       "      <td>0.0</td>\n",
       "      <td>0.0</td>\n",
       "      <td>0.0</td>\n",
       "      <td>0.0</td>\n",
       "      <td>0.0</td>\n",
       "      <td>0.0</td>\n",
       "      <td>...</td>\n",
       "      <td>0.0</td>\n",
       "      <td>0.0</td>\n",
       "      <td>0.0</td>\n",
       "      <td>0.0</td>\n",
       "      <td>0.0</td>\n",
       "      <td>0.0</td>\n",
       "      <td>0.0</td>\n",
       "      <td>0.0</td>\n",
       "      <td>0.0</td>\n",
       "      <td>0.0</td>\n",
       "    </tr>\n",
       "    <tr>\n",
       "      <th>28646</th>\n",
       "      <td>0.0</td>\n",
       "      <td>0.0</td>\n",
       "      <td>0.0</td>\n",
       "      <td>0.0</td>\n",
       "      <td>0.0</td>\n",
       "      <td>0.0</td>\n",
       "      <td>0.0</td>\n",
       "      <td>0.0</td>\n",
       "      <td>0.0</td>\n",
       "      <td>0.0</td>\n",
       "      <td>...</td>\n",
       "      <td>0.0</td>\n",
       "      <td>0.0</td>\n",
       "      <td>0.0</td>\n",
       "      <td>0.0</td>\n",
       "      <td>0.0</td>\n",
       "      <td>0.0</td>\n",
       "      <td>0.0</td>\n",
       "      <td>0.0</td>\n",
       "      <td>0.0</td>\n",
       "      <td>0.0</td>\n",
       "    </tr>\n",
       "  </tbody>\n",
       "</table>\n",
       "<p>14000 rows × 784 columns</p>\n",
       "</div>"
      ],
      "text/plain": [
       "       pixel1  pixel2  pixel3  pixel4  pixel5  pixel6  pixel7  pixel8  pixel9  \\\n",
       "6670      0.0     0.0     0.0     0.0     0.0     0.0     0.0     0.0     0.0   \n",
       "49567     0.0     0.0     0.0     0.0     0.0     0.0     0.0     0.0     0.0   \n",
       "50796     0.0     0.0     0.0     0.0     0.0     0.0     0.0     0.0     0.0   \n",
       "22310     0.0     0.0     0.0     0.0     0.0     0.0     0.0     0.0     0.0   \n",
       "54037     0.0     0.0     0.0     0.0     0.0     0.0     0.0     0.0     0.0   \n",
       "...       ...     ...     ...     ...     ...     ...     ...     ...     ...   \n",
       "35736     0.0     0.0     0.0     0.0     0.0     0.0     0.0     0.0     0.0   \n",
       "45283     0.0     0.0     0.0     0.0     0.0     0.0     0.0     0.0     0.0   \n",
       "1541      0.0     0.0     0.0     0.0     0.0     0.0     0.0     0.0     0.0   \n",
       "51612     0.0     0.0     0.0     0.0     0.0     0.0     0.0     0.0     0.0   \n",
       "28646     0.0     0.0     0.0     0.0     0.0     0.0     0.0     0.0     0.0   \n",
       "\n",
       "       pixel10  ...  pixel775  pixel776  pixel777  pixel778  pixel779  \\\n",
       "6670       0.0  ...       0.0       0.0       0.0       0.0       0.0   \n",
       "49567      0.0  ...       0.0       0.0       0.0       0.0       0.0   \n",
       "50796      0.0  ...       0.0       0.0       0.0       0.0       0.0   \n",
       "22310      0.0  ...       0.0       0.0       0.0       0.0       0.0   \n",
       "54037      0.0  ...       0.0       0.0       0.0       0.0       0.0   \n",
       "...        ...  ...       ...       ...       ...       ...       ...   \n",
       "35736      0.0  ...       0.0       0.0       0.0       0.0       0.0   \n",
       "45283      0.0  ...       0.0       0.0       0.0       0.0       0.0   \n",
       "1541       0.0  ...       0.0       0.0       0.0       0.0       0.0   \n",
       "51612      0.0  ...       0.0       0.0       0.0       0.0       0.0   \n",
       "28646      0.0  ...       0.0       0.0       0.0       0.0       0.0   \n",
       "\n",
       "       pixel780  pixel781  pixel782  pixel783  pixel784  \n",
       "6670        0.0       0.0       0.0       0.0       0.0  \n",
       "49567       0.0       0.0       0.0       0.0       0.0  \n",
       "50796       0.0       0.0       0.0       0.0       0.0  \n",
       "22310       0.0       0.0       0.0       0.0       0.0  \n",
       "54037       0.0       0.0       0.0       0.0       0.0  \n",
       "...         ...       ...       ...       ...       ...  \n",
       "35736       0.0       0.0       0.0       0.0       0.0  \n",
       "45283       0.0       0.0       0.0       0.0       0.0  \n",
       "1541        0.0       0.0       0.0       0.0       0.0  \n",
       "51612       0.0       0.0       0.0       0.0       0.0  \n",
       "28646       0.0       0.0       0.0       0.0       0.0  \n",
       "\n",
       "[14000 rows x 784 columns]"
      ]
     },
     "execution_count": 12,
     "metadata": {},
     "output_type": "execute_result"
    }
   ],
   "source": [
    "#checking \n",
    "img_test"
   ]
  },
  {
   "cell_type": "code",
   "execution_count": 13,
   "id": "61fde2a0-8f0f-457f-b784-23c9758c8697",
   "metadata": {},
   "outputs": [],
   "source": [
    "b=pd.DataFrame(img_test)"
   ]
  },
  {
   "cell_type": "code",
   "execution_count": 14,
   "id": "362e77e3-5fd1-470d-9ca6-3676328848fd",
   "metadata": {},
   "outputs": [
    {
     "data": {
      "text/plain": [
       "57050    9\n",
       "66119    7\n",
       "2762     1\n",
       "6182     3\n",
       "35804    9\n",
       "        ..\n",
       "49100    5\n",
       "20609    0\n",
       "21440    5\n",
       "50057    0\n",
       "5192     0\n",
       "Name: class, Length: 56000, dtype: category\n",
       "Categories (10, object): ['0', '1', '2', '3', ..., '6', '7', '8', '9']"
      ]
     },
     "execution_count": 14,
     "metadata": {},
     "output_type": "execute_result"
    }
   ],
   "source": [
    "# checking lbl_train data\n",
    "lbl_train"
   ]
  },
  {
   "cell_type": "code",
   "execution_count": 15,
   "id": "66e9fd1c-3321-4569-9682-6c0efc562cf0",
   "metadata": {},
   "outputs": [
    {
     "data": {
      "text/plain": [
       "(56000,)"
      ]
     },
     "execution_count": 15,
     "metadata": {},
     "output_type": "execute_result"
    }
   ],
   "source": [
    "#checking lbl_train shape\n",
    "lbl_train.shape"
   ]
  },
  {
   "cell_type": "code",
   "execution_count": 16,
   "id": "51999841-420a-415c-a003-d4bf2d15fcc6",
   "metadata": {},
   "outputs": [
    {
     "data": {
      "text/plain": [
       "(14000,)"
      ]
     },
     "execution_count": 16,
     "metadata": {},
     "output_type": "execute_result"
    }
   ],
   "source": [
    "lbl_test.shape"
   ]
  },
  {
   "cell_type": "markdown",
   "id": "af2fa9ce-dfea-4b46-8e87-bf992699c6a1",
   "metadata": {},
   "source": [
    "### standardising the data"
   ]
  },
  {
   "cell_type": "code",
   "execution_count": 17,
   "id": "2b6f063d-c441-4c45-81bc-91af2473e578",
   "metadata": {},
   "outputs": [],
   "source": [
    "# importing standard scalar\n",
    "from sklearn.preprocessing import StandardScaler"
   ]
  },
  {
   "cell_type": "code",
   "execution_count": 18,
   "id": "a19489f8-b754-4e49-89e7-9296d12edb90",
   "metadata": {},
   "outputs": [],
   "source": [
    "#creating object\n",
    "scaler=StandardScaler()"
   ]
  },
  {
   "cell_type": "code",
   "execution_count": 19,
   "id": "aaa1abea-1a55-472c-8c05-00af675262d3",
   "metadata": {},
   "outputs": [
    {
     "data": {
      "text/plain": [
       "StandardScaler()"
      ]
     },
     "execution_count": 19,
     "metadata": {},
     "output_type": "execute_result"
    }
   ],
   "source": [
    "# Fit on training set only.\n",
    "scaler.fit(img_train)"
   ]
  },
  {
   "cell_type": "code",
   "execution_count": 20,
   "id": "b25e926d-e5a2-4eee-a5ce-461682620582",
   "metadata": {},
   "outputs": [],
   "source": [
    "# Apply transform to both the training set and the test set.\n",
    "img_train = scaler.transform(img_train)\n",
    "img_test = scaler.transform(img_test)"
   ]
  },
  {
   "cell_type": "markdown",
   "id": "dde92cb9-21c9-4686-b8e1-999d7c335c9f",
   "metadata": {
    "tags": []
   },
   "source": [
    "## logistic regression without PCA\n",
    "building logistic regression without PCA to check efficiency of PCA "
   ]
  },
  {
   "cell_type": "code",
   "execution_count": 21,
   "id": "998bd0c1-1481-43ed-be9d-d6c07c9921a4",
   "metadata": {},
   "outputs": [],
   "source": [
    "#importing logistic regression\n",
    "from sklearn.linear_model import LogisticRegression"
   ]
  },
  {
   "cell_type": "code",
   "execution_count": 22,
   "id": "2a3960b1-6406-4717-a68e-b98620090567",
   "metadata": {},
   "outputs": [],
   "source": [
    "# creating logistic regression object\n",
    "logiReg_without_PCA=LogisticRegression(random_state=1,\n",
    "                                      verbose=1)"
   ]
  },
  {
   "cell_type": "code",
   "execution_count": 23,
   "id": "b4bd97ad-ee85-4a17-8319-34467f7fec9a",
   "metadata": {},
   "outputs": [
    {
     "name": "stderr",
     "output_type": "stream",
     "text": [
      "[Parallel(n_jobs=1)]: Using backend SequentialBackend with 1 concurrent workers.\n",
      "C:\\Users\\MBA-RAJESH\\anaconda3\\lib\\site-packages\\sklearn\\linear_model\\_logistic.py:814: ConvergenceWarning: lbfgs failed to converge (status=1):\n",
      "STOP: TOTAL NO. of ITERATIONS REACHED LIMIT.\n",
      "\n",
      "Increase the number of iterations (max_iter) or scale the data as shown in:\n",
      "    https://scikit-learn.org/stable/modules/preprocessing.html\n",
      "Please also refer to the documentation for alternative solver options:\n",
      "    https://scikit-learn.org/stable/modules/linear_model.html#logistic-regression\n",
      "  n_iter_i = _check_optimize_result(\n",
      "[Parallel(n_jobs=1)]: Done   1 out of   1 | elapsed:   13.4s finished\n"
     ]
    },
    {
     "data": {
      "text/plain": [
       "LogisticRegression(random_state=1, verbose=1)"
      ]
     },
     "execution_count": 23,
     "metadata": {},
     "output_type": "execute_result"
    }
   ],
   "source": [
    "#fitting data to object\n",
    "logiReg_without_PCA.fit(img_train,lbl_train)"
   ]
  },
  {
   "cell_type": "code",
   "execution_count": 24,
   "id": "515d1d1c-f757-49e1-a686-871f8be22a7a",
   "metadata": {},
   "outputs": [],
   "source": [
    "#testing model with test data\n",
    "pred_logiReg_without_PCA=logiReg_without_PCA.predict(img_test)"
   ]
  },
  {
   "cell_type": "code",
   "execution_count": 25,
   "id": "70f633cd-3640-4c4a-9238-1fd3f02a6b0f",
   "metadata": {},
   "outputs": [
    {
     "data": {
      "text/plain": [
       "True     12754\n",
       "False     1246\n",
       "Name: class, dtype: int64"
      ]
     },
     "execution_count": 25,
     "metadata": {},
     "output_type": "execute_result"
    }
   ],
   "source": [
    "#checking true false predictions using value_counts()\n",
    "(pred_logiReg_without_PCA==lbl_test).value_counts()"
   ]
  },
  {
   "cell_type": "code",
   "execution_count": 26,
   "id": "c422ef4f-cd0a-4f90-937b-ced22ae8abf2",
   "metadata": {},
   "outputs": [],
   "source": [
    "#importing classification report and confusion matrix to assess model perfromance\n",
    "from sklearn.metrics import classification_report, confusion_matrix"
   ]
  },
  {
   "cell_type": "code",
   "execution_count": 27,
   "id": "2a79883d-8ca6-4cd2-9f43-0839b41ac2c8",
   "metadata": {},
   "outputs": [
    {
     "data": {
      "text/plain": [
       "array([[1317,    0,   13,    2,    7,   14,   11,    5,    9,    2],\n",
       "       [   1, 1580,   12,   10,    0,    6,    1,    3,   16,    3],\n",
       "       [  14,   14, 1270,   37,   17,    6,   15,   15,   36,    9],\n",
       "       [   9,    4,   38, 1250,    3,   47,    2,   18,   39,   21],\n",
       "       [   2,    8,   18,    4, 1204,    6,    7,   13,   20,   46],\n",
       "       [   9,    8,    8,   42,   20, 1119,   26,   11,   39,   15],\n",
       "       [  12,    1,   13,    3,   13,   21, 1256,    0,   11,    1],\n",
       "       [   7,    7,   12,    5,   18,    2,    1, 1344,    3,   45],\n",
       "       [  11,   28,   20,   29,    9,   33,   13,    6, 1182,   20],\n",
       "       [   4,   10,    4,   17,   47,    6,    1,   42,   10, 1232]],\n",
       "      dtype=int64)"
      ]
     },
     "execution_count": 27,
     "metadata": {},
     "output_type": "execute_result"
    }
   ],
   "source": [
    "# Obtaining confusion matrix\n",
    "(confusion_matrix(lbl_test,pred_logiReg_without_PCA))\n",
    "## confusion matrix is pretty hard to interpret\n",
    "##lets go for classification report"
   ]
  },
  {
   "cell_type": "code",
   "execution_count": 28,
   "id": "a0dc4b30-796c-4dec-b0b1-e5a23d5eb3a5",
   "metadata": {},
   "outputs": [
    {
     "name": "stdout",
     "output_type": "stream",
     "text": [
      "              precision    recall  f1-score   support\n",
      "\n",
      "           0       0.95      0.95      0.95      1380\n",
      "           1       0.95      0.97      0.96      1632\n",
      "           2       0.90      0.89      0.89      1433\n",
      "           3       0.89      0.87      0.88      1431\n",
      "           4       0.90      0.91      0.90      1328\n",
      "           5       0.89      0.86      0.88      1297\n",
      "           6       0.94      0.94      0.94      1331\n",
      "           7       0.92      0.93      0.93      1444\n",
      "           8       0.87      0.87      0.87      1351\n",
      "           9       0.88      0.90      0.89      1373\n",
      "\n",
      "    accuracy                           0.91     14000\n",
      "   macro avg       0.91      0.91      0.91     14000\n",
      "weighted avg       0.91      0.91      0.91     14000\n",
      "\n"
     ]
    }
   ],
   "source": [
    "# Obtaining classification report\n",
    "print(classification_report(lbl_test,pred_logiReg_without_PCA))\n",
    "## model accuracy is 92%"
   ]
  },
  {
   "cell_type": "markdown",
   "id": "1ae7f897-f688-4b20-bc54-f2eb6b73b9a9",
   "metadata": {},
   "source": [
    "***Logistic Regression without PCA gives model accuracy of 91% <br>\n",
    "It took 16 seconds for model to excecute code<br>\n",
    "Lets go for Logistic regression with PCA and see results***"
   ]
  },
  {
   "cell_type": "markdown",
   "id": "5f2fa569-f945-4d9a-8751-ff8267993075",
   "metadata": {},
   "source": [
    "## PCA"
   ]
  },
  {
   "cell_type": "code",
   "execution_count": 29,
   "id": "f59f6326-eec5-47db-a6e3-ee8c08ae4a88",
   "metadata": {},
   "outputs": [],
   "source": [
    "# importing PCA\n",
    "from sklearn.decomposition import PCA"
   ]
  },
  {
   "cell_type": "code",
   "execution_count": 30,
   "id": "487f0d42-a0b8-4419-b623-23973c930565",
   "metadata": {},
   "outputs": [],
   "source": [
    "#creating PCA object which gives pricipal components explaining 95% of variation\n",
    "mnist_pca= PCA(n_components=0.95,\n",
    "              random_state=1)"
   ]
  },
  {
   "cell_type": "code",
   "execution_count": 31,
   "id": "c6bf619d-5dfe-427b-bcf3-c8a87d1f29be",
   "metadata": {
    "tags": []
   },
   "outputs": [
    {
     "data": {
      "text/plain": [
       "PCA(n_components=0.95, random_state=1)"
      ]
     },
     "execution_count": 31,
     "metadata": {},
     "output_type": "execute_result"
    }
   ],
   "source": [
    "# fitting data to PCA object\n",
    "mnist_pca.fit(img_train)"
   ]
  },
  {
   "cell_type": "code",
   "execution_count": 32,
   "id": "ec70482b-19a5-4261-b9bb-60a235ce9193",
   "metadata": {},
   "outputs": [
    {
     "data": {
      "text/plain": [
       "328"
      ]
     },
     "execution_count": 32,
     "metadata": {},
     "output_type": "execute_result"
    }
   ],
   "source": [
    "#getting no. of optimum Principal components\n",
    "mnist_pca.n_components_\n",
    "## 328 principal components explaines 95% of variation in data"
   ]
  },
  {
   "cell_type": "markdown",
   "id": "045ea08f-fd89-4f06-a54e-b36dbb33b36d",
   "metadata": {},
   "source": [
    "***Initially, we had 784 columns or components, we reduced them to <code>328</code> columns retaining<br> 95% of variation in data, With the help of PCA...***"
   ]
  },
  {
   "cell_type": "markdown",
   "id": "c3a8a8f5-8725-4144-8d00-a8df0a03fa93",
   "metadata": {},
   "source": [
    "Apply the mapping (transform) to <b>both</b> the training set and the test set. "
   ]
  },
  {
   "cell_type": "code",
   "execution_count": 33,
   "id": "cee29ad1-82ec-4a4f-97dc-96a66586ee27",
   "metadata": {},
   "outputs": [],
   "source": [
    "img_train_pca= mnist_pca.transform(img_train)\n",
    "img_test_pca = mnist_pca.transform(img_test)"
   ]
  },
  {
   "cell_type": "markdown",
   "id": "46b65a3a-89b6-4074-8804-944418bc9917",
   "metadata": {},
   "source": [
    "## classification models"
   ]
  },
  {
   "cell_type": "markdown",
   "id": "cfe75d32-6241-47a4-9e96-159632cbbd6a",
   "metadata": {
    "tags": []
   },
   "source": [
    "### logistic regression with PCA"
   ]
  },
  {
   "cell_type": "code",
   "execution_count": 34,
   "id": "fbcea4db-a7d7-4d68-8975-0ecf69b1b18a",
   "metadata": {},
   "outputs": [],
   "source": [
    "#importing logistic regression\n",
    "from sklearn.linear_model import LogisticRegression"
   ]
  },
  {
   "cell_type": "code",
   "execution_count": 35,
   "id": "2da3d710-faf2-45d3-806f-85a20276db06",
   "metadata": {},
   "outputs": [],
   "source": [
    "# creating object\n",
    "logiReg_with_PCA=LogisticRegression(random_state=1,\n",
    "                                   verbose=1)"
   ]
  },
  {
   "cell_type": "code",
   "execution_count": 36,
   "id": "ab6775f5-6fe0-47cb-90cc-2e928cdb2c9f",
   "metadata": {},
   "outputs": [
    {
     "name": "stderr",
     "output_type": "stream",
     "text": [
      "[Parallel(n_jobs=1)]: Using backend SequentialBackend with 1 concurrent workers.\n",
      "C:\\Users\\MBA-RAJESH\\anaconda3\\lib\\site-packages\\sklearn\\linear_model\\_logistic.py:814: ConvergenceWarning: lbfgs failed to converge (status=1):\n",
      "STOP: TOTAL NO. of ITERATIONS REACHED LIMIT.\n",
      "\n",
      "Increase the number of iterations (max_iter) or scale the data as shown in:\n",
      "    https://scikit-learn.org/stable/modules/preprocessing.html\n",
      "Please also refer to the documentation for alternative solver options:\n",
      "    https://scikit-learn.org/stable/modules/linear_model.html#logistic-regression\n",
      "  n_iter_i = _check_optimize_result(\n",
      "[Parallel(n_jobs=1)]: Done   1 out of   1 | elapsed:    7.7s finished\n"
     ]
    },
    {
     "data": {
      "text/plain": [
       "LogisticRegression(random_state=1, verbose=1)"
      ]
     },
     "execution_count": 36,
     "metadata": {},
     "output_type": "execute_result"
    }
   ],
   "source": [
    "#fitting data to object\n",
    "logiReg_with_PCA.fit(img_train_pca,lbl_train)"
   ]
  },
  {
   "cell_type": "code",
   "execution_count": 37,
   "id": "77f43e7e-8060-4fd9-a89b-c047396f1dd1",
   "metadata": {},
   "outputs": [],
   "source": [
    "#testing model with test data\n",
    "pred_logiReg_with_PCA=logiReg_with_PCA.predict(img_test_pca)"
   ]
  },
  {
   "cell_type": "code",
   "execution_count": 38,
   "id": "e6ed5def-72b5-4020-8824-36f36a5a364d",
   "metadata": {},
   "outputs": [
    {
     "data": {
      "text/plain": [
       "True     12860\n",
       "False     1140\n",
       "Name: class, dtype: int64"
      ]
     },
     "execution_count": 38,
     "metadata": {},
     "output_type": "execute_result"
    }
   ],
   "source": [
    "# checking true and false \n",
    "(pred_logiReg_with_PCA==lbl_test).value_counts()\n",
    "## seems model deteriorated"
   ]
  },
  {
   "cell_type": "code",
   "execution_count": 39,
   "id": "14af43fd-8762-4b9a-b0f9-f24ba49bd15a",
   "metadata": {},
   "outputs": [],
   "source": [
    "# importing classification report confusion matrix to evaluate logistic model performance with PCA\n",
    "from sklearn.metrics import classification_report, confusion_matrix"
   ]
  },
  {
   "cell_type": "code",
   "execution_count": 40,
   "id": "417b9d28-cea2-49ee-8b26-f8c04887bb10",
   "metadata": {},
   "outputs": [
    {
     "data": {
      "text/plain": [
       "array([[1327,    1,    8,    9,    2,    6,    9,    5,    9,    6],\n",
       "       [   0, 1584,   12,    4,    9,    9,    1,    7,   31,    9],\n",
       "       [   4,   13, 1286,   30,   14,    5,    9,   15,   14,    4],\n",
       "       [   4,    9,   28, 1271,    2,   38,    0,    7,   25,   19],\n",
       "       [   7,    0,   14,    2, 1220,   20,   12,   15,    9,   41],\n",
       "       [  10,    4,    7,   43,    1, 1140,   27,    1,   40,    4],\n",
       "       [  13,    0,   14,    0,    7,   22, 1263,    1,    7,    1],\n",
       "       [   3,    2,   18,   20,   10,   11,    0, 1349,    6,   46],\n",
       "       [   9,   17,   38,   33,   17,   37,    9,    1, 1188,   11],\n",
       "       [   3,    2,    8,   19,   46,    9,    1,   43,   22, 1232]],\n",
       "      dtype=int64)"
      ]
     },
     "execution_count": 40,
     "metadata": {},
     "output_type": "execute_result"
    }
   ],
   "source": [
    "#getting confusion matrix\n",
    "confusion_matrix(pred_logiReg_with_PCA,lbl_test)"
   ]
  },
  {
   "cell_type": "code",
   "execution_count": 41,
   "id": "8820b776-bb35-4acc-b6d4-4942304d87ec",
   "metadata": {},
   "outputs": [
    {
     "name": "stdout",
     "output_type": "stream",
     "text": [
      "              precision    recall  f1-score   support\n",
      "\n",
      "           0       0.96      0.96      0.96      1382\n",
      "           1       0.97      0.95      0.96      1666\n",
      "           2       0.90      0.92      0.91      1394\n",
      "           3       0.89      0.91      0.90      1403\n",
      "           4       0.92      0.91      0.91      1340\n",
      "           5       0.88      0.89      0.89      1277\n",
      "           6       0.95      0.95      0.95      1328\n",
      "           7       0.93      0.92      0.93      1465\n",
      "           8       0.88      0.87      0.88      1360\n",
      "           9       0.90      0.89      0.89      1385\n",
      "\n",
      "    accuracy                           0.92     14000\n",
      "   macro avg       0.92      0.92      0.92     14000\n",
      "weighted avg       0.92      0.92      0.92     14000\n",
      "\n"
     ]
    }
   ],
   "source": [
    "# getting classification report\n",
    "print(classification_report(pred_logiReg_with_PCA,lbl_test))\n",
    "##model accuracy is 92% "
   ]
  },
  {
   "cell_type": "markdown",
   "id": "0cce36ff-f04c-4f4d-b0a6-2fc9a54392a8",
   "metadata": {},
   "source": [
    "***logistic regression with PCA has accuracy of <code>92%</code>, whcih is greater than  the logistic regression without PCA by 1%<br>\n",
    "It took <code>7.5seconds</code>  which is less than Logistic regression without PCA***\n"
   ]
  },
  {
   "cell_type": "markdown",
   "id": "16569119-1320-4326-a538-23102e7b959c",
   "metadata": {},
   "source": [
    "#### conclusion\n",
    "<code> With Principal Component analysis(PCA), we are able to reduce dimensions of the data from 784 columns to 328 columns and Build Logistic Regression with imporved accuracy and less time </code> <br>\n",
    "Thus PCA helps to reduce components while retaining variance in data.<br>\n",
    "PCA can be used in EDA for smoother model building "
   ]
  },
  {
   "cell_type": "markdown",
   "id": "807b64bd-3b86-424c-86bf-d228216d95c0",
   "metadata": {},
   "source": [
    "### KNN algorithm on mnist data\n"
   ]
  },
  {
   "cell_type": "code",
   "execution_count": 42,
   "id": "a849650f-4f6b-46e9-ab8d-c7bb87f61ed7",
   "metadata": {},
   "outputs": [],
   "source": [
    "# importing KNN algorithm\n",
    "from sklearn.neighbors import KNeighborsClassifier"
   ]
  },
  {
   "cell_type": "code",
   "execution_count": 43,
   "id": "b1f0fa37-3940-430a-b236-bd63f4400761",
   "metadata": {},
   "outputs": [],
   "source": [
    "# creating kNN object\n",
    "KNN_mnist_pcaData=KNeighborsClassifier()"
   ]
  },
  {
   "cell_type": "code",
   "execution_count": 44,
   "id": "9b67822b-aa46-4302-80f4-abfce9971afa",
   "metadata": {},
   "outputs": [
    {
     "data": {
      "text/plain": [
       "KNeighborsClassifier()"
      ]
     },
     "execution_count": 44,
     "metadata": {},
     "output_type": "execute_result"
    }
   ],
   "source": [
    "#fitting data to KNN object\n",
    "KNN_mnist_pcaData.fit(img_train_pca,lbl_train\n",
    "                     )"
   ]
  },
  {
   "cell_type": "code",
   "execution_count": 46,
   "id": "0c53478a-0cb4-4024-be7c-e5c611ce7e0c",
   "metadata": {},
   "outputs": [],
   "source": [
    "# predicting using test data\n",
    "knn_predictions=KNN_mnist_pcaData.predict(img_test_pca)"
   ]
  },
  {
   "cell_type": "code",
   "execution_count": 48,
   "id": "5280eb03-40df-4f8d-ad8e-9f49eeb26d5c",
   "metadata": {},
   "outputs": [
    {
     "data": {
      "text/plain": [
       "True     13295\n",
       "False      705\n",
       "Name: class, dtype: int64"
      ]
     },
     "execution_count": 48,
     "metadata": {},
     "output_type": "execute_result"
    }
   ],
   "source": [
    "# comparing prediction values and actual values\n",
    "(knn_predictions==lbl_test).value_counts()"
   ]
  },
  {
   "cell_type": "code",
   "execution_count": 49,
   "id": "36f1a1ce-65e9-4d32-ba98-67fd626aea82",
   "metadata": {},
   "outputs": [
    {
     "data": {
      "text/plain": [
       "array([[1356,    1,    6,    0,    0,    3,   11,    2,    0,    1],\n",
       "       [   1, 1613,   10,    1,    2,    1,    3,    1,    0,    0],\n",
       "       [  12,    6, 1355,   19,    7,    1,   11,    8,   11,    3],\n",
       "       [   4,    6,   11, 1347,    2,   17,    1,   19,   16,    8],\n",
       "       [   1,   11,   12,    1, 1248,    3,    4,    4,    1,   43],\n",
       "       [   8,    3,    3,   28,    3, 1214,   20,    4,    5,    9],\n",
       "       [   9,    3,    4,    0,    2,   15, 1295,    0,    3,    0],\n",
       "       [   6,   12,    7,    1,    7,    0,    0, 1377,    1,   33],\n",
       "       [  11,   13,   10,   14,   16,   44,    5,    4, 1217,   17],\n",
       "       [   4,    5,    8,    8,   26,    1,    0,   41,    7, 1273]],\n",
       "      dtype=int64)"
      ]
     },
     "execution_count": 49,
     "metadata": {},
     "output_type": "execute_result"
    }
   ],
   "source": [
    "# obtaining confusion matrix\n",
    "confusion_matrix(lbl_test,knn_predictions)"
   ]
  },
  {
   "cell_type": "code",
   "execution_count": 52,
   "id": "4e2b07a3-dc02-43b2-9a53-8546027f0580",
   "metadata": {},
   "outputs": [
    {
     "name": "stdout",
     "output_type": "stream",
     "text": [
      "              precision    recall  f1-score   support\n",
      "\n",
      "           0       0.96      0.98      0.97      1380\n",
      "           1       0.96      0.99      0.98      1632\n",
      "           2       0.95      0.95      0.95      1433\n",
      "           3       0.95      0.94      0.95      1431\n",
      "           4       0.95      0.94      0.95      1328\n",
      "           5       0.93      0.94      0.94      1297\n",
      "           6       0.96      0.97      0.97      1331\n",
      "           7       0.94      0.95      0.95      1444\n",
      "           8       0.97      0.90      0.93      1351\n",
      "           9       0.92      0.93      0.92      1373\n",
      "\n",
      "    accuracy                           0.95     14000\n",
      "   macro avg       0.95      0.95      0.95     14000\n",
      "weighted avg       0.95      0.95      0.95     14000\n",
      "\n"
     ]
    }
   ],
   "source": [
    "# obtaining classification report\n",
    "print(classification_report(lbl_test,knn_predictions))\n",
    "## accuracy of KNN is 95%"
   ]
  },
  {
   "cell_type": "markdown",
   "id": "7ddc301b-e53c-427e-9b68-ef1598b7ac5d",
   "metadata": {
    "tags": []
   },
   "source": [
    "#### Conclusion \n",
    "\n",
    "<code>on comparing accuracy of kNN and accuracy of Logistic Regression <br>\n",
    "kNN is much more accurate</code>"
   ]
  },
  {
   "cell_type": "markdown",
   "id": "3f6a2882-cf91-4999-b1b8-bc741a3ecbfa",
   "metadata": {},
   "source": [
    "### Naive Bayes on MNIST DATA"
   ]
  },
  {
   "cell_type": "code",
   "execution_count": 58,
   "id": "8cb0dbc1-9851-4cef-a0d8-88ce2fa406c2",
   "metadata": {},
   "outputs": [],
   "source": [
    "# imporitng Navie bayes\n",
    "from sklearn.naive_bayes import GaussianNB"
   ]
  },
  {
   "cell_type": "code",
   "execution_count": 59,
   "id": "5c438514-2c5b-442a-8146-f75c2f4d266a",
   "metadata": {},
   "outputs": [],
   "source": [
    "# creating Object\n",
    "nb_mnist_pca=GaussianNB()"
   ]
  },
  {
   "cell_type": "code",
   "execution_count": 60,
   "id": "216c4054-7195-4fd7-a035-7be7f36d4ff7",
   "metadata": {},
   "outputs": [
    {
     "data": {
      "text/plain": [
       "GaussianNB()"
      ]
     },
     "execution_count": 60,
     "metadata": {},
     "output_type": "execute_result"
    }
   ],
   "source": [
    "# fitting data to object\n",
    "nb_mnist_pca.fit(img_train_pca,lbl_train)"
   ]
  },
  {
   "cell_type": "code",
   "execution_count": 62,
   "id": "8d1246db-c5bf-49fa-82d0-6ac82b49b1c8",
   "metadata": {},
   "outputs": [],
   "source": [
    "# predicting with test data\n",
    "nb_predictions= nb_mnist_pca.predict(img_test_pca)"
   ]
  },
  {
   "cell_type": "code",
   "execution_count": 63,
   "id": "96511c90-f23d-47b1-9a70-94bc74e3fd2c",
   "metadata": {},
   "outputs": [
    {
     "data": {
      "text/plain": [
       "False    7575\n",
       "True     6425\n",
       "Name: class, dtype: int64"
      ]
     },
     "execution_count": 63,
     "metadata": {},
     "output_type": "execute_result"
    }
   ],
   "source": [
    "# checking predictions and actuals\n",
    "(nb_predictions==lbl_test).value_counts()"
   ]
  },
  {
   "cell_type": "code",
   "execution_count": 64,
   "id": "8483f7d4-dbbb-4181-8f0d-4ac14e777409",
   "metadata": {},
   "outputs": [
    {
     "data": {
      "text/plain": [
       "array([[1241,    0,   50,   12,   24,   45,    4,    0,    3,    1],\n",
       "       [  19, 1538,   13,    6,   44,    4,    0,    1,    6,    1],\n",
       "       [ 207,   22,  465,   82,  376,   57,   10,    2,  205,    7],\n",
       "       [ 773,   60,  110,  204,   74,   35,    0,   28,  123,   24],\n",
       "       [  13,   76,   95,    7, 1061,   39,    1,   14,    3,   19],\n",
       "       [ 437,   18,  102,   19,  227,  295,    6,    3,  177,   13],\n",
       "       [ 563,   10,   74,    7,  279,  113,  250,    0,   35,    0],\n",
       "       [ 312,   99,   25,   18,  326,   15,    0,  299,    6,  344],\n",
       "       [ 352,   91,   79,   13,  142,   42,    2,    1,  607,   22],\n",
       "       [ 245,  101,   48,    2,  446,    4,    0,   56,    6,  465]],\n",
       "      dtype=int64)"
      ]
     },
     "execution_count": 64,
     "metadata": {},
     "output_type": "execute_result"
    }
   ],
   "source": [
    "# confusion matrix for naive bayes\n",
    "confusion_matrix(lbl_test,nb_predictions)"
   ]
  },
  {
   "cell_type": "code",
   "execution_count": 66,
   "id": "9abfe864-b907-4041-ad75-c6e6fa737a33",
   "metadata": {},
   "outputs": [
    {
     "name": "stdout",
     "output_type": "stream",
     "text": [
      "              precision    recall  f1-score   support\n",
      "\n",
      "           0       0.30      0.90      0.45      1380\n",
      "           1       0.76      0.94      0.84      1632\n",
      "           2       0.44      0.32      0.37      1433\n",
      "           3       0.55      0.14      0.23      1431\n",
      "           4       0.35      0.80      0.49      1328\n",
      "           5       0.45      0.23      0.30      1297\n",
      "           6       0.92      0.19      0.31      1331\n",
      "           7       0.74      0.21      0.32      1444\n",
      "           8       0.52      0.45      0.48      1351\n",
      "           9       0.52      0.34      0.41      1373\n",
      "\n",
      "    accuracy                           0.46     14000\n",
      "   macro avg       0.56      0.45      0.42     14000\n",
      "weighted avg       0.56      0.46      0.43     14000\n",
      "\n"
     ]
    }
   ],
   "source": [
    "# getting classification report\n",
    "print(classification_report(lbl_test,nb_predictions))"
   ]
  },
  {
   "cell_type": "markdown",
   "id": "9abd4d46-8d86-4890-96f9-dc763f123524",
   "metadata": {},
   "source": [
    "#### conclusion\n",
    "Naive bayes is not working on this data. It's accuracy is very poor"
   ]
  },
  {
   "attachments": {
    "70476d9a-8fdb-4103-a350-a3baf426e481.png": {
     "image/png": "[encoded data removed]"
    }
   },
   "cell_type": "markdown",
   "id": "8e1c5479-9b3d-4cd7-9878-8aab74fc5341",
   "metadata": {},
   "source": [
    "![conclusion.png](attachment:70476d9a-8fdb-4103-a350-a3baf426e481.png)"
   ]
  },
  {
   "cell_type": "markdown",
   "id": "0f4dc537-466b-43bd-9513-b758ac0e87ea",
   "metadata": {},
   "source": [
    "KNN algorithm works best on mnist data"
   ]
  },
  {
   "cell_type": "code",
   "execution_count": 68,
   "id": "6d2ede5c-bec7-411e-bcb0-d6975e28c456",
   "metadata": {},
   "outputs": [],
   "source": [
    "from sklearn.svm import SVC"
   ]
  },
  {
   "cell_type": "code",
   "execution_count": null,
   "id": "8567c8a0-bcdc-4734-9ca0-172a1536733b",
   "metadata": {},
   "outputs": [],
   "source": []
  }
 ],
 "metadata": {
  "kernelspec": {
   "display_name": "Python 3 (ipykernel)",
   "language": "python",
   "name": "python3"
  },
  "language_info": {
   "codemirror_mode": {
    "name": "ipython",
    "version": 3
   },
   "file_extension": ".py",
   "mimetype": "text/x-python",
   "name": "python",
   "nbconvert_exporter": "python",
   "pygments_lexer": "ipython3",
   "version": "3.9.13"
  },
  "toc-showcode": false
 },
 "nbformat": 4,
 "nbformat_minor": 5
}
